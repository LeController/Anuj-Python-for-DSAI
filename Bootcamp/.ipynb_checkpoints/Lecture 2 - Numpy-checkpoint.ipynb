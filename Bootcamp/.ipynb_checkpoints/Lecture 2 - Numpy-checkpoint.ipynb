{
 "cells": [
  {
   "cell_type": "code",
   "execution_count": 5,
   "id": "2ef12814",
   "metadata": {},
   "outputs": [
    {
     "data": {
      "text/plain": [
       "array([[0.3142488 , 0.12665992, 0.14244039],\n",
       "       [0.91080333, 0.63667216, 0.9056621 ],\n",
       "       [0.85272692, 0.6471072 , 0.79768316]])"
      ]
     },
     "execution_count": 5,
     "metadata": {},
     "output_type": "execute_result"
    }
   ],
   "source": [
    "import numpy as np\n",
    "np.random.random((3,3))"
   ]
  },
  {
   "cell_type": "code",
   "execution_count": 26,
   "id": "6a74450a",
   "metadata": {},
   "outputs": [
    {
     "data": {
      "text/plain": [
       "[1, 2, 3, 4]"
      ]
     },
     "execution_count": 26,
     "metadata": {},
     "output_type": "execute_result"
    }
   ],
   "source": [
    "#Task 1\n",
    "#1 Declare a list of 1 to 4 using range()\n",
    "a = list(range(1,5))\n",
    "a"
   ]
  },
  {
   "cell_type": "code",
   "execution_count": 23,
   "id": "df7aed85",
   "metadata": {},
   "outputs": [
    {
     "data": {
      "text/plain": [
       "array([1., 2., 3., 4.], dtype=float32)"
      ]
     },
     "execution_count": 23,
     "metadata": {},
     "output_type": "execute_result"
    }
   ],
   "source": [
    "#2 Continuing, create numpy array from this list, with dtype='float32'\n",
    "anp = np.array((a), dtype='float32')\n",
    "anp"
   ]
  },
  {
   "cell_type": "code",
   "execution_count": 25,
   "id": "1ecabf1e",
   "metadata": {},
   "outputs": [
    {
     "data": {
      "text/plain": [
       "array([[0., 0., 0., 0., 0.],\n",
       "       [0., 0., 0., 0., 0.],\n",
       "       [0., 0., 0., 0., 0.]])"
      ]
     },
     "execution_count": 25,
     "metadata": {},
     "output_type": "execute_result"
    }
   ],
   "source": [
    "#3 Create an numpy array of size 3 by 5 using np.zeros\n",
    "np.zeros((3,5))"
   ]
  },
  {
   "cell_type": "code",
   "execution_count": 29,
   "id": "7c9c4c9e",
   "metadata": {},
   "outputs": [
    {
     "data": {
      "text/plain": [
       "array([[0.33333333, 0.33333333, 0.33333333],\n",
       "       [0.33333333, 0.33333333, 0.33333333]])"
      ]
     },
     "execution_count": 29,
     "metadata": {},
     "output_type": "execute_result"
    }
   ],
   "source": [
    "#4 Create an numpy array of size 2 by 3 with filled value 1 / 3\n",
    "np.full((2,3), 1/3)"
   ]
  },
  {
   "cell_type": "code",
   "execution_count": 31,
   "id": "d5d8df36",
   "metadata": {},
   "outputs": [
    {
     "data": {
      "text/plain": [
       "array([ 0. ,  2.5,  5. ,  7.5, 10. ])"
      ]
     },
     "execution_count": 31,
     "metadata": {},
     "output_type": "execute_result"
    }
   ],
   "source": [
    "#5 Create an array of 5 equal-distanced values for 0 to 10\n",
    "np.linspace(0,10, 5)"
   ]
  },
  {
   "cell_type": "code",
   "execution_count": 38,
   "id": "676ba207",
   "metadata": {},
   "outputs": [
    {
     "data": {
      "text/plain": [
       "array([0.001, 0.01 , 0.1  , 1.   ])"
      ]
     },
     "execution_count": 38,
     "metadata": {},
     "output_type": "execute_result"
    }
   ],
   "source": [
    "#6 Create an array of number for 0.001, 0.01, 0.1, 1 using np.logspace\n",
    "np.logspace(-3, 0, 4)"
   ]
  },
  {
   "cell_type": "code",
   "execution_count": 40,
   "id": "22ef8810",
   "metadata": {},
   "outputs": [
    {
     "data": {
      "text/plain": [
       "array([[1, 0, 0, 0],\n",
       "       [0, 2, 0, 0],\n",
       "       [0, 0, 3, 0],\n",
       "       [0, 0, 0, 4]])"
      ]
     },
     "execution_count": 40,
     "metadata": {},
     "output_type": "execute_result"
    }
   ],
   "source": [
    "#7 Create a diagonal matrix of list [1, 2, 3, 4]\n",
    "np.diag([1,2,3,4])"
   ]
  },
  {
   "cell_type": "code",
   "execution_count": 43,
   "id": "911121ba",
   "metadata": {},
   "outputs": [
    {
     "data": {
      "text/plain": [
       "array([[0.47678082, 0.44993053, 0.52617213, 0.37814659, 0.49483001],\n",
       "       [0.98790124, 0.43992333, 0.45710096, 0.58786983, 0.27243721],\n",
       "       [0.51284967, 0.30463441, 0.12071505, 0.20885108, 0.95917584],\n",
       "       [0.8964108 , 0.45423289, 0.50075756, 0.01417511, 0.05689448]])"
      ]
     },
     "execution_count": 43,
     "metadata": {},
     "output_type": "execute_result"
    }
   ],
   "source": [
    "#8 Create a random array of size 4 by 5 all filled with random values between 0 and 1\n",
    "np.random.random((4,5))"
   ]
  },
  {
   "cell_type": "code",
   "execution_count": 45,
   "id": "9f17b98b",
   "metadata": {},
   "outputs": [
    {
     "data": {
      "text/plain": [
       "array([[2, 4, 3, 3, 3],\n",
       "       [3, 4, 2, 4, 2],\n",
       "       [2, 4, 3, 4, 4],\n",
       "       [3, 3, 4, 3, 3]])"
      ]
     },
     "execution_count": 45,
     "metadata": {},
     "output_type": "execute_result"
    }
   ],
   "source": [
    "#9 Create a random array of size 4 by 5 all filled with integer random values between 2 and 5\n",
    "np.random.randint(2,5, (4,5))"
   ]
  },
  {
   "cell_type": "code",
   "execution_count": 47,
   "id": "f781ba66",
   "metadata": {},
   "outputs": [
    {
     "data": {
      "text/plain": [
       "array([[3.88814309, 2.53430375, 2.38600148, 3.69401266, 2.05304254],\n",
       "       [2.58487635, 4.58679632, 2.30502403, 4.96812752, 3.12771289],\n",
       "       [2.88559377, 3.89789997, 4.41964414, 4.69330854, 3.13313861],\n",
       "       [2.5026406 , 2.99321823, 4.46480915, 4.44781004, 2.23353012]])"
      ]
     },
     "execution_count": 47,
     "metadata": {},
     "output_type": "execute_result"
    }
   ],
   "source": [
    "#10 Create a random array of size 4 by 5 all filled with float random values between 2 and 5\n",
    "np.random.uniform(low=2, high=5, size=(4,5))"
   ]
  },
  {
   "cell_type": "code",
   "execution_count": 49,
   "id": "feae5900",
   "metadata": {
    "scrolled": true
   },
   "outputs": [
    {
     "data": {
      "text/plain": [
       "array([[6.3984574 , 4.8575929 , 4.87216136, 4.47924677, 3.30810399],\n",
       "       [3.31598623, 4.7800458 , 3.77499121, 5.87302622, 4.08486424],\n",
       "       [3.16339004, 4.22071057, 6.4517765 , 4.66197996, 6.7100493 ],\n",
       "       [5.92119869, 5.04042974, 4.66962887, 5.79557407, 4.60475026]])"
      ]
     },
     "execution_count": 49,
     "metadata": {},
     "output_type": "execute_result"
    }
   ],
   "source": [
    "#11 Create a random array of size 4 by 5 with mean = 5, and std = 1 following a gaussian (normal) distribution\n",
    "np.random.normal(5, 1, size=(4,5))"
   ]
  },
  {
   "cell_type": "code",
   "execution_count": 50,
   "id": "4fb2dbbe",
   "metadata": {},
   "outputs": [
    {
     "data": {
      "text/plain": [
       "array([[1., 0., 0., 0., 0.],\n",
       "       [0., 1., 0., 0., 0.],\n",
       "       [0., 0., 1., 0., 0.],\n",
       "       [0., 0., 0., 1., 0.],\n",
       "       [0., 0., 0., 0., 1.]])"
      ]
     },
     "execution_count": 50,
     "metadata": {},
     "output_type": "execute_result"
    }
   ],
   "source": [
    "#12 Create an identity matrix of size 5 by 5\n",
    "np.eye(5,5)"
   ]
  },
  {
   "cell_type": "code",
   "execution_count": 83,
   "id": "d269faea",
   "metadata": {},
   "outputs": [
    {
     "name": "stdout",
     "output_type": "stream",
     "text": [
      "[[4.88517048 3.18116419 1.64494018 1.13005427]\n",
      " [4.22775986 3.43161972 2.92860484 1.50052379]\n",
      " [4.71123183 2.734404   2.62258613 1.26891053]]\n"
     ]
    }
   ],
   "source": [
    "#Task 2\n",
    "#1 Create a numpy array of size 3 by 4 with random float values between 1 to 5\n",
    "np_array = np.random.uniform(low=1, high=5, size=(3,4))\n",
    "print(np_array)"
   ]
  },
  {
   "cell_type": "code",
   "execution_count": 84,
   "id": "90b48168",
   "metadata": {},
   "outputs": [
    {
     "data": {
      "text/plain": [
       "(3, 4)"
      ]
     },
     "execution_count": 84,
     "metadata": {},
     "output_type": "execute_result"
    }
   ],
   "source": [
    "#2 Continuing, print the shape of this array\n",
    "np_array.shape"
   ]
  },
  {
   "cell_type": "code",
   "execution_count": 85,
   "id": "c7c11fa1",
   "metadata": {},
   "outputs": [
    {
     "data": {
      "text/plain": [
       "array([4.88517048, 3.18116419, 1.64494018, 1.13005427])"
      ]
     },
     "execution_count": 85,
     "metadata": {},
     "output_type": "execute_result"
    }
   ],
   "source": [
    "#3 Continuing, access the first row of the array\n",
    "np_array[0]"
   ]
  },
  {
   "cell_type": "code",
   "execution_count": 86,
   "id": "ed1d4248",
   "metadata": {},
   "outputs": [
    {
     "data": {
      "text/plain": [
       "array([4.88517048, 4.22775986, 4.71123183])"
      ]
     },
     "execution_count": 86,
     "metadata": {},
     "output_type": "execute_result"
    }
   ],
   "source": [
    "#4 Continuing, access the first column of the array\n",
    "np_array[:,0]"
   ]
  },
  {
   "cell_type": "code",
   "execution_count": 87,
   "id": "e1c89737",
   "metadata": {},
   "outputs": [
    {
     "data": {
      "text/plain": [
       "2.9286048370015645"
      ]
     },
     "execution_count": 87,
     "metadata": {},
     "output_type": "execute_result"
    }
   ],
   "source": [
    "#5 Continuing, access the second row, and third column element\n",
    "np_array[1,2]"
   ]
  },
  {
   "cell_type": "code",
   "execution_count": 88,
   "id": "b592dbb6",
   "metadata": {},
   "outputs": [
    {
     "data": {
      "text/plain": [
       "array([[4.88517048, 3.18116419],\n",
       "       [4.22775986, 3.43161972],\n",
       "       [4.71123183, 2.734404  ]])"
      ]
     },
     "execution_count": 88,
     "metadata": {},
     "output_type": "execute_result"
    }
   ],
   "source": [
    "#6 Continuing, access the first two columns\n",
    "np_array[:,:2]"
   ]
  },
  {
   "cell_type": "code",
   "execution_count": 89,
   "id": "8da54b67",
   "metadata": {},
   "outputs": [
    {
     "data": {
      "text/plain": [
       "array([[4.88517048, 1.64494018],\n",
       "       [4.22775986, 2.92860484],\n",
       "       [4.71123183, 2.62258613]])"
      ]
     },
     "execution_count": 89,
     "metadata": {},
     "output_type": "execute_result"
    }
   ],
   "source": [
    "#7 Continuing, access the first and third columns using step\n",
    "np_array[:,0::2]"
   ]
  },
  {
   "cell_type": "code",
   "execution_count": 90,
   "id": "b9b4462a",
   "metadata": {},
   "outputs": [
    {
     "data": {
      "text/plain": [
       "array([[1.13005427, 1.64494018, 3.18116419, 4.88517048],\n",
       "       [1.50052379, 2.92860484, 3.43161972, 4.22775986],\n",
       "       [1.26891053, 2.62258613, 2.734404  , 4.71123183]])"
      ]
     },
     "execution_count": 90,
     "metadata": {},
     "output_type": "execute_result"
    }
   ],
   "source": [
    "#8 Continuing, print the whole matrix in reverse columns but not rows\n",
    "np_array[:,::-1]"
   ]
  },
  {
   "cell_type": "code",
   "execution_count": 91,
   "id": "58301e38",
   "metadata": {},
   "outputs": [
    {
     "name": "stdout",
     "output_type": "stream",
     "text": [
      "[[  4.88517048   3.18116419   1.64494018   1.13005427]\n",
      " [  4.22775986   3.43161972   2.92860484   1.50052379]\n",
      " [  4.71123183   2.734404     2.62258613 999.        ]]\n"
     ]
    }
   ],
   "source": [
    "#9 Change the third row, fourth column element (i.e., the last element) to 999\n",
    "np_array[2, 3] = 999\n",
    "print(np_array)"
   ]
  },
  {
   "cell_type": "code",
   "execution_count": 93,
   "id": "476c4300",
   "metadata": {
    "scrolled": true
   },
   "outputs": [
    {
     "name": "stdout",
     "output_type": "stream",
     "text": [
      "[[4.8925368  2.58306338 3.94200939 3.29766076]\n",
      " [2.58823155 2.68113723 1.69138145 3.37311958]\n",
      " [1.58721723 2.06838364 4.25311042 2.12144218]\n",
      " [4.28057305 4.68878899 3.3255107  2.06894676]\n",
      " [1.41365199 2.83624416 1.16514267 4.69057077]\n",
      " [3.75889194 3.47165038 4.49634403 2.75394793]\n",
      " [3.62583872 2.36432283 3.71158705 3.79798036]\n",
      " [2.92373071 2.36232313 4.55625027 2.70802855]\n",
      " [3.38646959 2.93835701 1.69844089 4.84287899]\n",
      " [2.53593492 4.98125169 2.28414648 4.14723821]\n",
      " [2.495524   3.45261955 4.80317887 2.90494947]\n",
      " [2.07268963 3.00220575 2.01104344 2.95087507]\n",
      " [3.23329724 2.79400811 4.07704091 4.06913366]\n",
      " [4.18920216 1.85361493 3.1638257  2.00220535]\n",
      " [4.93571906 3.09432102 2.50939022 2.80375697]\n",
      " [2.85932992 4.75444314 3.26823282 4.33231926]\n",
      " [4.00074705 1.64269197 3.43930281 2.07536201]\n",
      " [1.91869214 3.28821762 3.19207461 4.13373923]\n",
      " [1.58689822 1.29159224 2.16120201 2.39272547]\n",
      " [1.07712044 2.7824901  3.66507282 2.61737457]\n",
      " [1.74224844 1.36887676 2.75024669 4.27851442]\n",
      " [4.50659125 1.56501356 1.42172234 3.46298923]\n",
      " [3.61496315 4.55601063 3.24743686 2.44019482]\n",
      " [3.85642658 4.64781767 3.48960467 3.97179434]\n",
      " [2.54803181 2.21546495 2.94512452 4.96492404]\n",
      " [2.03515994 1.27794902 2.4144123  3.79573185]\n",
      " [4.68820678 4.56640863 3.6228607  1.90454011]\n",
      " [1.36255254 1.4291307  3.78889419 1.28121161]\n",
      " [1.94865182 1.8707     1.4049358  3.66552839]\n",
      " [1.99482925 4.55901055 1.63400438 3.98617304]\n",
      " [1.86039993 3.61761162 3.82204636 3.2138905 ]\n",
      " [3.0979764  1.8241176  2.64830427 1.60406839]\n",
      " [1.77778522 1.62451397 2.21489851 1.03248197]\n",
      " [2.64447397 1.24196726 4.9275187  2.31761113]\n",
      " [2.58791049 4.54741209 1.4071468  2.40856495]\n",
      " [1.0100794  1.44606541 2.63330615 1.89908517]\n",
      " [4.70177935 1.35637011 4.81329937 2.02843942]\n",
      " [1.07671038 3.14841201 3.44045228 2.23039885]\n",
      " [1.2911899  2.12611714 3.81688691 4.14311725]\n",
      " [4.92356545 4.16429059 4.17515862 2.74212756]\n",
      " [4.57508676 4.7931089  2.41348856 4.6866091 ]\n",
      " [1.63249514 3.40285598 3.61989374 4.82468592]\n",
      " [3.65588654 3.71505764 3.05528623 4.16035052]\n",
      " [3.98747662 2.11701682 3.46869588 2.99406733]\n",
      " [2.21882638 2.22760881 4.13272927 1.82425843]\n",
      " [4.20985076 4.64315227 2.27019273 4.14307359]\n",
      " [1.6256433  1.98963205 2.64713508 3.55177471]\n",
      " [3.84940162 2.47419205 1.06850515 1.54045656]\n",
      " [2.34704923 3.30984279 2.58399199 4.30905162]\n",
      " [4.53002682 4.73145365 1.12328492 1.31429233]\n",
      " [4.85509344 3.00465692 4.11520252 2.73931897]\n",
      " [3.47747233 1.10982647 2.21325198 3.56333306]\n",
      " [2.60689866 2.06453949 3.5140736  1.44086246]\n",
      " [3.35061331 2.58658288 4.77805683 3.79624613]\n",
      " [2.86560652 1.61108921 4.43221714 4.37400531]\n",
      " [2.54309607 1.03224152 4.6576903  2.48617928]\n",
      " [4.35129033 2.93304284 4.82910251 4.52628622]\n",
      " [4.36358418 1.79243704 3.39598179 3.37005547]\n",
      " [4.23712114 2.44734816 3.54581715 1.52459835]\n",
      " [2.25578596 4.1728488  3.89414123 4.11384987]\n",
      " [3.42302381 2.24340224 1.68218742 3.15765829]\n",
      " [4.62713394 1.90605099 3.22696973 2.10360188]\n",
      " [1.06767214 2.84412774 4.25930697 1.82528302]\n",
      " [2.98181588 4.45865167 2.92851769 4.20022635]\n",
      " [4.13565136 4.95989504 4.32840088 2.40838611]\n",
      " [4.56305166 4.16019937 1.45073781 4.84849298]\n",
      " [4.44223647 3.1940707  2.11824075 2.5466885 ]\n",
      " [2.23945813 3.95773752 4.96698699 2.17220139]\n",
      " [3.66141338 4.33510516 1.25048707 2.13213821]\n",
      " [4.53562988 3.16037916 3.24618661 3.20706725]\n",
      " [4.45496079 4.45944058 3.69648039 3.06623816]\n",
      " [3.82699971 4.30371837 3.23425621 1.09084223]\n",
      " [1.9440152  1.63867335 2.20365336 4.6417202 ]\n",
      " [2.12275722 1.9427528  2.60352829 3.32257786]\n",
      " [3.02308375 1.09884134 2.40276747 4.03647642]\n",
      " [2.1645049  2.83392125 1.58463374 3.9316562 ]\n",
      " [4.15129669 2.88230467 2.74984358 1.62627888]\n",
      " [2.27393376 3.03438068 3.8889131  1.00674062]\n",
      " [2.17736587 4.15457627 2.18911161 2.78969969]\n",
      " [1.12923308 2.80780328 2.03785594 2.54540313]\n",
      " [1.78378023 1.76973334 4.23058874 1.86664136]\n",
      " [3.56103054 1.45698255 4.51051304 3.01319729]\n",
      " [1.68261575 3.60558888 2.06188617 2.35552985]\n",
      " [2.85192578 3.22491827 3.90212409 4.10205677]\n",
      " [1.83478867 2.21961193 3.05289272 1.59374484]\n",
      " [3.48485237 1.92772521 3.44764091 2.96522521]\n",
      " [3.96893974 2.31219322 2.38399256 4.41042919]\n",
      " [2.5269073  4.35812746 1.20480883 2.21520596]\n",
      " [2.25678816 3.76397217 2.16875593 1.34528727]\n",
      " [2.46351081 1.71977196 2.154607   1.20020458]\n",
      " [1.90708941 3.90444244 1.48473424 2.79410295]\n",
      " [2.05499268 1.36933462 2.10628563 1.69948604]\n",
      " [4.71264245 3.97705572 2.92390043 2.68173403]\n",
      " [2.0027345  4.46427598 4.45933337 3.37566126]\n",
      " [3.9904494  1.31437524 2.42905245 4.71910827]\n",
      " [3.20663996 4.58152589 2.73082488 4.49401823]\n",
      " [3.67036407 4.78210229 1.08616958 2.84245864]\n",
      " [4.53391683 3.59850978 4.40294399 1.15962057]\n",
      " [3.67469217 1.76419493 4.49602098 3.44118354]\n",
      " [3.25156814 3.4140233  2.40701042 2.52738754]\n",
      " [2.99887595 2.30374635 1.24963034 1.05234233]\n",
      " [2.1124569  3.89325421 4.5717953  3.77900405]\n",
      " [4.90575952 3.32488063 1.4264563  3.17133718]\n",
      " [2.56523899 4.13848678 4.82633647 3.12893491]\n",
      " [4.88762098 3.41082373 2.21751615 4.11829476]\n",
      " [1.89410615 1.65252938 4.22736502 1.38930555]\n",
      " [4.99713114 4.41163698 3.62321434 2.35902227]\n",
      " [3.58278302 2.64973821 1.06117462 2.54529359]\n",
      " [4.33219797 1.72022765 1.43719688 4.30910881]\n",
      " [3.78914287 1.31788682 4.97803229 1.06684712]\n",
      " [2.38123234 3.94840967 3.76315354 3.27590521]\n",
      " [2.12167542 3.83543791 4.23468441 4.39785757]\n",
      " [4.92459527 2.52379773 2.16524649 1.57277243]\n",
      " [2.79579262 4.01961953 1.65332701 2.6205014 ]\n",
      " [3.56103335 3.99126879 4.91781694 3.67242048]\n",
      " [4.01222914 2.73909073 2.01907035 1.43719548]\n",
      " [1.44770552 2.27837056 3.0477733  1.8241125 ]\n",
      " [4.4340363  2.65099347 1.23804262 4.26074812]\n",
      " [2.50026681 3.82088394 1.57435449 1.35152586]\n",
      " [4.24159035 4.01995258 2.40495688 2.70900878]\n",
      " [1.48886221 1.53781881 3.41327335 2.45185212]\n",
      " [2.06235949 3.32692503 1.19228724 1.4734271 ]\n",
      " [3.38890539 2.06258976 4.7587332  1.26558913]\n",
      " [1.91425376 4.53565042 2.3419096  2.00275242]\n",
      " [2.44786849 4.97679381 1.38431119 2.42801591]\n",
      " [1.59717546 1.74565438 1.85555029 1.75795605]\n",
      " [2.30374495 2.11175951 1.52043132 2.95546098]\n",
      " [2.6712937  3.76486591 2.69290146 3.80374797]\n",
      " [1.698602   1.21265497 1.28452107 4.94326674]\n",
      " [4.5184257  1.64558575 3.22366323 3.0593132 ]\n",
      " [1.80918824 3.03089307 1.66154747 2.32793415]\n",
      " [3.67717639 2.55805158 1.96613563 3.12839387]\n",
      " [4.78033931 1.40563331 2.7827606  1.72784379]\n",
      " [4.98277902 4.61517281 3.10087111 4.60193642]\n",
      " [1.76151486 4.63527064 4.48986268 4.84251661]\n",
      " [3.20306335 3.85487935 1.79168336 4.54534608]\n",
      " [4.19756798 2.55809515 1.12940602 1.24241388]\n",
      " [1.74244381 3.50235004 2.75338693 3.12311453]\n",
      " [1.44207367 1.05472526 3.26691522 2.30919355]\n",
      " [3.48840416 1.98172258 1.27254704 4.51282761]\n",
      " [3.84758635 3.83433499 1.89754461 3.22956232]\n",
      " [1.68109162 4.32209669 3.68996185 1.81731449]\n",
      " [1.26610833 4.84025141 3.2871511  3.32977985]\n",
      " [2.33712357 4.82882774 2.23613196 2.79197793]\n",
      " [1.95133862 3.45211155 2.09390026 3.09960642]\n",
      " [1.16716191 4.00818271 2.51476475 3.46925365]\n",
      " [4.20495337 2.25352525 3.86718621 1.90457851]\n",
      " [4.50338683 4.04079485 1.90610492 3.48521233]\n",
      " [2.36307962 4.78598772 4.40348961 1.30054469]\n",
      " [1.73967877 4.54897397 2.35597351 3.73561049]\n",
      " [2.35901733 3.42801448 2.13102713 4.68635908]\n",
      " [4.2446027  4.48132137 4.3316825  2.90540884]\n",
      " [4.90606219 2.83919231 3.09970977 4.38066775]\n",
      " [3.10619879 1.79730047 3.58118214 1.2982555 ]\n",
      " [1.30000381 3.5109135  3.57578889 2.74564189]\n",
      " [1.44267871 2.79385922 1.98383187 1.50475305]\n",
      " [1.60283044 4.97795899 3.51374675 4.66357855]\n",
      " [3.33608201 4.52851758 3.72112954 1.51592119]\n",
      " [2.21697632 1.87984315 1.4946289  2.77213654]\n",
      " [3.89726326 1.04091031 1.33643347 3.57907183]\n",
      " [1.26078923 2.82125247 1.39383522 1.23022973]\n",
      " [4.08378795 1.96512032 4.22017144 1.98093986]\n",
      " [1.38104489 2.25205818 3.57503088 2.01486822]\n",
      " [4.41914436 1.54847582 4.50439862 3.36939293]\n",
      " [2.6842388  1.48686945 4.15469502 2.56762589]\n",
      " [3.10294605 4.76612817 4.22843225 2.07669387]\n",
      " [2.84339273 1.10294705 4.61516766 2.44416226]\n",
      " [2.41559301 3.58314042 4.27892554 4.55166535]\n",
      " [4.23198193 3.59289709 2.10213934 3.9342934 ]\n",
      " [4.05585755 4.9405387  1.64173925 1.14658978]\n",
      " [2.71619321 3.40482047 4.59650117 3.15880782]\n",
      " [1.45754708 4.29940522 4.78813814 2.48824678]\n",
      " [4.42090345 4.95904105 4.47778638 2.14050304]\n",
      " [3.13941408 1.54701178 3.43558805 1.41579376]\n",
      " [4.45990376 4.58105021 1.5682944  1.72049756]\n",
      " [2.28673932 3.89661697 2.81661509 1.99455113]\n",
      " [1.18464607 1.19117825 1.902861   2.38215151]\n",
      " [4.62909968 2.7919883  1.30048213 2.63965238]\n",
      " [2.50363233 3.44145807 3.31967496 4.66158469]\n",
      " [4.97909432 2.60759661 3.45038692 2.53715578]\n",
      " [4.48765853 1.46157365 2.56409381 2.53875098]\n",
      " [3.00728668 3.28398231 3.71668612 1.53912239]\n",
      " [3.79081714 3.88145515 4.30825941 1.34339133]\n",
      " [2.47445404 4.18624905 2.36040344 2.62900391]\n",
      " [2.12379966 4.25415618 3.03370821 1.68609188]\n",
      " [3.16239529 1.26032846 2.75349755 3.33934059]\n",
      " [2.17835379 3.52059295 1.08402631 3.66208574]\n",
      " [3.12641321 4.98636423 1.75638502 3.87751886]\n",
      " [4.60242696 2.33811078 3.85385309 4.75831857]\n",
      " [1.30352443 1.41149508 4.37402302 4.69860849]\n",
      " [3.27170226 1.70928618 1.74910796 4.06946515]\n",
      " [3.80770055 3.55432905 2.37213297 2.86060554]\n",
      " [2.66824589 2.86234512 2.57061251 3.87717411]\n",
      " [4.18005622 1.22852915 1.77123236 3.26892074]\n",
      " [1.14970359 2.25450832 1.1749758  3.46603198]\n",
      " [3.77373129 1.46541756 1.63157823 1.09968481]\n",
      " [1.76687686 1.96552096 2.03935854 1.72775782]\n",
      " [1.26814525 3.32223216 4.48695892 1.39900636]\n",
      " [1.13406008 1.67581767 3.24974311 2.98132974]\n",
      " [3.19912493 4.6717065  3.88068449 3.02641344]]\n"
     ]
    }
   ],
   "source": [
    "#Task 3\n",
    "#1 Create a numpy array of size 200 by 4 with random float values between 1 to 5 and name it Data\n",
    "Data = np.random.uniform(low=1, high=5, size=(200,4))\n",
    "print(Data)"
   ]
  },
  {
   "cell_type": "code",
   "execution_count": 103,
   "id": "8c814821",
   "metadata": {},
   "outputs": [
    {
     "name": "stdout",
     "output_type": "stream",
     "text": [
      "(200, 3)\n",
      "(200,)\n"
     ]
    }
   ],
   "source": [
    "#2 Split the array into two numpy arrays, X and y, where the X contains the first 3 columns and y contains the last column.\n",
    "X = Data[:,0:3]\n",
    "print(X.shape)\n",
    "y = Data[:,3]\n",
    "print(y.shape)"
   ]
  },
  {
   "cell_type": "code",
   "execution_count": 109,
   "id": "9cbd3215",
   "metadata": {
    "scrolled": true
   },
   "outputs": [
    {
     "name": "stdout",
     "output_type": "stream",
     "text": [
      "(140, 3)\n",
      "(140,)\n",
      "(60, 3)\n",
      "(60,)\n"
     ]
    }
   ],
   "source": [
    "#3 Continuing, split the first 70% of the 200 rows of X and y and call them X_train and y_train. Similarly, populate X_test and y_test using same corresponding columns but 30\\% rest of the data.\n",
    "X_train = X[:140]\n",
    "print(X_train.shape)\n",
    "y_train = y[:140]\n",
    "print(y_train.shape)\n",
    "X_test = X[140:200]\n",
    "print(X_test.shape)\n",
    "y_test = y[140:200]\n",
    "print(y_test.shape)"
   ]
  },
  {
   "cell_type": "code",
   "execution_count": 110,
   "id": "b27ae27f",
   "metadata": {},
   "outputs": [
    {
     "name": "stdout",
     "output_type": "stream",
     "text": [
      "(140, 3)\n",
      "(140,)\n"
     ]
    }
   ],
   "source": [
    "#1 Print the shape of the X_train and y_train. The first array should have shape (0.7 200, 3); the second array is (0.7 200, 1)\n",
    "print(X_train.shape)\n",
    "print(y_train.shape)"
   ]
  },
  {
   "cell_type": "code",
   "execution_count": 111,
   "id": "9ccfb8e4",
   "metadata": {},
   "outputs": [
    {
     "name": "stdout",
     "output_type": "stream",
     "text": [
      "140 3\n"
     ]
    }
   ],
   "source": [
    "#2 Assign m = X_train.shape[0], and n = X_train.shape[1], where $m$ is number of samples, and $n$ is number of features\n",
    "m = X_train.shape[0]\n",
    "n = X_train.shape[1]\n",
    "print(m, n)"
   ]
  },
  {
   "cell_type": "code",
   "execution_count": 128,
   "id": "3aa88264",
   "metadata": {},
   "outputs": [
    {
     "name": "stdout",
     "output_type": "stream",
     "text": [
      "117\n",
      "[4.4340363  2.65099347 1.23804262]\n"
     ]
    },
    {
     "data": {
      "text/plain": [
       "(1, 3)"
      ]
     },
     "execution_count": 128,
     "metadata": {},
     "output_type": "execute_result"
    }
   ],
   "source": [
    "#3 Randomly select one row of X_train by using np.random.randint to select the random row and called it X_i. Reshape it so that it has shape of (1, n)\n",
    "random_index = np.random.randint(140)\n",
    "print(random_index)\n",
    "X_i = X_train[random_index]\n",
    "print(X_i)\n",
    "X_i = X_i.reshape(1,-1)\n",
    "X_i.shape"
   ]
  },
  {
   "cell_type": "code",
   "execution_count": 131,
   "id": "83c0ec2f",
   "metadata": {},
   "outputs": [
    {
     "name": "stdout",
     "output_type": "stream",
     "text": [
      "(50, 3)\n"
     ]
    }
   ],
   "source": [
    "#4 Randomly select 50 contiguous rows from X_train by using np.random.randint to select a random starting row and called it mini_batch_X. If the index exceeds, simply grab whatever left.\n",
    "random_index = np.random.randint(140)\n",
    "mini_batch_x = X_train[random_index:random_index+50]\n",
    "mini_batch_x\n",
    "print(mini_batch_x.shape)"
   ]
  },
  {
   "cell_type": "code",
   "execution_count": 140,
   "id": "9a945774",
   "metadata": {},
   "outputs": [
    {
     "name": "stdout",
     "output_type": "stream",
     "text": [
      "(14, 3)\n",
      "(14, 3)\n",
      "(14, 3)\n",
      "(14, 3)\n",
      "(14, 3)\n",
      "(14, 3)\n",
      "(14, 3)\n",
      "(14, 3)\n",
      "(14, 3)\n",
      "(14, 3)\n"
     ]
    }
   ],
   "source": [
    "#5 Write a for loop that breaks the X_train row-wise into 10 equal pieces without overlap, and simply print their shape\n",
    "interval = X_train.shape[0]/10\n",
    "for i in range(0, X_train.shape[0], int(interval)):\n",
    "    batch = X_train[i:i+int(interval)]\n",
    "    print(batch.shape)\n",
    "    "
   ]
  },
  {
   "cell_type": "code",
   "execution_count": 146,
   "id": "366060f1",
   "metadata": {},
   "outputs": [
    {
     "data": {
      "text/plain": [
       "(3,)"
      ]
     },
     "execution_count": 146,
     "metadata": {},
     "output_type": "execute_result"
    }
   ],
   "source": [
    "#6 Create an np.zero array called theta with shape of (n, )\n",
    "theta = np.zeros(n,)\n",
    "theta\n",
    "theta.shape"
   ]
  },
  {
   "cell_type": "code",
   "execution_count": 154,
   "id": "4223aa19",
   "metadata": {},
   "outputs": [
    {
     "name": "stdout",
     "output_type": "stream",
     "text": [
      "(140,)\n"
     ]
    }
   ],
   "source": [
    "#7 Perform a dot product between X_train and theta and assign this value to a variable called yhat\n",
    "yhat = np.dot(X_train, theta)\n",
    "\n",
    "print(yhat.shape)"
   ]
  },
  {
   "cell_type": "code",
   "execution_count": 158,
   "id": "fd24c09d",
   "metadata": {},
   "outputs": [
    {
     "data": {
      "text/plain": [
       "(140,)"
      ]
     },
     "execution_count": 158,
     "metadata": {},
     "output_type": "execute_result"
    }
   ],
   "source": [
    "#1 Create another variable called y with the same shape as yhat, and populate it with random values from 0 to 1.\n",
    "y = np.random.uniform(0,1,(yhat.shape))\n",
    "y.shape"
   ]
  },
  {
   "cell_type": "code",
   "execution_count": 161,
   "id": "a99b8473",
   "metadata": {},
   "outputs": [
    {
     "data": {
      "text/plain": [
       "0.3442370398914289"
      ]
     },
     "execution_count": 161,
     "metadata": {},
     "output_type": "execute_result"
    }
   ],
   "source": [
    "#2 Calculate the following $$ \\frac{\\sum\\limits_{i=1}^{m} (y_i - \\hat{y_i})^2}{m} $$\n",
    "m = yhat.shape[0]\n",
    "(((yhat-y)**2).sum())/m"
   ]
  },
  {
   "cell_type": "code",
   "execution_count": 179,
   "id": "5786e2c8",
   "metadata": {},
   "outputs": [
    {
     "data": {
      "text/plain": [
       "(140, 4)"
      ]
     },
     "execution_count": 179,
     "metadata": {},
     "output_type": "execute_result"
    }
   ],
   "source": [
    "#Task 4\n",
    "#1 From the above X_train from previous task, using concatenation, add a column of 1s along axis=1 and call it intercept\n",
    "\n",
    "ones_ = np.ones((X_train.shape[0], 1))\n",
    "intercept = np.concatenate((X_train, ones_), axis=1 )\n",
    "intercept.shape\n"
   ]
  },
  {
   "cell_type": "code",
   "execution_count": 183,
   "id": "f55f8f2b",
   "metadata": {},
   "outputs": [
    {
     "data": {
      "text/plain": [
       "(4, 4)"
      ]
     },
     "execution_count": 183,
     "metadata": {},
     "output_type": "execute_result"
    }
   ],
   "source": [
    "#2 Create a theta of shape (n + 1, 4), with random values between 0 and 1\n",
    "theta = np.random.uniform(0,1,(n+1,4))\n",
    "theta.shape"
   ]
  },
  {
   "cell_type": "code",
   "execution_count": 188,
   "id": "fa18e10e",
   "metadata": {},
   "outputs": [
    {
     "name": "stdout",
     "output_type": "stream",
     "text": [
      "(140, 4)\n"
     ]
    }
   ],
   "source": [
    "#3 Perform a dot product between X_train and theta, and assign this value to a variable called hot_encoded_yhat\n",
    "hot_encoded_yhat = intercept @ theta\n",
    "print(hot_encoded_yhat.shape)"
   ]
  },
  {
   "cell_type": "code",
   "execution_count": 191,
   "id": "c6cf281b",
   "metadata": {},
   "outputs": [
    {
     "data": {
      "text/plain": [
       "array([0.00178571, 0.00178571, 0.00178571, 0.00178571])"
      ]
     },
     "execution_count": 191,
     "metadata": {},
     "output_type": "execute_result"
    }
   ],
   "source": [
    "#4 Continuing, using broadcasting and vectorization, for each value (here I use example as value1) in hot_encoded_yhat, perform the following calculations.\n",
    "hot_encoded_yhat = np.exp(hot_encoded_yhat)/np.sum(np.exp(hot_encoded_yhat))\n",
    "hot_encoded_yhat[1]"
   ]
  },
  {
   "cell_type": "code",
   "execution_count": 192,
   "id": "90970535",
   "metadata": {},
   "outputs": [
    {
     "name": "stdout",
     "output_type": "stream",
     "text": [
      "(140,)\n"
     ]
    },
    {
     "data": {
      "text/plain": [
       "array([1, 1, 1, 1, 1, 1, 1, 1, 1, 1, 1, 1, 1, 1, 1, 1, 1, 1, 1, 1, 1, 1,\n",
       "       1, 1, 1, 1, 1, 1, 1, 1, 1, 1, 1, 1, 1, 1, 1, 1, 1, 1, 1, 1, 1, 1,\n",
       "       1, 1, 1, 1, 1, 1, 1, 1, 1, 1, 1, 1, 1, 1, 1, 1, 1, 1, 1, 1, 1, 1,\n",
       "       1, 1, 1, 1, 1, 1, 1, 1, 1, 1, 1, 1, 1, 1, 1, 1, 1, 1, 1, 1, 1, 1,\n",
       "       1, 1, 1, 1, 1, 1, 1, 1, 1, 1, 1, 1, 1, 1, 1, 1, 1, 1, 1, 1, 1, 1,\n",
       "       1, 1, 1, 1, 1, 1, 1, 1, 1, 1, 1, 1, 1, 1, 1, 1, 1, 1, 1, 1, 1, 1,\n",
       "       1, 1, 1, 1, 1, 1, 1, 1], dtype=int64)"
      ]
     },
     "execution_count": 192,
     "metadata": {},
     "output_type": "execute_result"
    }
   ],
   "source": [
    "#5 Create a variable called yhat which is equal to the np.argmax of hot_encoded_yhat along axis=1. That is, yhat has the shape of (X_train.shape[0], ). For example, if the first row of hot_encoded_yhat is [0.1, 0.2, 0.3, 0.4], since the fourth value is the biggest, the value will be its index which is 3.\n",
    "yhat = np.argmax(hot_encoded_yhat, axis=1)\n",
    "print(yhat.shape)\n",
    "yhat"
   ]
  },
  {
   "cell_type": "code",
   "execution_count": 195,
   "id": "40632d1c",
   "metadata": {},
   "outputs": [
    {
     "data": {
      "text/plain": [
       "(140,)"
      ]
     },
     "execution_count": 195,
     "metadata": {},
     "output_type": "execute_result"
    }
   ],
   "source": [
    "#6 Create a variable called y, containing shape of (X_train.shape[0], ) but with random int values from [0, 1, 2, 3]\n",
    "y = np.random.randint(0,4,(X_train.shape[0], ))\n",
    "y.shape"
   ]
  },
  {
   "cell_type": "code",
   "execution_count": 216,
   "id": "5a050258",
   "metadata": {},
   "outputs": [
    {
     "data": {
      "text/plain": [
       "4"
      ]
     },
     "execution_count": 216,
     "metadata": {},
     "output_type": "execute_result"
    }
   ],
   "source": [
    "#7 Assign a variable n_classses equal to the number of unique values in y\n",
    "n_classes = len(np.unique(y))\n",
    "n_classes"
   ]
  },
  {
   "cell_type": "code",
   "execution_count": 232,
   "id": "ac199c0d",
   "metadata": {},
   "outputs": [
    {
     "name": "stdout",
     "output_type": "stream",
     "text": [
      "[False  True False False False False  True False False  True False False\n",
      " False False False  True False False False False False False  True  True\n",
      " False False False False  True False False False False  True False False\n",
      "  True False False False  True False False False False  True  True  True\n",
      " False False  True False False False False False False  True  True False\n",
      " False False False False False False  True False False False False False\n",
      "  True False False False False False False False False False False False\n",
      " False False False False False  True False False False False False False\n",
      "  True False False False  True  True False False False False  True False\n",
      " False  True False  True  True False  True False  True False False False\n",
      "  True  True False False False  True False  True False False False False\n",
      " False  True False False False False False False]\n",
      "0.2357142857142857\n"
     ]
    }
   ],
   "source": [
    "#Task 5 \n",
    "#1 Take the above variables yhat and y, sum up the counts when their corresponding value are the same. Then divide this sum by $m$. Called this variable accuracy\n",
    "print(yhat == y)\n",
    "accuracy = ((yhat == y).sum())/m\n",
    "print(accuracy)"
   ]
  },
  {
   "cell_type": "code",
   "execution_count": 241,
   "id": "ca9dfd74",
   "metadata": {},
   "outputs": [
    {
     "name": "stdout",
     "output_type": "stream",
     "text": [
      "[[0. 0. 0. 0.]\n",
      " [0. 0. 0. 0.]\n",
      " [0. 0. 0. 0.]\n",
      " [0. 0. 0. 0.]\n",
      " [0. 0. 0. 0.]\n",
      " [0. 0. 0. 0.]\n",
      " [0. 0. 0. 0.]\n",
      " [0. 0. 0. 0.]\n",
      " [0. 0. 0. 0.]\n",
      " [0. 0. 0. 0.]\n",
      " [0. 0. 0. 0.]\n",
      " [0. 0. 0. 0.]\n",
      " [0. 0. 0. 0.]\n",
      " [0. 0. 0. 0.]\n",
      " [0. 0. 0. 0.]\n",
      " [0. 0. 0. 0.]\n",
      " [0. 0. 0. 0.]\n",
      " [0. 0. 0. 0.]\n",
      " [0. 0. 0. 0.]\n",
      " [0. 0. 0. 0.]\n",
      " [0. 0. 0. 0.]\n",
      " [0. 0. 0. 0.]\n",
      " [0. 0. 0. 0.]\n",
      " [0. 0. 0. 0.]\n",
      " [0. 0. 0. 0.]\n",
      " [0. 0. 0. 0.]\n",
      " [0. 0. 0. 0.]\n",
      " [0. 0. 0. 0.]\n",
      " [0. 0. 0. 0.]\n",
      " [0. 0. 0. 0.]\n",
      " [0. 0. 0. 0.]\n",
      " [0. 0. 0. 0.]\n",
      " [0. 0. 0. 0.]\n",
      " [0. 0. 0. 0.]\n",
      " [0. 0. 0. 0.]\n",
      " [0. 0. 0. 0.]\n",
      " [0. 0. 0. 0.]\n",
      " [0. 0. 0. 0.]\n",
      " [0. 0. 0. 0.]\n",
      " [0. 0. 0. 0.]\n",
      " [0. 0. 0. 0.]\n",
      " [0. 0. 0. 0.]\n",
      " [0. 0. 0. 0.]\n",
      " [0. 0. 0. 0.]\n",
      " [0. 0. 0. 0.]\n",
      " [0. 0. 0. 0.]\n",
      " [0. 0. 0. 0.]\n",
      " [0. 0. 0. 0.]\n",
      " [0. 0. 0. 0.]\n",
      " [0. 0. 0. 0.]\n",
      " [0. 0. 0. 0.]\n",
      " [0. 0. 0. 0.]\n",
      " [0. 0. 0. 0.]\n",
      " [0. 0. 0. 0.]\n",
      " [0. 0. 0. 0.]\n",
      " [0. 0. 0. 0.]\n",
      " [0. 0. 0. 0.]\n",
      " [0. 0. 0. 0.]\n",
      " [0. 0. 0. 0.]\n",
      " [0. 0. 0. 0.]\n",
      " [0. 0. 0. 0.]\n",
      " [0. 0. 0. 0.]\n",
      " [0. 0. 0. 0.]\n",
      " [0. 0. 0. 0.]\n",
      " [0. 0. 0. 0.]\n",
      " [0. 0. 0. 0.]\n",
      " [0. 0. 0. 0.]\n",
      " [0. 0. 0. 0.]\n",
      " [0. 0. 0. 0.]\n",
      " [0. 0. 0. 0.]\n",
      " [0. 0. 0. 0.]\n",
      " [0. 0. 0. 0.]\n",
      " [0. 0. 0. 0.]\n",
      " [0. 0. 0. 0.]\n",
      " [0. 0. 0. 0.]\n",
      " [0. 0. 0. 0.]\n",
      " [0. 0. 0. 0.]\n",
      " [0. 0. 0. 0.]\n",
      " [0. 0. 0. 0.]\n",
      " [0. 0. 0. 0.]\n",
      " [0. 0. 0. 0.]\n",
      " [0. 0. 0. 0.]\n",
      " [0. 0. 0. 0.]\n",
      " [0. 0. 0. 0.]\n",
      " [0. 0. 0. 0.]\n",
      " [0. 0. 0. 0.]\n",
      " [0. 0. 0. 0.]\n",
      " [0. 0. 0. 0.]\n",
      " [0. 0. 0. 0.]\n",
      " [0. 0. 0. 0.]\n",
      " [0. 0. 0. 0.]\n",
      " [0. 0. 0. 0.]\n",
      " [0. 0. 0. 0.]\n",
      " [0. 0. 0. 0.]\n",
      " [0. 0. 0. 0.]\n",
      " [0. 0. 0. 0.]\n",
      " [0. 0. 0. 0.]\n",
      " [0. 0. 0. 0.]\n",
      " [0. 0. 0. 0.]\n",
      " [0. 0. 0. 0.]\n",
      " [0. 0. 0. 0.]\n",
      " [0. 0. 0. 0.]\n",
      " [0. 0. 0. 0.]\n",
      " [0. 0. 0. 0.]\n",
      " [0. 0. 0. 0.]\n",
      " [0. 0. 0. 0.]\n",
      " [0. 0. 0. 0.]\n",
      " [0. 0. 0. 0.]\n",
      " [0. 0. 0. 0.]\n",
      " [0. 0. 0. 0.]\n",
      " [0. 0. 0. 0.]\n",
      " [0. 0. 0. 0.]\n",
      " [0. 0. 0. 0.]\n",
      " [0. 0. 0. 0.]\n",
      " [0. 0. 0. 0.]\n",
      " [0. 0. 0. 0.]\n",
      " [0. 0. 0. 0.]\n",
      " [0. 0. 0. 0.]\n",
      " [0. 0. 0. 0.]\n",
      " [0. 0. 0. 0.]\n",
      " [0. 0. 0. 0.]\n",
      " [0. 0. 0. 0.]\n",
      " [0. 0. 0. 0.]\n",
      " [0. 0. 0. 0.]\n",
      " [0. 0. 0. 0.]\n",
      " [0. 0. 0. 0.]\n",
      " [0. 0. 0. 0.]\n",
      " [0. 0. 0. 0.]\n",
      " [0. 0. 0. 0.]\n",
      " [0. 0. 0. 0.]\n",
      " [0. 0. 0. 0.]\n",
      " [0. 0. 0. 0.]\n",
      " [0. 0. 0. 0.]\n",
      " [0. 0. 0. 0.]\n",
      " [0. 0. 0. 0.]\n",
      " [0. 0. 0. 0.]\n",
      " [0. 0. 0. 0.]\n",
      " [0. 0. 0. 0.]\n",
      " [0. 0. 0. 0.]\n",
      " [0. 0. 0. 0.]]\n"
     ]
    },
    {
     "data": {
      "text/plain": [
       "array([1., 0., 0., 0.])"
      ]
     },
     "execution_count": 241,
     "metadata": {},
     "output_type": "execute_result"
    }
   ],
   "source": [
    "#2 Let's practice masking. Convert y into hot_encoded_y matrix of shape (X_train.shape[0], 4), where the column will be one according to its value, and other columns will be zero. For example, if the first row is 1, then it will become 0 1 0 0. If the second row is 2, then it will become 0 0 1 0\n",
    "m = X_train.shape[0]\n",
    "n = 4\n",
    "hot_encoded_y = np.zeros((m,n))\n",
    "print(hot_encoded_y)\n",
    "for _class in range(n):\n",
    "    cond = y == _class\n",
    "    hot_encoded_y[np.where(cond), _class] = 1\n",
    "\n",
    "hot_encoded_y[0]\n"
   ]
  },
  {
   "cell_type": "code",
   "execution_count": null,
   "id": "0d0732d6",
   "metadata": {},
   "outputs": [],
   "source": [
    "#3 Grab the data from data = np.genfromtxt('../data/perceptron.csv', delimiter=',', skip_header=1)\n"
   ]
  }
 ],
 "metadata": {
  "kernelspec": {
   "display_name": "pythonDSAI",
   "language": "python",
   "name": "pythondsai"
  },
  "language_info": {
   "codemirror_mode": {
    "name": "ipython",
    "version": 3
   },
   "file_extension": ".py",
   "mimetype": "text/x-python",
   "name": "python",
   "nbconvert_exporter": "python",
   "pygments_lexer": "ipython3",
   "version": "3.8.3"
  }
 },
 "nbformat": 4,
 "nbformat_minor": 5
}
