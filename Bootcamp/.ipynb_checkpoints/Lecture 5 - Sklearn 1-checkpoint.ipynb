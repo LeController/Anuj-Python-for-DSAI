{
 "cells": [
  {
   "cell_type": "code",
   "execution_count": 4,
   "id": "3df24716-24e7-42d7-bb6d-c0d4624f9859",
   "metadata": {},
   "outputs": [],
   "source": [
    "#Task 1\n",
    "import numpy as np\n",
    "import pandas as pd\n",
    "import matplotlib as mpl\n",
    "from sklearn.linear_model import LinearRegression\n",
    "import sklearn\n",
    "from sklearn import datasets"
   ]
  },
  {
   "cell_type": "code",
   "execution_count": 63,
   "id": "da0408c7-2c46-4ee2-bcc0-a3d4e89e61ad",
   "metadata": {},
   "outputs": [
    {
     "name": "stdout",
     "output_type": "stream",
     "text": [
      "y_test.shape = (152,) and y_pred.shape = (152,)\n",
      "y=-0.15x + 31.73\n",
      "MSE = 30.70\n",
      "R^2 = 0.677\n"
     ]
    }
   ],
   "source": [
    "X,y = datasets.load_boston(return_X_y=True)\n",
    "X_train, X_test, y_train, y_test = sklearn.model_selection.train_test_split(X,y,test_size=0.3,random_state=5)\n",
    "model = LinearRegression(fit_intercept = True)\n",
    "model.fit(X_train, y_train)\n",
    "y_pred = model.predict(X_test)\n",
    "print(f\"y_test.shape = {y_test.shape} and y_pred.shape = {y_pred.shape}\")\n",
    "\n",
    "print(f\"y={model.coef_[0]:.2}x + {model.intercept_:.4}\")\n",
    "print(f\"MSE = {sklearn.metrics.mean_squared_error(y_test, y_pred):.2f}\")\n",
    "print(f\"R^2 = {sklearn.metrics.r2_score(y_test, y_pred):.3}\")"
   ]
  },
  {
   "cell_type": "code",
   "execution_count": 78,
   "id": "ba730227-b210-4eb4-852e-c6e7b7175f0b",
   "metadata": {},
   "outputs": [
    {
     "name": "stdout",
     "output_type": "stream",
     "text": [
      "y_test.shape = (171,) and y_pred.shape = (171,)\n",
      "MSE = 0.05\n",
      "R^2 = 0.796\n",
      "Accuracy Score = 0.95\n"
     ]
    }
   ],
   "source": [
    "from sklearn.naive_bayes import GaussianNB\n",
    "\n",
    "X, y = datasets.load_breast_cancer(return_X_y=True)\n",
    "X_train, X_test, y_train, y_test = sklearn.model_selection.train_test_split(X,y,test_size=0.3,random_state=5)\n",
    "model2 = GaussianNB()\n",
    "model2.fit(X_train, y_train)\n",
    "y_pred = model2.predict(X_test)\n",
    "\n",
    "print(f\"y_test.shape = {y_test.shape} and y_pred.shape = {y_pred.shape}\")\n",
    "\n",
    "print(f\"MSE = {sklearn.metrics.mean_squared_error(y_test, y_pred):.2f}\")\n",
    "print(f\"R^2 = {sklearn.metrics.r2_score(y_test, y_pred):.3}\")\n",
    "print(f\"Accuracy Score = {sklearn.metrics.accuracy_score(y_test, y_pred):.2}\")"
   ]
  },
  {
   "cell_type": "code",
   "execution_count": 84,
   "id": "d3063a16-9efa-4d39-ab02-ff01e20ad543",
   "metadata": {},
   "outputs": [
    {
     "data": {
      "text/plain": [
       "array([3, 2, 0, 0, 2, 3, 0, 0, 1, 2, 3, 1, 0, 2, 0, 1, 2, 1, 2, 2, 3, 3,\n",
       "       2, 2, 3, 2, 2, 2, 3, 1, 3, 3, 3, 2, 1, 1, 1, 1, 1, 3, 0, 3, 0, 1,\n",
       "       0, 0, 2, 2, 0, 3, 2, 3, 2, 2, 3, 0, 3, 3, 3, 2, 1, 1, 0, 0, 0, 1,\n",
       "       0, 1, 3, 0, 1, 0, 0, 2, 1, 2, 1, 1, 1, 0, 2, 1, 3, 3, 2, 1, 3, 1,\n",
       "       3, 0, 0, 2, 3, 0, 0, 1, 2, 1, 0, 3])"
      ]
     },
     "execution_count": 84,
     "metadata": {},
     "output_type": "execute_result"
    }
   ],
   "source": [
    "#Task 2\n",
    "X, y = datasets.make_blobs(centers=4)\n",
    "y"
   ]
  },
  {
   "cell_type": "code",
   "execution_count": null,
   "id": "318cf278-8864-49c8-9b1e-9615700b93b8",
   "metadata": {},
   "outputs": [],
   "source": []
  },
  {
   "cell_type": "code",
   "execution_count": null,
   "id": "c4f2fd3d-eee0-4bdd-8647-79cb53712a1f",
   "metadata": {},
   "outputs": [],
   "source": []
  },
  {
   "cell_type": "code",
   "execution_count": null,
   "id": "9d9f9443-609b-4291-8705-5adc8310aca1",
   "metadata": {},
   "outputs": [],
   "source": []
  },
  {
   "cell_type": "code",
   "execution_count": null,
   "id": "68921a37-1a0d-4526-aa6b-cf4f58ea6d8e",
   "metadata": {},
   "outputs": [],
   "source": []
  }
 ],
 "metadata": {
  "kernelspec": {
   "display_name": "pythonDSAI",
   "language": "python",
   "name": "pythondsai"
  },
  "language_info": {
   "codemirror_mode": {
    "name": "ipython",
    "version": 3
   },
   "file_extension": ".py",
   "mimetype": "text/x-python",
   "name": "python",
   "nbconvert_exporter": "python",
   "pygments_lexer": "ipython3",
   "version": "3.8.3"
  }
 },
 "nbformat": 4,
 "nbformat_minor": 5
}
