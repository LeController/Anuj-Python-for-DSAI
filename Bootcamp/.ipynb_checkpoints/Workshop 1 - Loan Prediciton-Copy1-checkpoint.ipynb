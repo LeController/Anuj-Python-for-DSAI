{
 "cells": [
  {
   "cell_type": "code",
   "execution_count": 1,
   "id": "6ec322cf-c619-4a5b-bcd0-e84b34d2581c",
   "metadata": {},
   "outputs": [
    {
     "name": "stdout",
     "output_type": "stream",
     "text": [
      "train_data.shape = (614, 13) and test_data.shape = (367, 12)\n"
     ]
    }
   ],
   "source": [
    "import pandas as pd\n",
    "import numpy as np\n",
    "train_data = pd.read_csv(\"Data/train_LoanPrediction.csv\")\n",
    "test_data = pd.read_csv(\"Data/test_LoanPrediction.csv\")\n",
    "print(f\"train_data.shape = {train_data.shape} and test_data.shape = {test_data.shape}\")"
   ]
  },
  {
   "cell_type": "code",
   "execution_count": 2,
   "id": "ff3504f4-6bf3-4e50-acfe-af081e286724",
   "metadata": {},
   "outputs": [
    {
     "data": {
      "text/html": [
       "<div>\n",
       "<style scoped>\n",
       "    .dataframe tbody tr th:only-of-type {\n",
       "        vertical-align: middle;\n",
       "    }\n",
       "\n",
       "    .dataframe tbody tr th {\n",
       "        vertical-align: top;\n",
       "    }\n",
       "\n",
       "    .dataframe thead th {\n",
       "        text-align: right;\n",
       "    }\n",
       "</style>\n",
       "<table border=\"1\" class=\"dataframe\">\n",
       "  <thead>\n",
       "    <tr style=\"text-align: right;\">\n",
       "      <th></th>\n",
       "      <th>Loan_ID</th>\n",
       "      <th>Gender</th>\n",
       "      <th>Married</th>\n",
       "      <th>Dependents</th>\n",
       "      <th>Education</th>\n",
       "      <th>Self_Employed</th>\n",
       "      <th>ApplicantIncome</th>\n",
       "      <th>CoapplicantIncome</th>\n",
       "      <th>LoanAmount</th>\n",
       "      <th>Loan_Amount_Term</th>\n",
       "      <th>Credit_History</th>\n",
       "      <th>Property_Area</th>\n",
       "      <th>Loan_Status</th>\n",
       "    </tr>\n",
       "  </thead>\n",
       "  <tbody>\n",
       "    <tr>\n",
       "      <th>0</th>\n",
       "      <td>LP001002</td>\n",
       "      <td>Male</td>\n",
       "      <td>No</td>\n",
       "      <td>0</td>\n",
       "      <td>Graduate</td>\n",
       "      <td>No</td>\n",
       "      <td>5849</td>\n",
       "      <td>0.0</td>\n",
       "      <td>NaN</td>\n",
       "      <td>360.0</td>\n",
       "      <td>1.0</td>\n",
       "      <td>Urban</td>\n",
       "      <td>Y</td>\n",
       "    </tr>\n",
       "    <tr>\n",
       "      <th>1</th>\n",
       "      <td>LP001003</td>\n",
       "      <td>Male</td>\n",
       "      <td>Yes</td>\n",
       "      <td>1</td>\n",
       "      <td>Graduate</td>\n",
       "      <td>No</td>\n",
       "      <td>4583</td>\n",
       "      <td>1508.0</td>\n",
       "      <td>128.0</td>\n",
       "      <td>360.0</td>\n",
       "      <td>1.0</td>\n",
       "      <td>Rural</td>\n",
       "      <td>N</td>\n",
       "    </tr>\n",
       "    <tr>\n",
       "      <th>2</th>\n",
       "      <td>LP001005</td>\n",
       "      <td>Male</td>\n",
       "      <td>Yes</td>\n",
       "      <td>0</td>\n",
       "      <td>Graduate</td>\n",
       "      <td>Yes</td>\n",
       "      <td>3000</td>\n",
       "      <td>0.0</td>\n",
       "      <td>66.0</td>\n",
       "      <td>360.0</td>\n",
       "      <td>1.0</td>\n",
       "      <td>Urban</td>\n",
       "      <td>Y</td>\n",
       "    </tr>\n",
       "    <tr>\n",
       "      <th>3</th>\n",
       "      <td>LP001006</td>\n",
       "      <td>Male</td>\n",
       "      <td>Yes</td>\n",
       "      <td>0</td>\n",
       "      <td>Not Graduate</td>\n",
       "      <td>No</td>\n",
       "      <td>2583</td>\n",
       "      <td>2358.0</td>\n",
       "      <td>120.0</td>\n",
       "      <td>360.0</td>\n",
       "      <td>1.0</td>\n",
       "      <td>Urban</td>\n",
       "      <td>Y</td>\n",
       "    </tr>\n",
       "    <tr>\n",
       "      <th>4</th>\n",
       "      <td>LP001008</td>\n",
       "      <td>Male</td>\n",
       "      <td>No</td>\n",
       "      <td>0</td>\n",
       "      <td>Graduate</td>\n",
       "      <td>No</td>\n",
       "      <td>6000</td>\n",
       "      <td>0.0</td>\n",
       "      <td>141.0</td>\n",
       "      <td>360.0</td>\n",
       "      <td>1.0</td>\n",
       "      <td>Urban</td>\n",
       "      <td>Y</td>\n",
       "    </tr>\n",
       "  </tbody>\n",
       "</table>\n",
       "</div>"
      ],
      "text/plain": [
       "    Loan_ID Gender Married Dependents     Education Self_Employed  \\\n",
       "0  LP001002   Male      No          0      Graduate            No   \n",
       "1  LP001003   Male     Yes          1      Graduate            No   \n",
       "2  LP001005   Male     Yes          0      Graduate           Yes   \n",
       "3  LP001006   Male     Yes          0  Not Graduate            No   \n",
       "4  LP001008   Male      No          0      Graduate            No   \n",
       "\n",
       "   ApplicantIncome  CoapplicantIncome  LoanAmount  Loan_Amount_Term  \\\n",
       "0             5849                0.0         NaN             360.0   \n",
       "1             4583             1508.0       128.0             360.0   \n",
       "2             3000                0.0        66.0             360.0   \n",
       "3             2583             2358.0       120.0             360.0   \n",
       "4             6000                0.0       141.0             360.0   \n",
       "\n",
       "   Credit_History Property_Area Loan_Status  \n",
       "0             1.0         Urban           Y  \n",
       "1             1.0         Rural           N  \n",
       "2             1.0         Urban           Y  \n",
       "3             1.0         Urban           Y  \n",
       "4             1.0         Urban           Y  "
      ]
     },
     "execution_count": 2,
     "metadata": {},
     "output_type": "execute_result"
    }
   ],
   "source": [
    "train_data.head()"
   ]
  },
  {
   "cell_type": "code",
   "execution_count": 3,
   "id": "52ae5bdc-22e3-412c-9058-4d74c0bd7adf",
   "metadata": {},
   "outputs": [
    {
     "name": "stdout",
     "output_type": "stream",
     "text": [
      "<class 'pandas.core.frame.DataFrame'>\n",
      "RangeIndex: 614 entries, 0 to 613\n",
      "Data columns (total 13 columns):\n",
      " #   Column             Non-Null Count  Dtype  \n",
      "---  ------             --------------  -----  \n",
      " 0   Loan_ID            614 non-null    object \n",
      " 1   Gender             601 non-null    object \n",
      " 2   Married            611 non-null    object \n",
      " 3   Dependents         599 non-null    object \n",
      " 4   Education          614 non-null    object \n",
      " 5   Self_Employed      582 non-null    object \n",
      " 6   ApplicantIncome    614 non-null    int64  \n",
      " 7   CoapplicantIncome  614 non-null    float64\n",
      " 8   LoanAmount         592 non-null    float64\n",
      " 9   Loan_Amount_Term   600 non-null    float64\n",
      " 10  Credit_History     564 non-null    float64\n",
      " 11  Property_Area      614 non-null    object \n",
      " 12  Loan_Status        614 non-null    object \n",
      "dtypes: float64(4), int64(1), object(8)\n",
      "memory usage: 62.5+ KB\n",
      "None\n"
     ]
    }
   ],
   "source": [
    "print(train_data.info())"
   ]
  },
  {
   "cell_type": "code",
   "execution_count": 4,
   "id": "c03dd368-5e8f-4376-92c8-0ef5ef541b80",
   "metadata": {},
   "outputs": [
    {
     "name": "stdout",
     "output_type": "stream",
     "text": [
      "Married\n",
      "Yes    398\n",
      "No     213\n",
      "dtype: int64\n",
      "Unique elements in married column (2,)\n",
      "Ratio married = 0.6513911620294599, Ratio not married = 0.3486088379705401\n"
     ]
    }
   ],
   "source": [
    "married = (train_data.value_counts(\"Married\"))\n",
    "print(married)\n",
    "print(\"Unique elements in married column\", married.shape)\n",
    "ratio_married = married[\"Yes\"]/sum(married)\n",
    "ratio_not_married = married[\"No\"]/sum(married)\n",
    "print(f\"Ratio married = {ratio_married}, Ratio not married = {ratio_not_married}\")"
   ]
  },
  {
   "cell_type": "code",
   "execution_count": 5,
   "id": "8684f853-533e-4ce8-b9ab-6cfd666ab58a",
   "metadata": {},
   "outputs": [],
   "source": [
    "train_married_null = train_data['Married'].isnull().sum()\n",
    "yes_to_fill_train = round(train_married_null * ratio_married)\n",
    "no_to_fill_train = round(train_married_null * ratio_not_married)\n",
    "train_data['Married'].fillna('Yes',limit=yes_to_fill_train, inplace=True)\n",
    "train_data['Married'].fillna('No',limit=no_to_fill_train, inplace=True)"
   ]
  },
  {
   "cell_type": "code",
   "execution_count": 6,
   "id": "55293e66-bce9-4d4a-9db8-b77009364545",
   "metadata": {},
   "outputs": [
    {
     "name": "stdout",
     "output_type": "stream",
     "text": [
      "Loan_ID               0\n",
      "Gender               13\n",
      "Married               0\n",
      "Dependents           15\n",
      "Education             0\n",
      "Self_Employed        32\n",
      "ApplicantIncome       0\n",
      "CoapplicantIncome     0\n",
      "LoanAmount           22\n",
      "Loan_Amount_Term     14\n",
      "Credit_History       50\n",
      "Property_Area         0\n",
      "Loan_Status           0\n",
      "dtype: int64\n",
      "\n",
      "\n",
      "Loan_ID               0\n",
      "Gender               11\n",
      "Married               0\n",
      "Dependents           10\n",
      "Education             0\n",
      "Self_Employed        23\n",
      "ApplicantIncome       0\n",
      "CoapplicantIncome     0\n",
      "LoanAmount            5\n",
      "Loan_Amount_Term      6\n",
      "Credit_History       29\n",
      "Property_Area         0\n",
      "dtype: int64\n"
     ]
    }
   ],
   "source": [
    "print(train_data.isnull().sum())\n",
    "print('\\n')\n",
    "print(test_data.isnull().sum())"
   ]
  },
  {
   "cell_type": "code",
   "execution_count": 7,
   "id": "578bc1f0-b1d8-460b-b2b3-3dd8cf28909e",
   "metadata": {},
   "outputs": [],
   "source": [
    "def fill_null_values(dataframe, column):\n",
    "    print(\"BEFORE\")\n",
    "    print(dataframe[column].value_counts(),'\\n')\n",
    "    total_count_in_column = (dataframe.value_counts(column))\n",
    "    index_list = list(total_count_in_column.index)\n",
    "    \n",
    "    limits = []\n",
    "    values = []\n",
    "    \n",
    "    for index in index_list:\n",
    "        ratio = total_count_in_column[index]/sum(total_count_in_column)\n",
    "        #print(ratio)\n",
    "        total_null = dataframe[column].isnull().sum()\n",
    "        #print('total null =', total_null)\n",
    "        limit = round(total_null * ratio)\n",
    "        #print(\"Unrounded limit =\", total_null * ratio)\n",
    "        #print('limit =', limit)\n",
    "        limits.append(limit)\n",
    "        values.append(index)\n",
    "        #print(\"LIMITS=\", limits)\n",
    "        #print(\"VALUES=\", values)\n",
    "    \n",
    "    i=0\n",
    "    for value in values:\n",
    "        #print(\"i=\",i)\n",
    "        #print('limits[i] =', limits[i])\n",
    "        if limits[i] == 0:\n",
    "            limits[i] = 1\n",
    "        dataframe[column].fillna(value, limit=limits[i], inplace=True)\n",
    "        i =+ 1\n",
    "\n",
    "    print(\"AFTER\")\n",
    "    print(dataframe[column].value_counts())"
   ]
  },
  {
   "cell_type": "code",
   "execution_count": 8,
   "id": "7d22f4ff-db57-4659-afa3-8265fb8f0bf9",
   "metadata": {},
   "outputs": [
    {
     "name": "stdout",
     "output_type": "stream",
     "text": [
      "BEFORE\n",
      "Male      489\n",
      "Female    112\n",
      "Name: Gender, dtype: int64 \n",
      "\n",
      "AFTER\n",
      "Male      500\n",
      "Female    114\n",
      "Name: Gender, dtype: int64\n",
      "BEFORE\n",
      "Male      286\n",
      "Female     70\n",
      "Name: Gender, dtype: int64 \n",
      "\n",
      "AFTER\n",
      "Male      295\n",
      "Female     72\n",
      "Name: Gender, dtype: int64\n"
     ]
    }
   ],
   "source": [
    "fill_null_values(train_data, 'Gender')\n",
    "fill_null_values(test_data, 'Gender')"
   ]
  },
  {
   "cell_type": "code",
   "execution_count": 9,
   "id": "1f83193c-2d08-4f5b-a51b-848dadbb7c62",
   "metadata": {},
   "outputs": [
    {
     "name": "stdout",
     "output_type": "stream",
     "text": [
      "BEFORE\n",
      "0     345\n",
      "1     102\n",
      "2     101\n",
      "3+     51\n",
      "Name: Dependents, dtype: int64 \n",
      "\n",
      "AFTER\n",
      "0     354\n",
      "1     105\n",
      "2     104\n",
      "3+     51\n",
      "Name: Dependents, dtype: int64\n",
      "BEFORE\n",
      "0     200\n",
      "2      59\n",
      "1      58\n",
      "3+     40\n",
      "Name: Dependents, dtype: int64 \n",
      "\n",
      "AFTER\n",
      "0     206\n",
      "2      61\n",
      "1      60\n",
      "3+     40\n",
      "Name: Dependents, dtype: int64\n"
     ]
    }
   ],
   "source": [
    "fill_null_values(train_data, 'Dependents')\n",
    "fill_null_values(test_data, 'Dependents')"
   ]
  },
  {
   "cell_type": "code",
   "execution_count": 10,
   "id": "8dab86e6-f96b-49c4-9f56-e5778df82e51",
   "metadata": {},
   "outputs": [
    {
     "name": "stdout",
     "output_type": "stream",
     "text": [
      "BEFORE\n",
      "No     500\n",
      "Yes     82\n",
      "Name: Self_Employed, dtype: int64 \n",
      "\n",
      "AFTER\n",
      "No     527\n",
      "Yes     87\n",
      "Name: Self_Employed, dtype: int64\n",
      "BEFORE\n",
      "No     307\n",
      "Yes     37\n",
      "Name: Self_Employed, dtype: int64 \n",
      "\n",
      "AFTER\n",
      "No     328\n",
      "Yes     39\n",
      "Name: Self_Employed, dtype: int64\n"
     ]
    }
   ],
   "source": [
    "fill_null_values(train_data, 'Self_Employed')\n",
    "fill_null_values(test_data, 'Self_Employed')"
   ]
  },
  {
   "cell_type": "code",
   "execution_count": 11,
   "id": "5ef6a956-cd6c-40db-b119-e49180091a50",
   "metadata": {},
   "outputs": [
    {
     "name": "stdout",
     "output_type": "stream",
     "text": [
      "BEFORE\n",
      "360.0    512\n",
      "180.0     44\n",
      "480.0     15\n",
      "300.0     13\n",
      "240.0      4\n",
      "84.0       4\n",
      "120.0      3\n",
      "60.0       2\n",
      "36.0       2\n",
      "12.0       1\n",
      "Name: Loan_Amount_Term, dtype: int64 \n",
      "\n",
      "AFTER\n",
      "360.0    524\n",
      "180.0     45\n",
      "480.0     16\n",
      "300.0     13\n",
      "240.0      4\n",
      "84.0       4\n",
      "120.0      3\n",
      "60.0       2\n",
      "36.0       2\n",
      "12.0       1\n",
      "Name: Loan_Amount_Term, dtype: int64\n",
      "BEFORE\n",
      "360.0    311\n",
      "180.0     22\n",
      "480.0      8\n",
      "300.0      7\n",
      "240.0      4\n",
      "84.0       3\n",
      "60.0       1\n",
      "12.0       1\n",
      "350.0      1\n",
      "36.0       1\n",
      "120.0      1\n",
      "6.0        1\n",
      "Name: Loan_Amount_Term, dtype: int64 \n",
      "\n",
      "AFTER\n",
      "360.0    316\n",
      "180.0     23\n",
      "480.0      8\n",
      "300.0      7\n",
      "240.0      4\n",
      "84.0       3\n",
      "60.0       1\n",
      "12.0       1\n",
      "350.0      1\n",
      "36.0       1\n",
      "120.0      1\n",
      "6.0        1\n",
      "Name: Loan_Amount_Term, dtype: int64\n"
     ]
    }
   ],
   "source": [
    "fill_null_values(train_data, 'Loan_Amount_Term')\n",
    "fill_null_values(test_data, 'Loan_Amount_Term')"
   ]
  },
  {
   "cell_type": "code",
   "execution_count": 12,
   "id": "8df57ad7-b253-4498-8607-d6ec627d6b0b",
   "metadata": {},
   "outputs": [
    {
     "name": "stdout",
     "output_type": "stream",
     "text": [
      "BEFORE\n",
      "1.0    475\n",
      "0.0     89\n",
      "Name: Credit_History, dtype: int64 \n",
      "\n",
      "AFTER\n",
      "1.0    517\n",
      "0.0     97\n",
      "Name: Credit_History, dtype: int64\n",
      "BEFORE\n",
      "1.0    279\n",
      "0.0     59\n",
      "Name: Credit_History, dtype: int64 \n",
      "\n",
      "AFTER\n",
      "1.0    303\n",
      "0.0     64\n",
      "Name: Credit_History, dtype: int64\n"
     ]
    }
   ],
   "source": [
    "fill_null_values(train_data, 'Credit_History')\n",
    "fill_null_values(test_data, 'Credit_History')"
   ]
  },
  {
   "cell_type": "code",
   "execution_count": 13,
   "id": "ca121e00-76fa-461a-a430-1e72bb6f035d",
   "metadata": {},
   "outputs": [
    {
     "name": "stdout",
     "output_type": "stream",
     "text": [
      "Loan_ID               0\n",
      "Gender                0\n",
      "Married               0\n",
      "Dependents            0\n",
      "Education             0\n",
      "Self_Employed         0\n",
      "ApplicantIncome       0\n",
      "CoapplicantIncome     0\n",
      "LoanAmount           22\n",
      "Loan_Amount_Term      0\n",
      "Credit_History        0\n",
      "Property_Area         0\n",
      "Loan_Status           0\n",
      "dtype: int64\n",
      "\n",
      "\n",
      "Loan_ID              0\n",
      "Gender               0\n",
      "Married              0\n",
      "Dependents           0\n",
      "Education            0\n",
      "Self_Employed        0\n",
      "ApplicantIncome      0\n",
      "CoapplicantIncome    0\n",
      "LoanAmount           5\n",
      "Loan_Amount_Term     0\n",
      "Credit_History       0\n",
      "Property_Area        0\n",
      "dtype: int64\n"
     ]
    }
   ],
   "source": [
    "print(train_data.isnull().sum())\n",
    "print('\\n')\n",
    "print(test_data.isnull().sum())"
   ]
  },
  {
   "cell_type": "code",
   "execution_count": 18,
   "id": "0a91998d-69d4-4be6-85f4-73cace650e5c",
   "metadata": {},
   "outputs": [
    {
     "data": {
      "text/plain": [
       "<Figure size 576x288 with 0 Axes>"
      ]
     },
     "metadata": {},
     "output_type": "display_data"
    },
    {
     "data": {
      "image/png": "[encoded data removed]",
      "text/plain": [
       "<Figure size 360x360 with 1 Axes>"
      ]
     },
     "metadata": {
      "needs_background": "light"
     },
     "output_type": "display_data"
    }
   ],
   "source": [
    "import matplotlib.pyplot as plt\n",
    "import seaborn as sns\n",
    "plt.figure(figsize=(8,4))\n",
    "sns.displot(train_data['LoanAmount'])\n",
    "plt.title('LoanAmount distribution', size=16)\n",
    "plt.ylabel('count');"
   ]
  },
  {
   "cell_type": "code",
   "execution_count": 19,
   "id": "381d66ce-edca-47fa-93b2-ae869fd38f89",
   "metadata": {},
   "outputs": [
    {
     "data": {
      "text/plain": [
       "<AxesSubplot:>"
      ]
     },
     "execution_count": 19,
     "metadata": {},
     "output_type": "execute_result"
    },
    {
     "data": {
      "image/png": "[encoded data removed]",
      "text/plain": [
       "<Figure size 216x288 with 1 Axes>"
      ]
     },
     "metadata": {
      "needs_background": "light"
     },
     "output_type": "display_data"
    }
   ],
   "source": [
    "train_data['LoanAmount'].plot(kind='box', figsize=(3,4), patch_artist=True)"
   ]
  },
  {
   "cell_type": "code",
   "execution_count": 16,
   "id": "c4fd5614-d535-4c03-a23a-bf67095bcada",
   "metadata": {},
   "outputs": [],
   "source": [
    "train_data['LoanAmount'].fillna((train_data['LoanAmount'].median()), inplace=True)\n",
    "test_data['LoanAmount'].fillna((test_data['LoanAmount'].median()), inplace=True)"
   ]
  },
  {
   "cell_type": "code",
   "execution_count": 17,
   "id": "2d302f1b-68a0-4ac3-9f81-84190165ee23",
   "metadata": {},
   "outputs": [
    {
     "name": "stdout",
     "output_type": "stream",
     "text": [
      "Loan_ID              0\n",
      "Gender               0\n",
      "Married              0\n",
      "Dependents           0\n",
      "Education            0\n",
      "Self_Employed        0\n",
      "ApplicantIncome      0\n",
      "CoapplicantIncome    0\n",
      "LoanAmount           0\n",
      "Loan_Amount_Term     0\n",
      "Credit_History       0\n",
      "Property_Area        0\n",
      "Loan_Status          0\n",
      "dtype: int64\n",
      "\n",
      "\n",
      "Loan_ID              0\n",
      "Gender               0\n",
      "Married              0\n",
      "Dependents           0\n",
      "Education            0\n",
      "Self_Employed        0\n",
      "ApplicantIncome      0\n",
      "CoapplicantIncome    0\n",
      "LoanAmount           0\n",
      "Loan_Amount_Term     0\n",
      "Credit_History       0\n",
      "Property_Area        0\n",
      "dtype: int64\n"
     ]
    }
   ],
   "source": [
    "print(train_data.isnull().sum())\n",
    "print('\\n')\n",
    "print(test_data.isnull().sum())"
   ]
  },
  {
   "cell_type": "code",
   "execution_count": null,
   "id": "5cf89fe1-c1d5-486d-8917-7c439e146917",
   "metadata": {},
   "outputs": [],
   "source": []
  }
 ],
 "metadata": {
  "kernelspec": {
   "display_name": "pythonDSAI",
   "language": "python",
   "name": "pythondsai"
  },
  "language_info": {
   "codemirror_mode": {
    "name": "ipython",
    "version": 3
   },
   "file_extension": ".py",
   "mimetype": "text/x-python",
   "name": "python",
   "nbconvert_exporter": "python",
   "pygments_lexer": "ipython3",
   "version": "3.8.3"
  }
 },
 "nbformat": 4,
 "nbformat_minor": 5
}
