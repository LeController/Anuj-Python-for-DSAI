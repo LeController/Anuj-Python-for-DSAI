{
 "cells": [
  {
   "cell_type": "markdown",
   "metadata": {},
   "source": [
    "# CP - Midterm - 2021\n",
    "## Instruction\n",
    "* Modify this file to be Midterm-<Your FirstName-[First Letter of Last Name]>, e.g., Midterm-Chaklam-S.ipynb\n",
    "* This exam is open-booked; open-internet.\n",
    "* You ARE NOT allowed to use sklearn or any libraries, unless stated.\n",
    "* The completed exams in **.ipynb AND .pdf format** shall be submitted at the Google Classroom \n",
    "* Any instructions not given, feel free to make any assumptions\n",
    "\n",
    "## Examination Rules:\n",
    "* Turn on your webcam during the entire period of the exam time\n",
    "* All work should belong to you. A student should NOT engage in the following activities which proctors reserve the right to interpret any of such act as academic dishonesty without questioning:\n",
    "* Chatting with any human beings physically or via online methods\n",
    "* Plagiarism of any sort, i.e., copying from friends. Both copee and copier shall be given a minimum penalty of zero mark for that particular question or the whole exam.\n",
    "* No make-up exams are allowed. Special considerations may be given upon a valid reason on unpredictable events such as accidents or serious sickness."
   ]
  },
  {
   "cell_type": "markdown",
   "metadata": {},
   "source": [
    "## Question 1 (100 points): Basic Python Skills\n",
    "\n",
    "By now you should be comfortable with creating classes. Please complete the followings:\n",
    "\n",
    "1) First, please create a Candy() class \n",
    "- Please create a Candy() class that requires an input of 'color' attribute assigned in its <code> __ init __  </code>  function when you create an object.(4 point)\n",
    "- the second attribute in the <code> __ init __  </code> function is 'price' which should automatically be assigned according to colors:\n",
    "  * red costs 2 baht, blue costs 4 baht and others cost 6 baht (12 points)\n",
    "- Please add a <code> __ str __  </code> method that will allow you to print out the color and price of the candy (8 points)\n",
    "\n",
    "2) We will need another class called <code>CandyBasket()</code> which we will use to keep our candies in. This class should have the following methods (or functions) :\n",
    "\n",
    "- It should automatically create an empty basket when you create an object from this class.   \n",
    "  Please create 2 objects called <code>Basket1</code> and <code>Basket2</code> from the <code>CandyBasket()</code> class (8 points)\n",
    "  \n",
    "- Create a function for adding candy into the basket. <br>\n",
    "  Please add 3 Red candies and 3 Yellow candies into <code>Basket1</code>\n",
    "  and add 3 Blue candies into <code>Basket2</code>. (8 points)\n",
    "  \n",
    "- Create a <code> __ len __  </code> function that will allow you to print out the number of candies in the basket.  <br>\n",
    "  Please print out the number of candies in <code>Basket1</code> and <code>Basket2</code> (8 points)\n",
    "  \n",
    "- Create a <code> __ str __  </code> function that will allow you to print out the content of the basket.  <br>\n",
    "  Please print out the content of <code>Basket1</code> and <code>Basket2</code> (4 point)\n",
    "    \n",
    "- Also create a function that can plot a bar plot to show the number of candies of each color.  <br>\n",
    "  Please plot out the content of <code>Basket1</code> and <code>Basket2</code> (8 points)\n",
    "    \n",
    "    \n",
    "- Create a function for removing a candy from the basket you should be able to choose which candy to remove ! ) <br>\n",
    "  Please remove 2 Yellow candies from <code>Basket1</code> (12 points)\n",
    "  \n",
    "- Create a function that will allow you to transfer a specific color of candy from one basket to another. (It should also check and **raise and error** if you don't have the specific color of candy that you want to transfer)  <br>\n",
    "  Please transfer a Purple candy from <code>Basket2</code> to <code>Basket1</code> (it should give you an error).\n",
    "  and transfer 2 Red candies from <code>Basket1</code> to <code>Basket2</code>. (20 points)\n",
    "  \n",
    "- Create one last function that will calculate the total price of all candies in your basket. <br>\n",
    "  Please calculate and print out the total price of candies in <code>Basket1</code> and <code>Basket2</code> (8 points)"
   ]
  },
  {
   "cell_type": "code",
   "execution_count": 1,
   "metadata": {},
   "outputs": [],
   "source": [
    "import numpy as np\n",
    "import matplotlib as mpl\n",
    "import matplotlib.pyplot as plt"
   ]
  },
  {
   "cell_type": "code",
   "execution_count": 2,
   "metadata": {},
   "outputs": [],
   "source": [
    "class Candy:\n",
    "    \n",
    "    def __init__(self, color, price=0):\n",
    "        self.color = color\n",
    "        if self.color == 'red':\n",
    "            self.price = 2 \n",
    "        elif self.color == 'blue':\n",
    "            self.price = 4 \n",
    "        else:\n",
    "            self.price = 6 \n",
    "    \n",
    "    def __str__(self):\n",
    "        print('Candy color is',self.color,'\\nCandy price is', self.price)"
   ]
  },
  {
   "cell_type": "code",
   "execution_count": 3,
   "metadata": {},
   "outputs": [
    {
     "name": "stdout",
     "output_type": "stream",
     "text": [
      "Candy color is blue \n",
      "Candy price is 4\n"
     ]
    }
   ],
   "source": [
    "m = Candy('blue')\n",
    "m.__str__()"
   ]
  },
  {
   "cell_type": "code",
   "execution_count": 51,
   "metadata": {},
   "outputs": [],
   "source": [
    "class CandyBasket:\n",
    "    \n",
    "    def __init__(self):\n",
    "        self.basket = []\n",
    "    \n",
    "    def add(self, candy):\n",
    "        self.basket.append(candy.color)\n",
    "        \n",
    "    def __len__(self):\n",
    "        # correct answer\n",
    "        count = 0\n",
    "        for i in self.basket:\n",
    "            count += 1\n",
    "        return count\n",
    "    \n",
    "        # my old answer :(\n",
    "        print('This Basket has',len(self.basket),'candies!')\n",
    "        \n",
    "    def __str__(self):\n",
    "        for candy in self.basket:\n",
    "            print(candy)\n",
    "            \n",
    "    def bar(self):\n",
    "        red = 0\n",
    "        blue = 0\n",
    "        other = 0\n",
    "        for candy in self.basket:\n",
    "            if candy == 'red':\n",
    "                red += 1\n",
    "            elif candy == 'blue':\n",
    "                blue += 1\n",
    "            else:\n",
    "                other += 1\n",
    "        colors = ['red', 'blue', 'other']\n",
    "        totals = [red, blue, other]\n",
    "        fig = plt.figure()\n",
    "        ax = fig.add_axes([0,0,1,1])\n",
    "        ax.bar(colors, totals)\n",
    "        plt.show()\n",
    "    \n",
    "    def remove(self, color):\n",
    "        self.basket.remove(color)\n",
    "        \n",
    "    def transfer(self,color, basket_to):\n",
    "        if color not in self.basket:\n",
    "            raise ValueError('COLOR NOT IN BASKET')\n",
    "        \n",
    "        self.remove(color)\n",
    "        print(color, 'candy removed')\n",
    "        \n",
    "        basket_to.basket.append(color)\n",
    "    \n",
    "    def total_price(self):\n",
    "        total_price = 0\n",
    "        for candy in self.basket:\n",
    "            if candy == 'red':\n",
    "                total_price += 2\n",
    "            elif candy == 'blue':\n",
    "                total_price += 4\n",
    "            else:\n",
    "                total_price += 6\n",
    "        print('Total price =', total_price)"
   ]
  },
  {
   "cell_type": "code",
   "execution_count": 52,
   "metadata": {},
   "outputs": [],
   "source": [
    "Basket1 = CandyBasket()\n",
    "Basket2 = CandyBasket()\n",
    "\n",
    "red1 = Candy('red')\n",
    "red2 = Candy('red')\n",
    "red3 = Candy('red')\n",
    "yellow1 = Candy('yellow')\n",
    "yellow2 = Candy('yellow')\n",
    "yellow3 = Candy('yellow')\n",
    "\n",
    "blue1 = Candy('blue')\n",
    "blue2 = Candy('blue')\n",
    "blue3 = Candy('blue')"
   ]
  },
  {
   "cell_type": "code",
   "execution_count": 53,
   "metadata": {},
   "outputs": [],
   "source": [
    "Basket1.add(red1)\n",
    "Basket1.add(red2)\n",
    "Basket1.add(red3)\n",
    "Basket1.add(yellow1)\n",
    "Basket1.add(yellow2)\n",
    "Basket1.add(yellow3)\n",
    "\n",
    "Basket2.add(blue1)\n",
    "Basket2.add(blue2)\n",
    "Basket2.add(blue3)"
   ]
  },
  {
   "cell_type": "code",
   "execution_count": 54,
   "metadata": {},
   "outputs": [
    {
     "data": {
      "text/plain": [
       "['red', 'red', 'red', 'yellow', 'yellow', 'yellow']"
      ]
     },
     "execution_count": 54,
     "metadata": {},
     "output_type": "execute_result"
    }
   ],
   "source": [
    "Basket1.basket"
   ]
  },
  {
   "cell_type": "code",
   "execution_count": 55,
   "metadata": {},
   "outputs": [
    {
     "data": {
      "text/plain": [
       "['blue', 'blue', 'blue']"
      ]
     },
     "execution_count": 55,
     "metadata": {},
     "output_type": "execute_result"
    }
   ],
   "source": [
    "Basket2.basket"
   ]
  },
  {
   "cell_type": "code",
   "execution_count": 56,
   "metadata": {},
   "outputs": [
    {
     "data": {
      "text/plain": [
       "3"
      ]
     },
     "execution_count": 56,
     "metadata": {},
     "output_type": "execute_result"
    }
   ],
   "source": [
    "Basket1.__len__()\n",
    "Basket2.__len__()"
   ]
  },
  {
   "cell_type": "code",
   "execution_count": 59,
   "metadata": {},
   "outputs": [
    {
     "name": "stdout",
     "output_type": "stream",
     "text": [
      "6\n",
      "3\n"
     ]
    }
   ],
   "source": [
    "print(len(Basket1))\n",
    "print(len(Basket2))"
   ]
  },
  {
   "cell_type": "code",
   "execution_count": 43,
   "metadata": {},
   "outputs": [
    {
     "name": "stdout",
     "output_type": "stream",
     "text": [
      "red\n",
      "red\n",
      "red\n",
      "yellow\n",
      "yellow\n",
      "yellow\n"
     ]
    }
   ],
   "source": [
    "Basket1.__str__()"
   ]
  },
  {
   "cell_type": "code",
   "execution_count": 11,
   "metadata": {},
   "outputs": [
    {
     "data": {
      "image/png": "[encoded data removed]",
      "text/plain": [
       "<Figure size 432x288 with 1 Axes>"
      ]
     },
     "metadata": {
      "needs_background": "light"
     },
     "output_type": "display_data"
    },
    {
     "data": {
      "image/png": "[encoded data removed]",
      "text/plain": [
       "<Figure size 432x288 with 1 Axes>"
      ]
     },
     "metadata": {
      "needs_background": "light"
     },
     "output_type": "display_data"
    }
   ],
   "source": [
    "Basket1.bar()\n",
    "Basket2.bar()"
   ]
  },
  {
   "cell_type": "code",
   "execution_count": 12,
   "metadata": {},
   "outputs": [],
   "source": [
    "Basket1.remove('yellow')\n",
    "Basket1.remove('yellow')"
   ]
  },
  {
   "cell_type": "code",
   "execution_count": 13,
   "metadata": {},
   "outputs": [
    {
     "data": {
      "text/plain": [
       "['red', 'red', 'red', 'yellow']"
      ]
     },
     "execution_count": 13,
     "metadata": {},
     "output_type": "execute_result"
    }
   ],
   "source": [
    "Basket1.basket"
   ]
  },
  {
   "cell_type": "code",
   "execution_count": 14,
   "metadata": {},
   "outputs": [
    {
     "ename": "ValueError",
     "evalue": "COLOR NOT IN BASKET",
     "output_type": "error",
     "traceback": [
      "\u001b[1;31m---------------------------------------------------------------------------\u001b[0m",
      "\u001b[1;31mValueError\u001b[0m                                Traceback (most recent call last)",
      "\u001b[1;32m~\\AppData\\Local\\Temp/ipykernel_28008/2993479112.py\u001b[0m in \u001b[0;36m<module>\u001b[1;34m\u001b[0m\n\u001b[1;32m----> 1\u001b[1;33m \u001b[0mBasket2\u001b[0m\u001b[1;33m.\u001b[0m\u001b[0mtransfer\u001b[0m\u001b[1;33m(\u001b[0m\u001b[1;34m'purple'\u001b[0m\u001b[1;33m,\u001b[0m \u001b[0mBasket1\u001b[0m\u001b[1;33m)\u001b[0m\u001b[1;33m\u001b[0m\u001b[1;33m\u001b[0m\u001b[0m\n\u001b[0m",
      "\u001b[1;32m~\\AppData\\Local\\Temp/ipykernel_28008/99239594.py\u001b[0m in \u001b[0;36mtransfer\u001b[1;34m(self, color, basket_to)\u001b[0m\n\u001b[0;32m     37\u001b[0m     \u001b[1;32mdef\u001b[0m \u001b[0mtransfer\u001b[0m\u001b[1;33m(\u001b[0m\u001b[0mself\u001b[0m\u001b[1;33m,\u001b[0m\u001b[0mcolor\u001b[0m\u001b[1;33m,\u001b[0m \u001b[0mbasket_to\u001b[0m\u001b[1;33m)\u001b[0m\u001b[1;33m:\u001b[0m\u001b[1;33m\u001b[0m\u001b[1;33m\u001b[0m\u001b[0m\n\u001b[0;32m     38\u001b[0m         \u001b[1;32mif\u001b[0m \u001b[0mcolor\u001b[0m \u001b[1;32mnot\u001b[0m \u001b[1;32min\u001b[0m \u001b[0mself\u001b[0m\u001b[1;33m.\u001b[0m\u001b[0mbasket\u001b[0m\u001b[1;33m:\u001b[0m\u001b[1;33m\u001b[0m\u001b[1;33m\u001b[0m\u001b[0m\n\u001b[1;32m---> 39\u001b[1;33m             \u001b[1;32mraise\u001b[0m \u001b[0mValueError\u001b[0m\u001b[1;33m(\u001b[0m\u001b[1;34m'COLOR NOT IN BASKET'\u001b[0m\u001b[1;33m)\u001b[0m\u001b[1;33m\u001b[0m\u001b[1;33m\u001b[0m\u001b[0m\n\u001b[0m\u001b[0;32m     40\u001b[0m \u001b[1;33m\u001b[0m\u001b[0m\n\u001b[0;32m     41\u001b[0m         \u001b[0mself\u001b[0m\u001b[1;33m.\u001b[0m\u001b[0mremove\u001b[0m\u001b[1;33m(\u001b[0m\u001b[0mcolor\u001b[0m\u001b[1;33m)\u001b[0m\u001b[1;33m\u001b[0m\u001b[1;33m\u001b[0m\u001b[0m\n",
      "\u001b[1;31mValueError\u001b[0m: COLOR NOT IN BASKET"
     ]
    }
   ],
   "source": [
    "Basket2.transfer('purple', Basket1)"
   ]
  },
  {
   "cell_type": "code",
   "execution_count": 15,
   "metadata": {},
   "outputs": [
    {
     "name": "stdout",
     "output_type": "stream",
     "text": [
      "red candy removed\n",
      "red candy removed\n"
     ]
    }
   ],
   "source": [
    "Basket1.transfer('red', Basket2)\n",
    "Basket1.transfer('red', Basket2)"
   ]
  },
  {
   "cell_type": "code",
   "execution_count": 16,
   "metadata": {},
   "outputs": [
    {
     "name": "stdout",
     "output_type": "stream",
     "text": [
      "['red', 'yellow']\n",
      "['blue', 'blue', 'blue', 'red', 'red']\n"
     ]
    }
   ],
   "source": [
    "print(Basket1.basket)\n",
    "print(Basket2.basket)"
   ]
  },
  {
   "cell_type": "code",
   "execution_count": 17,
   "metadata": {},
   "outputs": [
    {
     "name": "stdout",
     "output_type": "stream",
     "text": [
      "Total price = 8\n",
      "Total price = 16\n"
     ]
    }
   ],
   "source": [
    "Basket1.total_price()\n",
    "Basket2.total_price()"
   ]
  },
  {
   "cell_type": "markdown",
   "metadata": {},
   "source": [
    "## Question 2 (195 points): Data Science\n",
    "\n",
    "Complete the following data science pipeline:\n",
    "\n",
    "1) **Loading**:  Load boston data from sklearn.datasets (5 points) <br>\n",
    "\n",
    "2) **Feature Selection/Engineering**\n",
    "\n",
    "* Perform some basic exploratory data analysis as appropriate to determine what are the top five features potentially useful for the prediction (15 points) <br>\n",
    "\n",
    "* Create X using the top five features, and the corresponding y (10 points) <br>  \n",
    "\n",
    "* Do train test split the data **FROM SCRATCH** (5 points) <br>\n",
    "\n",
    "* Scale your data **FROM SCRATCH** using **Box-Cox transform** with $\\lambda$ = -1 (15 points) : (6.3.2.2. Mapping to a Gaussian distribution **Box-Cox transform**) https://scikit-learn.org/stable/modules/preprocessing.html#mapping-to-a-gaussian-distribution <br>\n",
    "\n",
    "$$\n",
    "x_i^{(\\lambda)} = \\begin{cases}\n",
    "      \\displaystyle\\frac{x_i^{(\\lambda)} - 1}{\\lambda} & \\text{if }  \\lambda \\neq 0  \\\\\n",
    "      \\ln (x_i) & \\text{if } \\lambda = 0 \\\\\n",
    "      \\end{cases}\n",
    "$$\n",
    "\n",
    "3) **Model Implementation**: Implement Linear Regression class **FROM SCRATCH** with the following features <br>\n",
    "* choice of **weight initialization** (normal distribution with mean=0 and std=1, random between 0-1, all zero) (15 points)\n",
    "* choice of **sampling method** (batch, mini batch, stochastic) (15 points) \n",
    "* **raise ValueError** where appropriate (5 points) \n",
    "* use **without replacement** for stochastic  (5 points) \n",
    "* choice of **loss function** (normal, ridge)   (15 points) \n",
    "    * normal loss function\n",
    "    \n",
    "        $$J(\\theta) = \\frac{1}{2}\\sum_{i=1}^m(h_\\theta(x^{(i)}) - y^{(i)})^2$$    \n",
    "    \n",
    "        $$\\frac{\\partial J}{\\partial \\theta_j} = \\sum_{i=1}^{m}(h^{(i)}-y^{(i)})x_j$$\n",
    "\n",
    "    * ridge loss function\n",
    "    \n",
    "        $$ J(\\theta) = \\frac{1}{2}\\sum_{i=1}^m(h_\\theta(x^{(i)}) - y^{(i)})^2 + \\lambda\\sum_{i=1}^n \\theta_i^2$$\n",
    "        \n",
    "        $$\\frac{\\partial J}{\\partial \\theta_j} = \\sum_{i=1}^{m}(h^{(i)}-y^{(i)})x_j + \\lambda \\theta_j$$\n",
    "\n",
    "* Implement a feature importance function **FROM SCRATCH** which will output a bar plot, plotting the importance scores of each features in sorted order (15 points).\n",
    "    * If we have scaled our data in our beginning (e.g., standard scaler), feature importance scores are simply the weights.  Larger weights imply stronger importance.  Anyhow, plotting them can be nasty since some weights can be very big, thus you may want to log-transform them. \n",
    "\n",
    "4) **Training/Experiment**: Implement a cross validation experiment **FROM SCRATCH** comparing their cross-validation accuracy, and output their feature importance scores (15 points)\n",
    "\n",
    "* mini-batch sampling, normal loss\n",
    "* mini-batch sampling, ridge loss with lambda of 0.05\n",
    "* stochastic sampling, normal loss\n",
    "* stochastic sampling, ridge loss with lambda of 0.05\n",
    "\n",
    "5) **Training/Testing**: Select the best parameters you found in 4), train and verify the best model with the testing set. Plot training and testing losses and accuracies as number of iters increases (10 points)\n",
    "    \n",
    "6) **Communication**: Interpret your results (e.g., overfitting, weights, accuracy, etc.).  Critical analyses will be used as main criteria for scoring (50 points)"
   ]
  },
  {
   "cell_type": "code",
   "execution_count": 18,
   "metadata": {},
   "outputs": [
    {
     "data": {
      "text/plain": [
       "(506, 13)"
      ]
     },
     "execution_count": 18,
     "metadata": {},
     "output_type": "execute_result"
    }
   ],
   "source": [
    "from sklearn.datasets import load_boston\n",
    "import pandas as pd\n",
    "from sklearn.preprocessing import StandardScaler\n",
    "boston = load_boston()\n",
    "X = boston.data\n",
    "X.shape"
   ]
  },
  {
   "cell_type": "code",
   "execution_count": 19,
   "metadata": {},
   "outputs": [
    {
     "data": {
      "text/html": [
       "<div>\n",
       "<style scoped>\n",
       "    .dataframe tbody tr th:only-of-type {\n",
       "        vertical-align: middle;\n",
       "    }\n",
       "\n",
       "    .dataframe tbody tr th {\n",
       "        vertical-align: top;\n",
       "    }\n",
       "\n",
       "    .dataframe thead th {\n",
       "        text-align: right;\n",
       "    }\n",
       "</style>\n",
       "<table border=\"1\" class=\"dataframe\">\n",
       "  <thead>\n",
       "    <tr style=\"text-align: right;\">\n",
       "      <th></th>\n",
       "      <th>CRIM</th>\n",
       "      <th>ZN</th>\n",
       "      <th>INDUS</th>\n",
       "      <th>CHAS</th>\n",
       "      <th>NOX</th>\n",
       "      <th>RM</th>\n",
       "      <th>AGE</th>\n",
       "      <th>DIS</th>\n",
       "      <th>RAD</th>\n",
       "      <th>TAX</th>\n",
       "      <th>PTRATIO</th>\n",
       "      <th>B</th>\n",
       "      <th>LSTAT</th>\n",
       "    </tr>\n",
       "  </thead>\n",
       "  <tbody>\n",
       "    <tr>\n",
       "      <th>0</th>\n",
       "      <td>0.00632</td>\n",
       "      <td>18.0</td>\n",
       "      <td>2.31</td>\n",
       "      <td>0.0</td>\n",
       "      <td>0.538</td>\n",
       "      <td>6.575</td>\n",
       "      <td>65.2</td>\n",
       "      <td>4.0900</td>\n",
       "      <td>1.0</td>\n",
       "      <td>296.0</td>\n",
       "      <td>15.3</td>\n",
       "      <td>396.90</td>\n",
       "      <td>4.98</td>\n",
       "    </tr>\n",
       "    <tr>\n",
       "      <th>1</th>\n",
       "      <td>0.02731</td>\n",
       "      <td>0.0</td>\n",
       "      <td>7.07</td>\n",
       "      <td>0.0</td>\n",
       "      <td>0.469</td>\n",
       "      <td>6.421</td>\n",
       "      <td>78.9</td>\n",
       "      <td>4.9671</td>\n",
       "      <td>2.0</td>\n",
       "      <td>242.0</td>\n",
       "      <td>17.8</td>\n",
       "      <td>396.90</td>\n",
       "      <td>9.14</td>\n",
       "    </tr>\n",
       "    <tr>\n",
       "      <th>2</th>\n",
       "      <td>0.02729</td>\n",
       "      <td>0.0</td>\n",
       "      <td>7.07</td>\n",
       "      <td>0.0</td>\n",
       "      <td>0.469</td>\n",
       "      <td>7.185</td>\n",
       "      <td>61.1</td>\n",
       "      <td>4.9671</td>\n",
       "      <td>2.0</td>\n",
       "      <td>242.0</td>\n",
       "      <td>17.8</td>\n",
       "      <td>392.83</td>\n",
       "      <td>4.03</td>\n",
       "    </tr>\n",
       "    <tr>\n",
       "      <th>3</th>\n",
       "      <td>0.03237</td>\n",
       "      <td>0.0</td>\n",
       "      <td>2.18</td>\n",
       "      <td>0.0</td>\n",
       "      <td>0.458</td>\n",
       "      <td>6.998</td>\n",
       "      <td>45.8</td>\n",
       "      <td>6.0622</td>\n",
       "      <td>3.0</td>\n",
       "      <td>222.0</td>\n",
       "      <td>18.7</td>\n",
       "      <td>394.63</td>\n",
       "      <td>2.94</td>\n",
       "    </tr>\n",
       "    <tr>\n",
       "      <th>4</th>\n",
       "      <td>0.06905</td>\n",
       "      <td>0.0</td>\n",
       "      <td>2.18</td>\n",
       "      <td>0.0</td>\n",
       "      <td>0.458</td>\n",
       "      <td>7.147</td>\n",
       "      <td>54.2</td>\n",
       "      <td>6.0622</td>\n",
       "      <td>3.0</td>\n",
       "      <td>222.0</td>\n",
       "      <td>18.7</td>\n",
       "      <td>396.90</td>\n",
       "      <td>5.33</td>\n",
       "    </tr>\n",
       "  </tbody>\n",
       "</table>\n",
       "</div>"
      ],
      "text/plain": [
       "      CRIM    ZN  INDUS  CHAS    NOX     RM   AGE     DIS  RAD    TAX  \\\n",
       "0  0.00632  18.0   2.31   0.0  0.538  6.575  65.2  4.0900  1.0  296.0   \n",
       "1  0.02731   0.0   7.07   0.0  0.469  6.421  78.9  4.9671  2.0  242.0   \n",
       "2  0.02729   0.0   7.07   0.0  0.469  7.185  61.1  4.9671  2.0  242.0   \n",
       "3  0.03237   0.0   2.18   0.0  0.458  6.998  45.8  6.0622  3.0  222.0   \n",
       "4  0.06905   0.0   2.18   0.0  0.458  7.147  54.2  6.0622  3.0  222.0   \n",
       "\n",
       "   PTRATIO       B  LSTAT  \n",
       "0     15.3  396.90   4.98  \n",
       "1     17.8  396.90   9.14  \n",
       "2     17.8  392.83   4.03  \n",
       "3     18.7  394.63   2.94  \n",
       "4     18.7  396.90   5.33  "
      ]
     },
     "execution_count": 19,
     "metadata": {},
     "output_type": "execute_result"
    }
   ],
   "source": [
    "df = pd.DataFrame(X, columns=boston.feature_names)\n",
    "df.head()\n"
   ]
  },
  {
   "cell_type": "code",
   "execution_count": 20,
   "metadata": {},
   "outputs": [
    {
     "data": {
      "text/html": [
       "<div>\n",
       "<style scoped>\n",
       "    .dataframe tbody tr th:only-of-type {\n",
       "        vertical-align: middle;\n",
       "    }\n",
       "\n",
       "    .dataframe tbody tr th {\n",
       "        vertical-align: top;\n",
       "    }\n",
       "\n",
       "    .dataframe thead th {\n",
       "        text-align: right;\n",
       "    }\n",
       "</style>\n",
       "<table border=\"1\" class=\"dataframe\">\n",
       "  <thead>\n",
       "    <tr style=\"text-align: right;\">\n",
       "      <th></th>\n",
       "      <th>CRIM</th>\n",
       "      <th>ZN</th>\n",
       "      <th>INDUS</th>\n",
       "      <th>CHAS</th>\n",
       "      <th>NOX</th>\n",
       "      <th>RM</th>\n",
       "      <th>AGE</th>\n",
       "      <th>DIS</th>\n",
       "      <th>RAD</th>\n",
       "      <th>TAX</th>\n",
       "      <th>PTRATIO</th>\n",
       "      <th>B</th>\n",
       "      <th>LSTAT</th>\n",
       "    </tr>\n",
       "  </thead>\n",
       "  <tbody>\n",
       "    <tr>\n",
       "      <th>501</th>\n",
       "      <td>0.06263</td>\n",
       "      <td>0.0</td>\n",
       "      <td>11.93</td>\n",
       "      <td>0.0</td>\n",
       "      <td>0.573</td>\n",
       "      <td>6.593</td>\n",
       "      <td>69.1</td>\n",
       "      <td>2.4786</td>\n",
       "      <td>1.0</td>\n",
       "      <td>273.0</td>\n",
       "      <td>21.0</td>\n",
       "      <td>391.99</td>\n",
       "      <td>9.67</td>\n",
       "    </tr>\n",
       "    <tr>\n",
       "      <th>502</th>\n",
       "      <td>0.04527</td>\n",
       "      <td>0.0</td>\n",
       "      <td>11.93</td>\n",
       "      <td>0.0</td>\n",
       "      <td>0.573</td>\n",
       "      <td>6.120</td>\n",
       "      <td>76.7</td>\n",
       "      <td>2.2875</td>\n",
       "      <td>1.0</td>\n",
       "      <td>273.0</td>\n",
       "      <td>21.0</td>\n",
       "      <td>396.90</td>\n",
       "      <td>9.08</td>\n",
       "    </tr>\n",
       "    <tr>\n",
       "      <th>503</th>\n",
       "      <td>0.06076</td>\n",
       "      <td>0.0</td>\n",
       "      <td>11.93</td>\n",
       "      <td>0.0</td>\n",
       "      <td>0.573</td>\n",
       "      <td>6.976</td>\n",
       "      <td>91.0</td>\n",
       "      <td>2.1675</td>\n",
       "      <td>1.0</td>\n",
       "      <td>273.0</td>\n",
       "      <td>21.0</td>\n",
       "      <td>396.90</td>\n",
       "      <td>5.64</td>\n",
       "    </tr>\n",
       "    <tr>\n",
       "      <th>504</th>\n",
       "      <td>0.10959</td>\n",
       "      <td>0.0</td>\n",
       "      <td>11.93</td>\n",
       "      <td>0.0</td>\n",
       "      <td>0.573</td>\n",
       "      <td>6.794</td>\n",
       "      <td>89.3</td>\n",
       "      <td>2.3889</td>\n",
       "      <td>1.0</td>\n",
       "      <td>273.0</td>\n",
       "      <td>21.0</td>\n",
       "      <td>393.45</td>\n",
       "      <td>6.48</td>\n",
       "    </tr>\n",
       "    <tr>\n",
       "      <th>505</th>\n",
       "      <td>0.04741</td>\n",
       "      <td>0.0</td>\n",
       "      <td>11.93</td>\n",
       "      <td>0.0</td>\n",
       "      <td>0.573</td>\n",
       "      <td>6.030</td>\n",
       "      <td>80.8</td>\n",
       "      <td>2.5050</td>\n",
       "      <td>1.0</td>\n",
       "      <td>273.0</td>\n",
       "      <td>21.0</td>\n",
       "      <td>396.90</td>\n",
       "      <td>7.88</td>\n",
       "    </tr>\n",
       "  </tbody>\n",
       "</table>\n",
       "</div>"
      ],
      "text/plain": [
       "        CRIM   ZN  INDUS  CHAS    NOX     RM   AGE     DIS  RAD    TAX  \\\n",
       "501  0.06263  0.0  11.93   0.0  0.573  6.593  69.1  2.4786  1.0  273.0   \n",
       "502  0.04527  0.0  11.93   0.0  0.573  6.120  76.7  2.2875  1.0  273.0   \n",
       "503  0.06076  0.0  11.93   0.0  0.573  6.976  91.0  2.1675  1.0  273.0   \n",
       "504  0.10959  0.0  11.93   0.0  0.573  6.794  89.3  2.3889  1.0  273.0   \n",
       "505  0.04741  0.0  11.93   0.0  0.573  6.030  80.8  2.5050  1.0  273.0   \n",
       "\n",
       "     PTRATIO       B  LSTAT  \n",
       "501     21.0  391.99   9.67  \n",
       "502     21.0  396.90   9.08  \n",
       "503     21.0  396.90   5.64  \n",
       "504     21.0  393.45   6.48  \n",
       "505     21.0  396.90   7.88  "
      ]
     },
     "execution_count": 20,
     "metadata": {},
     "output_type": "execute_result"
    }
   ],
   "source": [
    "df.tail()"
   ]
  },
  {
   "cell_type": "code",
   "execution_count": 21,
   "metadata": {},
   "outputs": [
    {
     "data": {
      "text/html": [
       "<div>\n",
       "<style scoped>\n",
       "    .dataframe tbody tr th:only-of-type {\n",
       "        vertical-align: middle;\n",
       "    }\n",
       "\n",
       "    .dataframe tbody tr th {\n",
       "        vertical-align: top;\n",
       "    }\n",
       "\n",
       "    .dataframe thead th {\n",
       "        text-align: right;\n",
       "    }\n",
       "</style>\n",
       "<table border=\"1\" class=\"dataframe\">\n",
       "  <thead>\n",
       "    <tr style=\"text-align: right;\">\n",
       "      <th></th>\n",
       "      <th>CRIM</th>\n",
       "      <th>ZN</th>\n",
       "      <th>INDUS</th>\n",
       "      <th>CHAS</th>\n",
       "      <th>NOX</th>\n",
       "      <th>RM</th>\n",
       "      <th>AGE</th>\n",
       "      <th>DIS</th>\n",
       "      <th>RAD</th>\n",
       "      <th>TAX</th>\n",
       "      <th>PTRATIO</th>\n",
       "      <th>B</th>\n",
       "      <th>LSTAT</th>\n",
       "    </tr>\n",
       "  </thead>\n",
       "  <tbody>\n",
       "    <tr>\n",
       "      <th>count</th>\n",
       "      <td>506.000000</td>\n",
       "      <td>506.000000</td>\n",
       "      <td>506.000000</td>\n",
       "      <td>506.000000</td>\n",
       "      <td>506.000000</td>\n",
       "      <td>506.000000</td>\n",
       "      <td>506.000000</td>\n",
       "      <td>506.000000</td>\n",
       "      <td>506.000000</td>\n",
       "      <td>506.000000</td>\n",
       "      <td>506.000000</td>\n",
       "      <td>506.000000</td>\n",
       "      <td>506.000000</td>\n",
       "    </tr>\n",
       "    <tr>\n",
       "      <th>mean</th>\n",
       "      <td>3.613524</td>\n",
       "      <td>11.363636</td>\n",
       "      <td>11.136779</td>\n",
       "      <td>0.069170</td>\n",
       "      <td>0.554695</td>\n",
       "      <td>6.284634</td>\n",
       "      <td>68.574901</td>\n",
       "      <td>3.795043</td>\n",
       "      <td>9.549407</td>\n",
       "      <td>408.237154</td>\n",
       "      <td>18.455534</td>\n",
       "      <td>356.674032</td>\n",
       "      <td>12.653063</td>\n",
       "    </tr>\n",
       "    <tr>\n",
       "      <th>std</th>\n",
       "      <td>8.601545</td>\n",
       "      <td>23.322453</td>\n",
       "      <td>6.860353</td>\n",
       "      <td>0.253994</td>\n",
       "      <td>0.115878</td>\n",
       "      <td>0.702617</td>\n",
       "      <td>28.148861</td>\n",
       "      <td>2.105710</td>\n",
       "      <td>8.707259</td>\n",
       "      <td>168.537116</td>\n",
       "      <td>2.164946</td>\n",
       "      <td>91.294864</td>\n",
       "      <td>7.141062</td>\n",
       "    </tr>\n",
       "    <tr>\n",
       "      <th>min</th>\n",
       "      <td>0.006320</td>\n",
       "      <td>0.000000</td>\n",
       "      <td>0.460000</td>\n",
       "      <td>0.000000</td>\n",
       "      <td>0.385000</td>\n",
       "      <td>3.561000</td>\n",
       "      <td>2.900000</td>\n",
       "      <td>1.129600</td>\n",
       "      <td>1.000000</td>\n",
       "      <td>187.000000</td>\n",
       "      <td>12.600000</td>\n",
       "      <td>0.320000</td>\n",
       "      <td>1.730000</td>\n",
       "    </tr>\n",
       "    <tr>\n",
       "      <th>25%</th>\n",
       "      <td>0.082045</td>\n",
       "      <td>0.000000</td>\n",
       "      <td>5.190000</td>\n",
       "      <td>0.000000</td>\n",
       "      <td>0.449000</td>\n",
       "      <td>5.885500</td>\n",
       "      <td>45.025000</td>\n",
       "      <td>2.100175</td>\n",
       "      <td>4.000000</td>\n",
       "      <td>279.000000</td>\n",
       "      <td>17.400000</td>\n",
       "      <td>375.377500</td>\n",
       "      <td>6.950000</td>\n",
       "    </tr>\n",
       "    <tr>\n",
       "      <th>50%</th>\n",
       "      <td>0.256510</td>\n",
       "      <td>0.000000</td>\n",
       "      <td>9.690000</td>\n",
       "      <td>0.000000</td>\n",
       "      <td>0.538000</td>\n",
       "      <td>6.208500</td>\n",
       "      <td>77.500000</td>\n",
       "      <td>3.207450</td>\n",
       "      <td>5.000000</td>\n",
       "      <td>330.000000</td>\n",
       "      <td>19.050000</td>\n",
       "      <td>391.440000</td>\n",
       "      <td>11.360000</td>\n",
       "    </tr>\n",
       "    <tr>\n",
       "      <th>75%</th>\n",
       "      <td>3.677083</td>\n",
       "      <td>12.500000</td>\n",
       "      <td>18.100000</td>\n",
       "      <td>0.000000</td>\n",
       "      <td>0.624000</td>\n",
       "      <td>6.623500</td>\n",
       "      <td>94.075000</td>\n",
       "      <td>5.188425</td>\n",
       "      <td>24.000000</td>\n",
       "      <td>666.000000</td>\n",
       "      <td>20.200000</td>\n",
       "      <td>396.225000</td>\n",
       "      <td>16.955000</td>\n",
       "    </tr>\n",
       "    <tr>\n",
       "      <th>max</th>\n",
       "      <td>88.976200</td>\n",
       "      <td>100.000000</td>\n",
       "      <td>27.740000</td>\n",
       "      <td>1.000000</td>\n",
       "      <td>0.871000</td>\n",
       "      <td>8.780000</td>\n",
       "      <td>100.000000</td>\n",
       "      <td>12.126500</td>\n",
       "      <td>24.000000</td>\n",
       "      <td>711.000000</td>\n",
       "      <td>22.000000</td>\n",
       "      <td>396.900000</td>\n",
       "      <td>37.970000</td>\n",
       "    </tr>\n",
       "  </tbody>\n",
       "</table>\n",
       "</div>"
      ],
      "text/plain": [
       "             CRIM          ZN       INDUS        CHAS         NOX          RM  \\\n",
       "count  506.000000  506.000000  506.000000  506.000000  506.000000  506.000000   \n",
       "mean     3.613524   11.363636   11.136779    0.069170    0.554695    6.284634   \n",
       "std      8.601545   23.322453    6.860353    0.253994    0.115878    0.702617   \n",
       "min      0.006320    0.000000    0.460000    0.000000    0.385000    3.561000   \n",
       "25%      0.082045    0.000000    5.190000    0.000000    0.449000    5.885500   \n",
       "50%      0.256510    0.000000    9.690000    0.000000    0.538000    6.208500   \n",
       "75%      3.677083   12.500000   18.100000    0.000000    0.624000    6.623500   \n",
       "max     88.976200  100.000000   27.740000    1.000000    0.871000    8.780000   \n",
       "\n",
       "              AGE         DIS         RAD         TAX     PTRATIO           B  \\\n",
       "count  506.000000  506.000000  506.000000  506.000000  506.000000  506.000000   \n",
       "mean    68.574901    3.795043    9.549407  408.237154   18.455534  356.674032   \n",
       "std     28.148861    2.105710    8.707259  168.537116    2.164946   91.294864   \n",
       "min      2.900000    1.129600    1.000000  187.000000   12.600000    0.320000   \n",
       "25%     45.025000    2.100175    4.000000  279.000000   17.400000  375.377500   \n",
       "50%     77.500000    3.207450    5.000000  330.000000   19.050000  391.440000   \n",
       "75%     94.075000    5.188425   24.000000  666.000000   20.200000  396.225000   \n",
       "max    100.000000   12.126500   24.000000  711.000000   22.000000  396.900000   \n",
       "\n",
       "            LSTAT  \n",
       "count  506.000000  \n",
       "mean    12.653063  \n",
       "std      7.141062  \n",
       "min      1.730000  \n",
       "25%      6.950000  \n",
       "50%     11.360000  \n",
       "75%     16.955000  \n",
       "max     37.970000  "
      ]
     },
     "execution_count": 21,
     "metadata": {},
     "output_type": "execute_result"
    }
   ],
   "source": [
    "df.describe()"
   ]
  },
  {
   "cell_type": "code",
   "execution_count": 22,
   "metadata": {},
   "outputs": [
    {
     "data": {
      "text/plain": [
       "CRIM       0\n",
       "ZN         0\n",
       "INDUS      0\n",
       "CHAS       0\n",
       "NOX        0\n",
       "RM         0\n",
       "AGE        0\n",
       "DIS        0\n",
       "RAD        0\n",
       "TAX        0\n",
       "PTRATIO    0\n",
       "B          0\n",
       "LSTAT      0\n",
       "dtype: int64"
      ]
     },
     "execution_count": 22,
     "metadata": {},
     "output_type": "execute_result"
    }
   ],
   "source": [
    "# check for NULL values\n",
    "df.isnull().sum()"
   ]
  },
  {
   "cell_type": "code",
   "execution_count": 23,
   "metadata": {},
   "outputs": [
    {
     "data": {
      "text/plain": [
       "CRIM       False\n",
       "ZN         False\n",
       "INDUS      False\n",
       "CHAS       False\n",
       "NOX        False\n",
       "RM         False\n",
       "AGE        False\n",
       "DIS        False\n",
       "RAD        False\n",
       "TAX        False\n",
       "PTRATIO    False\n",
       "B          False\n",
       "LSTAT      False\n",
       "dtype: bool"
      ]
     },
     "execution_count": 23,
     "metadata": {},
     "output_type": "execute_result"
    }
   ],
   "source": [
    "# check for string values\n",
    "df.applymap(type).eq(str).all()"
   ]
  },
  {
   "cell_type": "code",
   "execution_count": 24,
   "metadata": {},
   "outputs": [
    {
     "data": {
      "text/plain": [
       "<AxesSubplot:xlabel='CRIM'>"
      ]
     },
     "execution_count": 24,
     "metadata": {},
     "output_type": "execute_result"
    },
    {
     "data": {
      "image/png": "[encoded data removed]",
      "text/plain": [
       "<Figure size 432x288 with 1 Axes>"
      ]
     },
     "metadata": {
      "needs_background": "light"
     },
     "output_type": "display_data"
    }
   ],
   "source": [
    "df.groupby('CRIM')['TAX'].mean().plot.bar()"
   ]
  },
  {
   "cell_type": "code",
   "execution_count": 25,
   "metadata": {},
   "outputs": [],
   "source": [
    "X = df[['CRIM', 'RM', 'AGE', 'TAX', 'LSTAT']]\n",
    "y = boston.target"
   ]
  },
  {
   "cell_type": "code",
   "execution_count": 26,
   "metadata": {},
   "outputs": [
    {
     "name": "stdout",
     "output_type": "stream",
     "text": [
      "        CRIM     RM   AGE    TAX  LSTAT\n",
      "0    0.00632  6.575  65.2  296.0   4.98\n",
      "1    0.02731  6.421  78.9  242.0   9.14\n",
      "2    0.02729  7.185  61.1  242.0   4.03\n",
      "3    0.03237  6.998  45.8  222.0   2.94\n",
      "4    0.06905  7.147  54.2  222.0   5.33\n",
      "..       ...    ...   ...    ...    ...\n",
      "501  0.06263  6.593  69.1  273.0   9.67\n",
      "502  0.04527  6.120  76.7  273.0   9.08\n",
      "503  0.06076  6.976  91.0  273.0   5.64\n",
      "504  0.10959  6.794  89.3  273.0   6.48\n",
      "505  0.04741  6.030  80.8  273.0   7.88\n",
      "\n",
      "[506 rows x 5 columns]\n",
      "[24.  21.6 34.7 33.4 36.2 28.7 22.9 27.1 16.5 18.9 15.  18.9 21.7 20.4\n",
      " 18.2 19.9 23.1 17.5 20.2 18.2 13.6 19.6 15.2 14.5 15.6 13.9 16.6 14.8\n",
      " 18.4 21.  12.7 14.5 13.2 13.1 13.5 18.9 20.  21.  24.7 30.8 34.9 26.6\n",
      " 25.3 24.7 21.2 19.3 20.  16.6 14.4 19.4 19.7 20.5 25.  23.4 18.9 35.4\n",
      " 24.7 31.6 23.3 19.6 18.7 16.  22.2 25.  33.  23.5 19.4 22.  17.4 20.9\n",
      " 24.2 21.7 22.8 23.4 24.1 21.4 20.  20.8 21.2 20.3 28.  23.9 24.8 22.9\n",
      " 23.9 26.6 22.5 22.2 23.6 28.7 22.6 22.  22.9 25.  20.6 28.4 21.4 38.7\n",
      " 43.8 33.2 27.5 26.5 18.6 19.3 20.1 19.5 19.5 20.4 19.8 19.4 21.7 22.8\n",
      " 18.8 18.7 18.5 18.3 21.2 19.2 20.4 19.3 22.  20.3 20.5 17.3 18.8 21.4\n",
      " 15.7 16.2 18.  14.3 19.2 19.6 23.  18.4 15.6 18.1 17.4 17.1 13.3 17.8\n",
      " 14.  14.4 13.4 15.6 11.8 13.8 15.6 14.6 17.8 15.4 21.5 19.6 15.3 19.4\n",
      " 17.  15.6 13.1 41.3 24.3 23.3 27.  50.  50.  50.  22.7 25.  50.  23.8\n",
      " 23.8 22.3 17.4 19.1 23.1 23.6 22.6 29.4 23.2 24.6 29.9 37.2 39.8 36.2\n",
      " 37.9 32.5 26.4 29.6 50.  32.  29.8 34.9 37.  30.5 36.4 31.1 29.1 50.\n",
      " 33.3 30.3 34.6 34.9 32.9 24.1 42.3 48.5 50.  22.6 24.4 22.5 24.4 20.\n",
      " 21.7 19.3 22.4 28.1 23.7 25.  23.3 28.7 21.5 23.  26.7 21.7 27.5 30.1\n",
      " 44.8 50.  37.6 31.6 46.7 31.5 24.3 31.7 41.7 48.3 29.  24.  25.1 31.5\n",
      " 23.7 23.3 22.  20.1 22.2 23.7 17.6 18.5 24.3 20.5 24.5 26.2 24.4 24.8\n",
      " 29.6 42.8 21.9 20.9 44.  50.  36.  30.1 33.8 43.1 48.8 31.  36.5 22.8\n",
      " 30.7 50.  43.5 20.7 21.1 25.2 24.4 35.2 32.4 32.  33.2 33.1 29.1 35.1\n",
      " 45.4 35.4 46.  50.  32.2 22.  20.1 23.2 22.3 24.8 28.5 37.3 27.9 23.9\n",
      " 21.7 28.6 27.1 20.3 22.5 29.  24.8 22.  26.4 33.1 36.1 28.4 33.4 28.2\n",
      " 22.8 20.3 16.1 22.1 19.4 21.6 23.8 16.2 17.8 19.8 23.1 21.  23.8 23.1\n",
      " 20.4 18.5 25.  24.6 23.  22.2 19.3 22.6 19.8 17.1 19.4 22.2 20.7 21.1\n",
      " 19.5 18.5 20.6 19.  18.7 32.7 16.5 23.9 31.2 17.5 17.2 23.1 24.5 26.6\n",
      " 22.9 24.1 18.6 30.1 18.2 20.6 17.8 21.7 22.7 22.6 25.  19.9 20.8 16.8\n",
      " 21.9 27.5 21.9 23.1 50.  50.  50.  50.  50.  13.8 13.8 15.  13.9 13.3\n",
      " 13.1 10.2 10.4 10.9 11.3 12.3  8.8  7.2 10.5  7.4 10.2 11.5 15.1 23.2\n",
      "  9.7 13.8 12.7 13.1 12.5  8.5  5.   6.3  5.6  7.2 12.1  8.3  8.5  5.\n",
      " 11.9 27.9 17.2 27.5 15.  17.2 17.9 16.3  7.   7.2  7.5 10.4  8.8  8.4\n",
      " 16.7 14.2 20.8 13.4 11.7  8.3 10.2 10.9 11.   9.5 14.5 14.1 16.1 14.3\n",
      " 11.7 13.4  9.6  8.7  8.4 12.8 10.5 17.1 18.4 15.4 10.8 11.8 14.9 12.6\n",
      " 14.1 13.  13.4 15.2 16.1 17.8 14.9 14.1 12.7 13.5 14.9 20.  16.4 17.7\n",
      " 19.5 20.2 21.4 19.9 19.  19.1 19.1 20.1 19.9 19.6 23.2 29.8 13.8 13.3\n",
      " 16.7 12.  14.6 21.4 23.  23.7 25.  21.8 20.6 21.2 19.1 20.6 15.2  7.\n",
      "  8.1 13.6 20.1 21.8 24.5 23.1 19.7 18.3 21.2 17.5 16.8 22.4 20.6 23.9\n",
      " 22.  11.9]\n"
     ]
    }
   ],
   "source": [
    "print(X)\n",
    "print(y)\n",
    "\n",
    "scaler = StandardScaler()\n",
    "X = scaler.fit_transform(X)"
   ]
  },
  {
   "cell_type": "code",
   "execution_count": 27,
   "metadata": {},
   "outputs": [
    {
     "name": "stdout",
     "output_type": "stream",
     "text": [
      "[[-0.3891688  -0.02654764  0.50585265 -0.61909395 -0.66625486]\n",
      " [-0.37678668 -1.25460342  0.71210397 -0.77945458  1.58773958]\n",
      " [-0.40718105  0.36095952 -0.35115713 -1.10017586 -0.6900844 ]\n",
      " ...\n",
      " [-0.39144738 -0.60923304  1.05348546  0.17083068  1.21487732]\n",
      " [-0.40197218 -0.10490387 -2.20741899 -1.04078303 -0.7307348 ]\n",
      " [-0.40367123 -0.78874003 -0.12001342  0.14113426  0.13413745]]\n",
      "(152, 5)\n",
      "[21.6 19.3 24.4 10.9 29.1 16.6 24.2 28.4 19.1 24.8 17.2 21.5 43.5 26.5\n",
      " 50.  24.5 15.2 13.8 16.7 18.3 29.6 28.2 23.2 25.  25.3 34.6 41.3 13.8\n",
      " 22.  50.  50.  20.8  8.7 21.2 12.7 13.  16.3  7.  22.  13.5 15.6 20.3\n",
      " 46.7 28.4 19.3 14.2 33.4 25.2 11.3 20.1 25.  22.5 36.4 17.8 19.6 22.8\n",
      " 23.3 14.1 25.  50.  19.9 18.7 27.1 20.3 21.  19.4 13.1 50.  16.6 36.\n",
      " 30.8 13.4 14.3 36.2 23.3 28.7 18.6 20.7 11.7 21.7 22.8 12.1 20.2 22.2\n",
      " 12.6  7.5 19.4 26.2 11.8 18.7 15.2 24.1 16.4 32.7 13.9 21.6 14.4 14.9\n",
      " 29.8 13.1 17.2 29.4 15.4 20.6 20.  18.8 32.2  7.  16.5  7.2 23.8 48.3\n",
      " 27.9 10.2 10.5 21.7 31.5 22.4 23.3 18.  19.9 36.2 22.3 17.3 22.6 21.4\n",
      " 14.1 16.8 23.  24.5 18.6 18.9 22.8 29.1 20.9 24.1 19.9 14.4 48.5 15.1\n",
      " 23.1 22.3 23.  15.6 50.  20.6 11.  25.  33.2 15.  19.4 21.5 19.6 29.8\n",
      " 50.  23.2 24.7 13.4 19.2 25.1 32.  19.   9.5 19.4 22.2 28.7 20.1 13.6\n",
      " 38.7  9.6 19.5 42.8 17.4 17.8 17.5 17.7 16.1 24.8 16.1 20.4 48.8 21.4\n",
      " 19.7 13.1 21.4 24.8 24.4 13.8 21.7 24.7 22.5 22.   8.8 50.  17.8 17.2\n",
      " 50.  14.6 26.6 22.2 14.5 23.1 24.4 20.5 37.6 19.4 15.7 33.1 14.3 24.3\n",
      " 21.7 23.1 44.8 20.  14.9 14.5 50.  21.7 19.8 26.4 15.  10.2 19.6 22.9\n",
      " 23.9 23.5 12.7 37.3 20.2 12.8 17.4 50.  28.7 21.9 23.7 10.4 20.4 50.\n",
      " 22.  14.8 23.  31.6 23.4 24.5 17.9 22.6 15.   5.6 13.8 18.2 11.8 30.1\n",
      " 15.6 30.7 24.6 30.1 20.9 20.  24.3 12.7 21.8 20.8 23.1 20.4 13.6 31.1\n",
      " 28.  22.2  8.5 18.4 22.  23.  19.9  8.1 10.4 19.6 19.1 22.  14.  15.3\n",
      " 19.5 21.2 19.8 19.3  7.2 12.   8.5 19.2 10.5 32.4 18.4 23.1 43.8 37.\n",
      " 29.  25.  22.8 23.9 27.5 24.4 26.6 46.  21.4 18.5 25.  21.  16.  20.4\n",
      " 28.1 18.1 25.   8.4 24.8  5.  16.5 23.7 23.2  7.2 10.9 35.1 33.2 10.2\n",
      " 18.5 20.8 21.  23.1 20.5 34.9 31.5 45.4 34.7 12.3 13.5 11.5 21.1 19.4\n",
      " 35.4 21.7 22.7 34.9 20.1 19.5 31.7 18.5 32.9 35.4 17.8 17.5 13.9 16.7\n",
      " 10.8 13.3 24.7 19.3]\n",
      "(152,)\n"
     ]
    }
   ],
   "source": [
    "import random\n",
    "m, n = X.shape\n",
    "idx = np.arange(0, m)\n",
    "random.shuffle(idx)\n",
    "percent_train = 0.7\n",
    "m_train = int(m * percent_train)\n",
    "train_idx = idx[:m_train]\n",
    "# print(train_idx.shape)\n",
    "test_idx = idx[m_train:]\n",
    "# print(test_idx.shape)\n",
    "X_train = X[train_idx,:]\n",
    "X_test = X[test_idx,:]\n",
    "\n",
    "y_train = y[train_idx]\n",
    "y_test = y[test_idx]\n",
    "\n",
    "print(X_train)\n",
    "print(X_test.shape)\n",
    "print(y_train)\n",
    "print(y_test.shape)"
   ]
  },
  {
   "cell_type": "code",
   "execution_count": 28,
   "metadata": {},
   "outputs": [],
   "source": [
    "# #SCALE BOX COX\n",
    "# X_train_norm = (X_train-1)/-1\n",
    "# print(X_train_norm.shape)\n",
    "\n",
    "# X_test_norm = (X_test-1)/-1\n",
    "# print(X_test_norm.shape)"
   ]
  },
  {
   "cell_type": "code",
   "execution_count": 29,
   "metadata": {},
   "outputs": [],
   "source": [
    "intercept = np.ones((X_train.shape[0],1))\n",
    "X_train = np.concatenate((intercept, X_train), axis=1) # axis 1 is COLUMN\n",
    "\n",
    "intercept = np.ones((X_test.shape[0],1))\n",
    "X_test = np.concatenate((intercept, X_test), axis=1)"
   ]
  },
  {
   "cell_type": "code",
   "execution_count": 30,
   "metadata": {},
   "outputs": [],
   "source": [
    "\n",
    "class LinearRegression:\n",
    "    def __init__(self, weight_init, method, loss_function='normal', alpha=0.001, max_iter=1000, mini_batch_size=20, lambdaa=0.05):\n",
    "        self.weight_init = weight_init\n",
    "        self.method = method\n",
    "        self.loss_function = loss_function\n",
    "        self.alpha = alpha\n",
    "        self.max_iter = max_iter\n",
    "        self.mini_batch = mini_batch_size\n",
    "        self.lambdaa = lambdaa\n",
    "    \n",
    "    def gradient_descent(self, X_train, y_train):\n",
    "        if self.weight_init == 'normal':\n",
    "            self.theta = np.random.normal(0, 1, X_train.shape[1])\n",
    "        elif self.weight_init == 'random':\n",
    "            self.theta = np.random.uniform(0, 1, X_train.shape[1])\n",
    "        elif self.weight_init == 'zero':\n",
    "            self.theta = np.zeros(X_train.shape[1])\n",
    "        else:\n",
    "            raise ValueError('WEIGHT INITIALIZATION MUST BE NORMAL/RANDOM/ZERO')\n",
    "#         print(self.theta)\n",
    "        \n",
    "        if self.method == \"batch\":\n",
    "            for i in range(self.max_iter):\n",
    "                yhat = self.h_theta(X_train)\n",
    "                if self.loss_function == 'normal':\n",
    "                    loss = self.mse(yhat, y_train)\n",
    "                    self.error = yhat - y_train\n",
    "                    grad = self.gradient(X_train, self.error)\n",
    "                    self.theta = self.theta - self.alpha*grad\n",
    "                elif self.loss_function == 'ridge':\n",
    "                    loss = self.ridge(yhat, y_train, self.lambdaa)\n",
    "                    self.error = yhat - y_train\n",
    "                    grad = self.gradient(X_train, self.error)\n",
    "                else:\n",
    "                    raise ValueError('LOSS FUNCTION MUST BE NORMAL/RIDGE')\n",
    "            print(\"MSE = \",loss)\n",
    "            \n",
    "        elif self.method == \"sto\": #WITHOUT replacement\n",
    "            sampled = []\n",
    "            for i in range(self.max_iter):\n",
    "                random_sample = random.randint(0, (len(X_train)-1))\n",
    "                if len(sampled) >= X_train.shape[1]:\n",
    "                    sampled = []\n",
    "                while random_sample in sampled:\n",
    "                    random_sample = random.randint(0, (len(X_train)-1))\n",
    "                else:\n",
    "                    sampled.append(random_sample)\n",
    "                X_train_sample = X_train[random_sample].reshape(1,-1)\n",
    "                self.yhat = self.h_theta(X_train_sample)\n",
    "                self.error = self.yhat - y_train[random_sample]\n",
    "                self.grad = self.gradient(X_train_sample, self.error)\n",
    "                self.theta = self.theta - self.alpha*self.grad\n",
    "            loss = self.mse(self.yhat, y_train[random_sample])\n",
    "            print(\"MSE = \",loss)\n",
    "            \n",
    "        elif self.method == \"mini\":\n",
    "            count = 0 \n",
    "            for i in range(self.max_iter):\n",
    "                X_train_sample = X_train[count:count+self.mini_batch]\n",
    "                y_train_sample = y_train[count:count+self.mini_batch]\n",
    "                count += self.mini_batch\n",
    "                if count >= len(X_train):\n",
    "                    count = 0\n",
    "                self.yhat = self.h_theta(X_train_sample)\n",
    "                self.error = self.yhat - y_train_sample\n",
    "                #print(X_train_sample.shape, \"AND\", self.error.shape)\n",
    "                self.grad = self.gradient(X_train_sample, self.error)\n",
    "                self.theta = self.theta - self.alpha*self.grad\n",
    "            loss = self.mse(self.yhat, y_train_sample)\n",
    "            print(\"MSE = \",loss)\n",
    "            \n",
    "        else:\n",
    "            raise ValueError('SAMPLING METHOD MUST BE BATCH/STO/MINI')\n",
    "            \n",
    "        #self.yhat = h_theta(X_test, self.theta)\n",
    "        #self.mse = mse(self.yhat, y_test)\n",
    "\n",
    "    def h_theta(self, X):\n",
    "        return X @ self.theta\n",
    "\n",
    "    def mse(self, yhat, y):\n",
    "        return ((yhat - y)**2 / yhat.shape[0]).sum()\n",
    "\n",
    "    def ridge(self, yhat, y, lambdaa):\n",
    "        return ((yhat - y)**2 / yhat.shape[0]).sum() + lambdaa*((self.theta**2).sum())\n",
    "\n",
    "\n",
    "    def gradient(self, X, error):\n",
    "        return X.T @ error"
   ]
  },
  {
   "cell_type": "code",
   "execution_count": 31,
   "metadata": {},
   "outputs": [
    {
     "name": "stdout",
     "output_type": "stream",
     "text": [
      "MSE =  27.196262304959532\n"
     ]
    }
   ],
   "source": [
    "boston = LinearRegression(method=\"batch\", weight_init='normal', max_iter = 1000)\n",
    "boston.gradient_descent(X_train, y_train)"
   ]
  },
  {
   "cell_type": "code",
   "execution_count": 32,
   "metadata": {},
   "outputs": [
    {
     "name": "stdout",
     "output_type": "stream",
     "text": [
      "MSE =  585.9011910853212\n"
     ]
    }
   ],
   "source": [
    "boston = LinearRegression(method=\"batch\", weight_init='normal', loss_function='ridge', max_iter = 1000)\n",
    "boston.gradient_descent(X_train, y_train)"
   ]
  },
  {
   "cell_type": "code",
   "execution_count": 33,
   "metadata": {},
   "outputs": [],
   "source": [
    "features = ['CRIM', 'RM', 'AGE', 'TAX', 'LSTAT','intercept']\n",
    "\n",
    "def feature_importance(theta, features):\n",
    "    thetas = sorted(theta)\n",
    "    print(thetas)\n",
    "    fig = plt.figure()\n",
    "    ax = fig.add_axes([0,0,1,1])\n",
    "    ax.bar(features, thetas)\n",
    "    plt.show()"
   ]
  },
  {
   "cell_type": "code",
   "execution_count": 34,
   "metadata": {},
   "outputs": [
    {
     "name": "stdout",
     "output_type": "stream",
     "text": [
      "[-1.42326916642669, -0.7806698534521797, -0.608260865771781, -0.4471295717116325, -0.04588187271206859, 0.12447233768717803]\n"
     ]
    },
    {
     "data": {
      "image/png": "[encoded data removed]",
      "text/plain": [
       "<Figure size 432x288 with 1 Axes>"
      ]
     },
     "metadata": {
      "needs_background": "light"
     },
     "output_type": "display_data"
    }
   ],
   "source": [
    "feature_importance(boston.theta, features)"
   ]
  },
  {
   "cell_type": "code",
   "execution_count": 35,
   "metadata": {},
   "outputs": [
    {
     "name": "stdout",
     "output_type": "stream",
     "text": [
      "MSE =  41.9576201478774\n",
      "[-3.1074633671386, -1.358557910419758, -0.7094874428345078, 0.17872167636623337, 4.548775296754718, 22.537023499220457]\n"
     ]
    },
    {
     "data": {
      "image/png": "[encoded data removed]",
      "text/plain": [
       "<Figure size 432x288 with 1 Axes>"
      ]
     },
     "metadata": {
      "needs_background": "light"
     },
     "output_type": "display_data"
    }
   ],
   "source": [
    "#CV\n",
    "boston1 = LinearRegression(method=\"mini\", weight_init='normal', max_iter = 1000)\n",
    "boston1.gradient_descent(X_train, y_train)\n",
    "feature_importance(boston1.theta, features)"
   ]
  },
  {
   "cell_type": "code",
   "execution_count": 36,
   "metadata": {},
   "outputs": [
    {
     "name": "stdout",
     "output_type": "stream",
     "text": [
      "MSE =  41.93102800160318\n",
      "[-3.1198690482082254, -1.3589333111285689, -0.7076673254947224, 0.18552159934859996, 4.540907698300566, 22.537513932445243]\n"
     ]
    },
    {
     "data": {
      "image/png": "[encoded data removed]",
      "text/plain": [
       "<Figure size 432x288 with 1 Axes>"
      ]
     },
     "metadata": {
      "needs_background": "light"
     },
     "output_type": "display_data"
    }
   ],
   "source": [
    "boston2 = LinearRegression(method=\"mini\", weight_init='normal', loss_function='ridge', max_iter = 1000)\n",
    "boston2.gradient_descent(X_train, y_train)\n",
    "feature_importance(boston2.theta, features)"
   ]
  },
  {
   "cell_type": "code",
   "execution_count": 37,
   "metadata": {},
   "outputs": [
    {
     "name": "stdout",
     "output_type": "stream",
     "text": [
      "MSE =  19.777194339142987\n",
      "[-2.159766990057449, -1.2258875369277633, -1.0396912951508046, -0.9314670691349681, 2.445337979378234, 13.959727640084136]\n"
     ]
    },
    {
     "data": {
      "image/png": "[encoded data removed]",
      "text/plain": [
       "<Figure size 432x288 with 1 Axes>"
      ]
     },
     "metadata": {
      "needs_background": "light"
     },
     "output_type": "display_data"
    }
   ],
   "source": [
    "#CV\n",
    "boston3 = LinearRegression(method=\"sto\", weight_init='normal', max_iter = 1000)\n",
    "boston3.gradient_descent(X_train, y_train)\n",
    "feature_importance(boston3.theta, features)"
   ]
  },
  {
   "cell_type": "code",
   "execution_count": 38,
   "metadata": {},
   "outputs": [
    {
     "name": "stdout",
     "output_type": "stream",
     "text": [
      "MSE =  189.39176764737752\n",
      "[-2.955039379145907, -1.4018225311968509, -0.3658220602216369, -0.22442740595399752, 3.095891849793195, 14.780112402331078]\n"
     ]
    },
    {
     "data": {
      "image/png": "[encoded data removed]",
      "text/plain": [
       "<Figure size 432x288 with 1 Axes>"
      ]
     },
     "metadata": {
      "needs_background": "light"
     },
     "output_type": "display_data"
    }
   ],
   "source": [
    "boston4 = LinearRegression(method=\"sto\", weight_init='normal', loss_function='ridge', max_iter = 1000)\n",
    "boston4.gradient_descent(X_train, y_train)\n",
    "feature_importance(boston4.theta, features)"
   ]
  },
  {
   "cell_type": "markdown",
   "metadata": {},
   "source": [
    "6) Communication: Interpret your results (e.g., overfitting, weights, accuracy, etc.). Critical analyses will be used as main criteria for scoring (50 points)\n",
    "\n",
    "The results did not show signs of overfitting. By using standard scalar, the thetas/weights were relatively close together which shows that all the 5 features are similarly equally important. (except for intercept column). For normal loss function, the mean squared errors were all quite low for each sampling method. For ridge regression with batch sampling, the error was quite high at over 600 after 1,000 iterations.\n",
    "\n"
   ]
  },
  {
   "cell_type": "code",
   "execution_count": null,
   "metadata": {},
   "outputs": [],
   "source": []
  }
 ],
 "metadata": {
  "kernelspec": {
   "display_name": "Python 3 (ipykernel)",
   "language": "python",
   "name": "python3"
  },
  "language_info": {
   "codemirror_mode": {
    "name": "ipython",
    "version": 3
   },
   "file_extension": ".py",
   "mimetype": "text/x-python",
   "name": "python",
   "nbconvert_exporter": "python",
   "pygments_lexer": "ipython3",
   "version": "3.8.3"
  }
 },
 "nbformat": 4,
 "nbformat_minor": 4
}
