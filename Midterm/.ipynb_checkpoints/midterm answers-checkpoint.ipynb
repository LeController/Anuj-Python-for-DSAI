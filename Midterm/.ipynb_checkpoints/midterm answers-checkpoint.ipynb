{
 "cells": [
  {
   "cell_type": "markdown",
   "id": "9dd2e166",
   "metadata": {},
   "source": [
    "# QUESTION 1"
   ]
  },
  {
   "cell_type": "code",
   "execution_count": 1,
   "id": "2ab400f0",
   "metadata": {},
   "outputs": [],
   "source": [
    "import numpy as np\n",
    "import matplotlib as mpl\n",
    "import matplotlib.pyplot as plt"
   ]
  },
  {
   "cell_type": "code",
   "execution_count": 2,
   "id": "b1b3c67e",
   "metadata": {},
   "outputs": [],
   "source": [
    "class Candy:\n",
    "    \n",
    "    def __init__(self, color, price=0):\n",
    "        self.color = color\n",
    "        if self.color == 'red':\n",
    "            self.price = 2 \n",
    "        elif self.color == 'blue':\n",
    "            self.price = 4 \n",
    "        else:\n",
    "            self.price = 6 \n",
    "    \n",
    "    def __str__(self):\n",
    "        print('Candy color is',self.color,'\\nCandy price is', self.price)"
   ]
  },
  {
   "cell_type": "code",
   "execution_count": 3,
   "id": "d7bd5a7e",
   "metadata": {},
   "outputs": [
    {
     "name": "stdout",
     "output_type": "stream",
     "text": [
      "Candy color is blue \n",
      "Candy price is 4\n"
     ]
    }
   ],
   "source": [
    "m = Candy('blue')\n",
    "m.__str__()"
   ]
  },
  {
   "cell_type": "code",
   "execution_count": 4,
   "id": "346cb887",
   "metadata": {},
   "outputs": [],
   "source": [
    "class CandyBasket:\n",
    "    \n",
    "    def __init__(self):\n",
    "        self.basket = []\n",
    "    \n",
    "    def add(self, candy):\n",
    "        self.basket.append(candy.color)\n",
    "        \n",
    "    def __len__(self):\n",
    "        print('This Basket has',len(self.basket),'candies!')\n",
    "        \n",
    "    def __str__(self):\n",
    "        for candy in self.basket:\n",
    "            print(candy)\n",
    "            \n",
    "    def bar(self):\n",
    "        red = 0\n",
    "        blue = 0\n",
    "        other = 0\n",
    "        for candy in self.basket:\n",
    "            if candy == 'red':\n",
    "                red += 1\n",
    "            elif candy == 'blue':\n",
    "                blue += 1\n",
    "            else:\n",
    "                other += 1\n",
    "        colors = ['red', 'blue', 'other']\n",
    "        totals = [red, blue, other]\n",
    "        fig = plt.figure()\n",
    "        ax = fig.add_axes([0,0,1,1])\n",
    "        ax.bar(colors, totals)\n",
    "        plt.show()\n",
    "    \n",
    "    def remove(self, color):\n",
    "        self.basket.remove(color)\n",
    "        \n",
    "    def transfer(self,color, basket_to):\n",
    "        if color not in self.basket:\n",
    "            raise ValueError('COLOR NOT IN BASKET')\n",
    "        \n",
    "        self.remove(color)\n",
    "        print(color, 'candy removed')\n",
    "        \n",
    "        basket_to.basket.append(color)\n",
    "    \n",
    "    def total_price(self):\n",
    "        total_price = 0\n",
    "        for candy in self.basket:\n",
    "            if candy == 'red':\n",
    "                total_price += 2\n",
    "            elif candy == 'blue':\n",
    "                total_price += 4\n",
    "            else:\n",
    "                total_price += 6\n",
    "        print('Total price =', total_price)"
   ]
  },
  {
   "cell_type": "code",
   "execution_count": 5,
   "id": "0f689e21",
   "metadata": {},
   "outputs": [],
   "source": [
    "Basket1 = CandyBasket()\n",
    "Basket2 = CandyBasket()\n",
    "\n",
    "red1 = Candy('red')\n",
    "red2 = Candy('red')\n",
    "red3 = Candy('red')\n",
    "yellow1 = Candy('yellow')\n",
    "yellow2 = Candy('yellow')\n",
    "yellow3 = Candy('yellow')\n",
    "\n",
    "blue1 = Candy('blue')\n",
    "blue2 = Candy('blue')\n",
    "blue3 = Candy('blue')"
   ]
  },
  {
   "cell_type": "code",
   "execution_count": 6,
   "id": "39469048",
   "metadata": {},
   "outputs": [],
   "source": [
    "Basket1.add(red1)\n",
    "Basket1.add(red2)\n",
    "Basket1.add(red3)\n",
    "Basket1.add(yellow1)\n",
    "Basket1.add(yellow2)\n",
    "Basket1.add(yellow3)\n",
    "\n",
    "Basket2.add(blue1)\n",
    "Basket2.add(blue2)\n",
    "Basket2.add(blue3)"
   ]
  },
  {
   "cell_type": "code",
   "execution_count": 7,
   "id": "2455f2b1",
   "metadata": {},
   "outputs": [
    {
     "data": {
      "text/plain": [
       "['red', 'red', 'red', 'yellow', 'yellow', 'yellow']"
      ]
     },
     "execution_count": 7,
     "metadata": {},
     "output_type": "execute_result"
    }
   ],
   "source": [
    "Basket1.basket"
   ]
  },
  {
   "cell_type": "code",
   "execution_count": 8,
   "id": "2979333d",
   "metadata": {},
   "outputs": [
    {
     "data": {
      "text/plain": [
       "['blue', 'blue', 'blue']"
      ]
     },
     "execution_count": 8,
     "metadata": {},
     "output_type": "execute_result"
    }
   ],
   "source": [
    "Basket2.basket"
   ]
  },
  {
   "cell_type": "code",
   "execution_count": 9,
   "id": "6599b3eb",
   "metadata": {},
   "outputs": [
    {
     "name": "stdout",
     "output_type": "stream",
     "text": [
      "This Basket has 6 candies!\n",
      "This Basket has 3 candies!\n"
     ]
    }
   ],
   "source": [
    "Basket1.__len__()\n",
    "Basket2.__len__()"
   ]
  },
  {
   "cell_type": "code",
   "execution_count": 10,
   "id": "a2d900dc",
   "metadata": {},
   "outputs": [
    {
     "name": "stdout",
     "output_type": "stream",
     "text": [
      "red\n",
      "red\n",
      "red\n",
      "yellow\n",
      "yellow\n",
      "yellow\n"
     ]
    }
   ],
   "source": [
    "Basket1.__str__()"
   ]
  },
  {
   "cell_type": "code",
   "execution_count": 11,
   "id": "4fae399b",
   "metadata": {},
   "outputs": [
    {
     "data": {
      "image/png": "[encoded data removed]",
      "text/plain": [
       "<Figure size 432x288 with 1 Axes>"
      ]
     },
     "metadata": {
      "needs_background": "light"
     },
     "output_type": "display_data"
    },
    {
     "data": {
      "image/png": "[encoded data removed]",
      "text/plain": [
       "<Figure size 432x288 with 1 Axes>"
      ]
     },
     "metadata": {
      "needs_background": "light"
     },
     "output_type": "display_data"
    }
   ],
   "source": [
    "Basket1.bar()\n",
    "Basket2.bar()"
   ]
  },
  {
   "cell_type": "code",
   "execution_count": 12,
   "id": "9309b0cb",
   "metadata": {},
   "outputs": [],
   "source": [
    "Basket1.remove('yellow')\n",
    "Basket1.remove('yellow')"
   ]
  },
  {
   "cell_type": "code",
   "execution_count": 13,
   "id": "b5eb2e20",
   "metadata": {},
   "outputs": [
    {
     "data": {
      "text/plain": [
       "['red', 'red', 'red', 'yellow']"
      ]
     },
     "execution_count": 13,
     "metadata": {},
     "output_type": "execute_result"
    }
   ],
   "source": [
    "Basket1.basket"
   ]
  },
  {
   "cell_type": "code",
   "execution_count": 14,
   "id": "e41a7a79",
   "metadata": {},
   "outputs": [
    {
     "ename": "ValueError",
     "evalue": "COLOR NOT IN BASKET",
     "output_type": "error",
     "traceback": [
      "\u001b[1;31m---------------------------------------------------------------------------\u001b[0m",
      "\u001b[1;31mValueError\u001b[0m                                Traceback (most recent call last)",
      "\u001b[1;32m~\\AppData\\Local\\Temp/ipykernel_5412/2993479112.py\u001b[0m in \u001b[0;36m<module>\u001b[1;34m\u001b[0m\n\u001b[1;32m----> 1\u001b[1;33m \u001b[0mBasket2\u001b[0m\u001b[1;33m.\u001b[0m\u001b[0mtransfer\u001b[0m\u001b[1;33m(\u001b[0m\u001b[1;34m'purple'\u001b[0m\u001b[1;33m,\u001b[0m \u001b[0mBasket1\u001b[0m\u001b[1;33m)\u001b[0m\u001b[1;33m\u001b[0m\u001b[1;33m\u001b[0m\u001b[0m\n\u001b[0m",
      "\u001b[1;32m~\\AppData\\Local\\Temp/ipykernel_5412/99239594.py\u001b[0m in \u001b[0;36mtransfer\u001b[1;34m(self, color, basket_to)\u001b[0m\n\u001b[0;32m     37\u001b[0m     \u001b[1;32mdef\u001b[0m \u001b[0mtransfer\u001b[0m\u001b[1;33m(\u001b[0m\u001b[0mself\u001b[0m\u001b[1;33m,\u001b[0m\u001b[0mcolor\u001b[0m\u001b[1;33m,\u001b[0m \u001b[0mbasket_to\u001b[0m\u001b[1;33m)\u001b[0m\u001b[1;33m:\u001b[0m\u001b[1;33m\u001b[0m\u001b[1;33m\u001b[0m\u001b[0m\n\u001b[0;32m     38\u001b[0m         \u001b[1;32mif\u001b[0m \u001b[0mcolor\u001b[0m \u001b[1;32mnot\u001b[0m \u001b[1;32min\u001b[0m \u001b[0mself\u001b[0m\u001b[1;33m.\u001b[0m\u001b[0mbasket\u001b[0m\u001b[1;33m:\u001b[0m\u001b[1;33m\u001b[0m\u001b[1;33m\u001b[0m\u001b[0m\n\u001b[1;32m---> 39\u001b[1;33m             \u001b[1;32mraise\u001b[0m \u001b[0mValueError\u001b[0m\u001b[1;33m(\u001b[0m\u001b[1;34m'COLOR NOT IN BASKET'\u001b[0m\u001b[1;33m)\u001b[0m\u001b[1;33m\u001b[0m\u001b[1;33m\u001b[0m\u001b[0m\n\u001b[0m\u001b[0;32m     40\u001b[0m \u001b[1;33m\u001b[0m\u001b[0m\n\u001b[0;32m     41\u001b[0m         \u001b[0mself\u001b[0m\u001b[1;33m.\u001b[0m\u001b[0mremove\u001b[0m\u001b[1;33m(\u001b[0m\u001b[0mcolor\u001b[0m\u001b[1;33m)\u001b[0m\u001b[1;33m\u001b[0m\u001b[1;33m\u001b[0m\u001b[0m\n",
      "\u001b[1;31mValueError\u001b[0m: COLOR NOT IN BASKET"
     ]
    }
   ],
   "source": [
    "Basket2.transfer('purple', Basket1)"
   ]
  },
  {
   "cell_type": "code",
   "execution_count": null,
   "id": "0a456eea",
   "metadata": {},
   "outputs": [],
   "source": [
    "Basket1.transfer('red', Basket2)\n",
    "Basket1.transfer('red', Basket2)"
   ]
  },
  {
   "cell_type": "code",
   "execution_count": null,
   "id": "eb9ad84a",
   "metadata": {},
   "outputs": [],
   "source": [
    "print(Basket1.basket)\n",
    "print(Basket2.basket)"
   ]
  },
  {
   "cell_type": "code",
   "execution_count": null,
   "id": "dfee1bf9",
   "metadata": {},
   "outputs": [],
   "source": [
    "Basket1.total_price()\n",
    "Basket2.total_price()"
   ]
  },
  {
   "cell_type": "code",
   "execution_count": 384,
   "id": "8c097a5b",
   "metadata": {},
   "outputs": [],
   "source": [
    "from sklearn.datasets import load_boston\n",
    "import pandas as pd"
   ]
  },
  {
   "cell_type": "code",
   "execution_count": 385,
   "id": "bdff931c",
   "metadata": {},
   "outputs": [
    {
     "data": {
      "text/plain": [
       "(506, 13)"
      ]
     },
     "execution_count": 385,
     "metadata": {},
     "output_type": "execute_result"
    }
   ],
   "source": [
    "boston = load_boston()\n",
    "X = boston.data\n",
    "y = boston.target\n",
    "X.shape"
   ]
  },
  {
   "cell_type": "code",
   "execution_count": 386,
   "id": "eb494a73",
   "metadata": {},
   "outputs": [],
   "source": [
    "df = pd.DataFrame(X, columns=boston.feature_names)"
   ]
  },
  {
   "cell_type": "markdown",
   "id": "f4e72187",
   "metadata": {},
   "source": [
    "# EDA"
   ]
  },
  {
   "cell_type": "code",
   "execution_count": 387,
   "id": "a3f3c70f",
   "metadata": {},
   "outputs": [
    {
     "data": {
      "text/html": [
       "<div>\n",
       "<style scoped>\n",
       "    .dataframe tbody tr th:only-of-type {\n",
       "        vertical-align: middle;\n",
       "    }\n",
       "\n",
       "    .dataframe tbody tr th {\n",
       "        vertical-align: top;\n",
       "    }\n",
       "\n",
       "    .dataframe thead th {\n",
       "        text-align: right;\n",
       "    }\n",
       "</style>\n",
       "<table border=\"1\" class=\"dataframe\">\n",
       "  <thead>\n",
       "    <tr style=\"text-align: right;\">\n",
       "      <th></th>\n",
       "      <th>CRIM</th>\n",
       "      <th>ZN</th>\n",
       "      <th>INDUS</th>\n",
       "      <th>CHAS</th>\n",
       "      <th>NOX</th>\n",
       "      <th>RM</th>\n",
       "      <th>AGE</th>\n",
       "      <th>DIS</th>\n",
       "      <th>RAD</th>\n",
       "      <th>TAX</th>\n",
       "      <th>PTRATIO</th>\n",
       "      <th>B</th>\n",
       "      <th>LSTAT</th>\n",
       "    </tr>\n",
       "  </thead>\n",
       "  <tbody>\n",
       "    <tr>\n",
       "      <th>0</th>\n",
       "      <td>0.00632</td>\n",
       "      <td>18.0</td>\n",
       "      <td>2.31</td>\n",
       "      <td>0.0</td>\n",
       "      <td>0.538</td>\n",
       "      <td>6.575</td>\n",
       "      <td>65.2</td>\n",
       "      <td>4.0900</td>\n",
       "      <td>1.0</td>\n",
       "      <td>296.0</td>\n",
       "      <td>15.3</td>\n",
       "      <td>396.90</td>\n",
       "      <td>4.98</td>\n",
       "    </tr>\n",
       "    <tr>\n",
       "      <th>1</th>\n",
       "      <td>0.02731</td>\n",
       "      <td>0.0</td>\n",
       "      <td>7.07</td>\n",
       "      <td>0.0</td>\n",
       "      <td>0.469</td>\n",
       "      <td>6.421</td>\n",
       "      <td>78.9</td>\n",
       "      <td>4.9671</td>\n",
       "      <td>2.0</td>\n",
       "      <td>242.0</td>\n",
       "      <td>17.8</td>\n",
       "      <td>396.90</td>\n",
       "      <td>9.14</td>\n",
       "    </tr>\n",
       "    <tr>\n",
       "      <th>2</th>\n",
       "      <td>0.02729</td>\n",
       "      <td>0.0</td>\n",
       "      <td>7.07</td>\n",
       "      <td>0.0</td>\n",
       "      <td>0.469</td>\n",
       "      <td>7.185</td>\n",
       "      <td>61.1</td>\n",
       "      <td>4.9671</td>\n",
       "      <td>2.0</td>\n",
       "      <td>242.0</td>\n",
       "      <td>17.8</td>\n",
       "      <td>392.83</td>\n",
       "      <td>4.03</td>\n",
       "    </tr>\n",
       "    <tr>\n",
       "      <th>3</th>\n",
       "      <td>0.03237</td>\n",
       "      <td>0.0</td>\n",
       "      <td>2.18</td>\n",
       "      <td>0.0</td>\n",
       "      <td>0.458</td>\n",
       "      <td>6.998</td>\n",
       "      <td>45.8</td>\n",
       "      <td>6.0622</td>\n",
       "      <td>3.0</td>\n",
       "      <td>222.0</td>\n",
       "      <td>18.7</td>\n",
       "      <td>394.63</td>\n",
       "      <td>2.94</td>\n",
       "    </tr>\n",
       "    <tr>\n",
       "      <th>4</th>\n",
       "      <td>0.06905</td>\n",
       "      <td>0.0</td>\n",
       "      <td>2.18</td>\n",
       "      <td>0.0</td>\n",
       "      <td>0.458</td>\n",
       "      <td>7.147</td>\n",
       "      <td>54.2</td>\n",
       "      <td>6.0622</td>\n",
       "      <td>3.0</td>\n",
       "      <td>222.0</td>\n",
       "      <td>18.7</td>\n",
       "      <td>396.90</td>\n",
       "      <td>5.33</td>\n",
       "    </tr>\n",
       "  </tbody>\n",
       "</table>\n",
       "</div>"
      ],
      "text/plain": [
       "      CRIM    ZN  INDUS  CHAS    NOX     RM   AGE     DIS  RAD    TAX  \\\n",
       "0  0.00632  18.0   2.31   0.0  0.538  6.575  65.2  4.0900  1.0  296.0   \n",
       "1  0.02731   0.0   7.07   0.0  0.469  6.421  78.9  4.9671  2.0  242.0   \n",
       "2  0.02729   0.0   7.07   0.0  0.469  7.185  61.1  4.9671  2.0  242.0   \n",
       "3  0.03237   0.0   2.18   0.0  0.458  6.998  45.8  6.0622  3.0  222.0   \n",
       "4  0.06905   0.0   2.18   0.0  0.458  7.147  54.2  6.0622  3.0  222.0   \n",
       "\n",
       "   PTRATIO       B  LSTAT  \n",
       "0     15.3  396.90   4.98  \n",
       "1     17.8  396.90   9.14  \n",
       "2     17.8  392.83   4.03  \n",
       "3     18.7  394.63   2.94  \n",
       "4     18.7  396.90   5.33  "
      ]
     },
     "execution_count": 387,
     "metadata": {},
     "output_type": "execute_result"
    }
   ],
   "source": [
    "df.head()\n"
   ]
  },
  {
   "cell_type": "code",
   "execution_count": 388,
   "id": "c05e339e",
   "metadata": {},
   "outputs": [
    {
     "data": {
      "text/html": [
       "<div>\n",
       "<style scoped>\n",
       "    .dataframe tbody tr th:only-of-type {\n",
       "        vertical-align: middle;\n",
       "    }\n",
       "\n",
       "    .dataframe tbody tr th {\n",
       "        vertical-align: top;\n",
       "    }\n",
       "\n",
       "    .dataframe thead th {\n",
       "        text-align: right;\n",
       "    }\n",
       "</style>\n",
       "<table border=\"1\" class=\"dataframe\">\n",
       "  <thead>\n",
       "    <tr style=\"text-align: right;\">\n",
       "      <th></th>\n",
       "      <th>CRIM</th>\n",
       "      <th>ZN</th>\n",
       "      <th>INDUS</th>\n",
       "      <th>CHAS</th>\n",
       "      <th>NOX</th>\n",
       "      <th>RM</th>\n",
       "      <th>AGE</th>\n",
       "      <th>DIS</th>\n",
       "      <th>RAD</th>\n",
       "      <th>TAX</th>\n",
       "      <th>PTRATIO</th>\n",
       "      <th>B</th>\n",
       "      <th>LSTAT</th>\n",
       "    </tr>\n",
       "  </thead>\n",
       "  <tbody>\n",
       "    <tr>\n",
       "      <th>501</th>\n",
       "      <td>0.06263</td>\n",
       "      <td>0.0</td>\n",
       "      <td>11.93</td>\n",
       "      <td>0.0</td>\n",
       "      <td>0.573</td>\n",
       "      <td>6.593</td>\n",
       "      <td>69.1</td>\n",
       "      <td>2.4786</td>\n",
       "      <td>1.0</td>\n",
       "      <td>273.0</td>\n",
       "      <td>21.0</td>\n",
       "      <td>391.99</td>\n",
       "      <td>9.67</td>\n",
       "    </tr>\n",
       "    <tr>\n",
       "      <th>502</th>\n",
       "      <td>0.04527</td>\n",
       "      <td>0.0</td>\n",
       "      <td>11.93</td>\n",
       "      <td>0.0</td>\n",
       "      <td>0.573</td>\n",
       "      <td>6.120</td>\n",
       "      <td>76.7</td>\n",
       "      <td>2.2875</td>\n",
       "      <td>1.0</td>\n",
       "      <td>273.0</td>\n",
       "      <td>21.0</td>\n",
       "      <td>396.90</td>\n",
       "      <td>9.08</td>\n",
       "    </tr>\n",
       "    <tr>\n",
       "      <th>503</th>\n",
       "      <td>0.06076</td>\n",
       "      <td>0.0</td>\n",
       "      <td>11.93</td>\n",
       "      <td>0.0</td>\n",
       "      <td>0.573</td>\n",
       "      <td>6.976</td>\n",
       "      <td>91.0</td>\n",
       "      <td>2.1675</td>\n",
       "      <td>1.0</td>\n",
       "      <td>273.0</td>\n",
       "      <td>21.0</td>\n",
       "      <td>396.90</td>\n",
       "      <td>5.64</td>\n",
       "    </tr>\n",
       "    <tr>\n",
       "      <th>504</th>\n",
       "      <td>0.10959</td>\n",
       "      <td>0.0</td>\n",
       "      <td>11.93</td>\n",
       "      <td>0.0</td>\n",
       "      <td>0.573</td>\n",
       "      <td>6.794</td>\n",
       "      <td>89.3</td>\n",
       "      <td>2.3889</td>\n",
       "      <td>1.0</td>\n",
       "      <td>273.0</td>\n",
       "      <td>21.0</td>\n",
       "      <td>393.45</td>\n",
       "      <td>6.48</td>\n",
       "    </tr>\n",
       "    <tr>\n",
       "      <th>505</th>\n",
       "      <td>0.04741</td>\n",
       "      <td>0.0</td>\n",
       "      <td>11.93</td>\n",
       "      <td>0.0</td>\n",
       "      <td>0.573</td>\n",
       "      <td>6.030</td>\n",
       "      <td>80.8</td>\n",
       "      <td>2.5050</td>\n",
       "      <td>1.0</td>\n",
       "      <td>273.0</td>\n",
       "      <td>21.0</td>\n",
       "      <td>396.90</td>\n",
       "      <td>7.88</td>\n",
       "    </tr>\n",
       "  </tbody>\n",
       "</table>\n",
       "</div>"
      ],
      "text/plain": [
       "        CRIM   ZN  INDUS  CHAS    NOX     RM   AGE     DIS  RAD    TAX  \\\n",
       "501  0.06263  0.0  11.93   0.0  0.573  6.593  69.1  2.4786  1.0  273.0   \n",
       "502  0.04527  0.0  11.93   0.0  0.573  6.120  76.7  2.2875  1.0  273.0   \n",
       "503  0.06076  0.0  11.93   0.0  0.573  6.976  91.0  2.1675  1.0  273.0   \n",
       "504  0.10959  0.0  11.93   0.0  0.573  6.794  89.3  2.3889  1.0  273.0   \n",
       "505  0.04741  0.0  11.93   0.0  0.573  6.030  80.8  2.5050  1.0  273.0   \n",
       "\n",
       "     PTRATIO       B  LSTAT  \n",
       "501     21.0  391.99   9.67  \n",
       "502     21.0  396.90   9.08  \n",
       "503     21.0  396.90   5.64  \n",
       "504     21.0  393.45   6.48  \n",
       "505     21.0  396.90   7.88  "
      ]
     },
     "execution_count": 388,
     "metadata": {},
     "output_type": "execute_result"
    }
   ],
   "source": [
    "df.tail()"
   ]
  },
  {
   "cell_type": "code",
   "execution_count": 389,
   "id": "440e50ff",
   "metadata": {},
   "outputs": [
    {
     "data": {
      "text/html": [
       "<div>\n",
       "<style scoped>\n",
       "    .dataframe tbody tr th:only-of-type {\n",
       "        vertical-align: middle;\n",
       "    }\n",
       "\n",
       "    .dataframe tbody tr th {\n",
       "        vertical-align: top;\n",
       "    }\n",
       "\n",
       "    .dataframe thead th {\n",
       "        text-align: right;\n",
       "    }\n",
       "</style>\n",
       "<table border=\"1\" class=\"dataframe\">\n",
       "  <thead>\n",
       "    <tr style=\"text-align: right;\">\n",
       "      <th></th>\n",
       "      <th>CRIM</th>\n",
       "      <th>ZN</th>\n",
       "      <th>INDUS</th>\n",
       "      <th>CHAS</th>\n",
       "      <th>NOX</th>\n",
       "      <th>RM</th>\n",
       "      <th>AGE</th>\n",
       "      <th>DIS</th>\n",
       "      <th>RAD</th>\n",
       "      <th>TAX</th>\n",
       "      <th>PTRATIO</th>\n",
       "      <th>B</th>\n",
       "      <th>LSTAT</th>\n",
       "    </tr>\n",
       "  </thead>\n",
       "  <tbody>\n",
       "    <tr>\n",
       "      <th>count</th>\n",
       "      <td>506.000000</td>\n",
       "      <td>506.000000</td>\n",
       "      <td>506.000000</td>\n",
       "      <td>506.000000</td>\n",
       "      <td>506.000000</td>\n",
       "      <td>506.000000</td>\n",
       "      <td>506.000000</td>\n",
       "      <td>506.000000</td>\n",
       "      <td>506.000000</td>\n",
       "      <td>506.000000</td>\n",
       "      <td>506.000000</td>\n",
       "      <td>506.000000</td>\n",
       "      <td>506.000000</td>\n",
       "    </tr>\n",
       "    <tr>\n",
       "      <th>mean</th>\n",
       "      <td>3.613524</td>\n",
       "      <td>11.363636</td>\n",
       "      <td>11.136779</td>\n",
       "      <td>0.069170</td>\n",
       "      <td>0.554695</td>\n",
       "      <td>6.284634</td>\n",
       "      <td>68.574901</td>\n",
       "      <td>3.795043</td>\n",
       "      <td>9.549407</td>\n",
       "      <td>408.237154</td>\n",
       "      <td>18.455534</td>\n",
       "      <td>356.674032</td>\n",
       "      <td>12.653063</td>\n",
       "    </tr>\n",
       "    <tr>\n",
       "      <th>std</th>\n",
       "      <td>8.601545</td>\n",
       "      <td>23.322453</td>\n",
       "      <td>6.860353</td>\n",
       "      <td>0.253994</td>\n",
       "      <td>0.115878</td>\n",
       "      <td>0.702617</td>\n",
       "      <td>28.148861</td>\n",
       "      <td>2.105710</td>\n",
       "      <td>8.707259</td>\n",
       "      <td>168.537116</td>\n",
       "      <td>2.164946</td>\n",
       "      <td>91.294864</td>\n",
       "      <td>7.141062</td>\n",
       "    </tr>\n",
       "    <tr>\n",
       "      <th>min</th>\n",
       "      <td>0.006320</td>\n",
       "      <td>0.000000</td>\n",
       "      <td>0.460000</td>\n",
       "      <td>0.000000</td>\n",
       "      <td>0.385000</td>\n",
       "      <td>3.561000</td>\n",
       "      <td>2.900000</td>\n",
       "      <td>1.129600</td>\n",
       "      <td>1.000000</td>\n",
       "      <td>187.000000</td>\n",
       "      <td>12.600000</td>\n",
       "      <td>0.320000</td>\n",
       "      <td>1.730000</td>\n",
       "    </tr>\n",
       "    <tr>\n",
       "      <th>25%</th>\n",
       "      <td>0.082045</td>\n",
       "      <td>0.000000</td>\n",
       "      <td>5.190000</td>\n",
       "      <td>0.000000</td>\n",
       "      <td>0.449000</td>\n",
       "      <td>5.885500</td>\n",
       "      <td>45.025000</td>\n",
       "      <td>2.100175</td>\n",
       "      <td>4.000000</td>\n",
       "      <td>279.000000</td>\n",
       "      <td>17.400000</td>\n",
       "      <td>375.377500</td>\n",
       "      <td>6.950000</td>\n",
       "    </tr>\n",
       "    <tr>\n",
       "      <th>50%</th>\n",
       "      <td>0.256510</td>\n",
       "      <td>0.000000</td>\n",
       "      <td>9.690000</td>\n",
       "      <td>0.000000</td>\n",
       "      <td>0.538000</td>\n",
       "      <td>6.208500</td>\n",
       "      <td>77.500000</td>\n",
       "      <td>3.207450</td>\n",
       "      <td>5.000000</td>\n",
       "      <td>330.000000</td>\n",
       "      <td>19.050000</td>\n",
       "      <td>391.440000</td>\n",
       "      <td>11.360000</td>\n",
       "    </tr>\n",
       "    <tr>\n",
       "      <th>75%</th>\n",
       "      <td>3.677083</td>\n",
       "      <td>12.500000</td>\n",
       "      <td>18.100000</td>\n",
       "      <td>0.000000</td>\n",
       "      <td>0.624000</td>\n",
       "      <td>6.623500</td>\n",
       "      <td>94.075000</td>\n",
       "      <td>5.188425</td>\n",
       "      <td>24.000000</td>\n",
       "      <td>666.000000</td>\n",
       "      <td>20.200000</td>\n",
       "      <td>396.225000</td>\n",
       "      <td>16.955000</td>\n",
       "    </tr>\n",
       "    <tr>\n",
       "      <th>max</th>\n",
       "      <td>88.976200</td>\n",
       "      <td>100.000000</td>\n",
       "      <td>27.740000</td>\n",
       "      <td>1.000000</td>\n",
       "      <td>0.871000</td>\n",
       "      <td>8.780000</td>\n",
       "      <td>100.000000</td>\n",
       "      <td>12.126500</td>\n",
       "      <td>24.000000</td>\n",
       "      <td>711.000000</td>\n",
       "      <td>22.000000</td>\n",
       "      <td>396.900000</td>\n",
       "      <td>37.970000</td>\n",
       "    </tr>\n",
       "  </tbody>\n",
       "</table>\n",
       "</div>"
      ],
      "text/plain": [
       "             CRIM          ZN       INDUS        CHAS         NOX          RM  \\\n",
       "count  506.000000  506.000000  506.000000  506.000000  506.000000  506.000000   \n",
       "mean     3.613524   11.363636   11.136779    0.069170    0.554695    6.284634   \n",
       "std      8.601545   23.322453    6.860353    0.253994    0.115878    0.702617   \n",
       "min      0.006320    0.000000    0.460000    0.000000    0.385000    3.561000   \n",
       "25%      0.082045    0.000000    5.190000    0.000000    0.449000    5.885500   \n",
       "50%      0.256510    0.000000    9.690000    0.000000    0.538000    6.208500   \n",
       "75%      3.677083   12.500000   18.100000    0.000000    0.624000    6.623500   \n",
       "max     88.976200  100.000000   27.740000    1.000000    0.871000    8.780000   \n",
       "\n",
       "              AGE         DIS         RAD         TAX     PTRATIO           B  \\\n",
       "count  506.000000  506.000000  506.000000  506.000000  506.000000  506.000000   \n",
       "mean    68.574901    3.795043    9.549407  408.237154   18.455534  356.674032   \n",
       "std     28.148861    2.105710    8.707259  168.537116    2.164946   91.294864   \n",
       "min      2.900000    1.129600    1.000000  187.000000   12.600000    0.320000   \n",
       "25%     45.025000    2.100175    4.000000  279.000000   17.400000  375.377500   \n",
       "50%     77.500000    3.207450    5.000000  330.000000   19.050000  391.440000   \n",
       "75%     94.075000    5.188425   24.000000  666.000000   20.200000  396.225000   \n",
       "max    100.000000   12.126500   24.000000  711.000000   22.000000  396.900000   \n",
       "\n",
       "            LSTAT  \n",
       "count  506.000000  \n",
       "mean    12.653063  \n",
       "std      7.141062  \n",
       "min      1.730000  \n",
       "25%      6.950000  \n",
       "50%     11.360000  \n",
       "75%     16.955000  \n",
       "max     37.970000  "
      ]
     },
     "execution_count": 389,
     "metadata": {},
     "output_type": "execute_result"
    }
   ],
   "source": [
    "df.describe()"
   ]
  },
  {
   "cell_type": "code",
   "execution_count": 390,
   "id": "1a061910",
   "metadata": {},
   "outputs": [
    {
     "data": {
      "text/plain": [
       "CRIM       0\n",
       "ZN         0\n",
       "INDUS      0\n",
       "CHAS       0\n",
       "NOX        0\n",
       "RM         0\n",
       "AGE        0\n",
       "DIS        0\n",
       "RAD        0\n",
       "TAX        0\n",
       "PTRATIO    0\n",
       "B          0\n",
       "LSTAT      0\n",
       "dtype: int64"
      ]
     },
     "execution_count": 390,
     "metadata": {},
     "output_type": "execute_result"
    }
   ],
   "source": [
    "# check for NULL values\n",
    "df.isnull().sum()"
   ]
  },
  {
   "cell_type": "code",
   "execution_count": 391,
   "id": "e810347d",
   "metadata": {},
   "outputs": [
    {
     "data": {
      "text/plain": [
       "CRIM       False\n",
       "ZN         False\n",
       "INDUS      False\n",
       "CHAS       False\n",
       "NOX        False\n",
       "RM         False\n",
       "AGE        False\n",
       "DIS        False\n",
       "RAD        False\n",
       "TAX        False\n",
       "PTRATIO    False\n",
       "B          False\n",
       "LSTAT      False\n",
       "dtype: bool"
      ]
     },
     "execution_count": 391,
     "metadata": {},
     "output_type": "execute_result"
    }
   ],
   "source": [
    "# check for string values\n",
    "df.applymap(type).eq(str).all()"
   ]
  },
  {
   "cell_type": "code",
   "execution_count": 392,
   "id": "7908b0d5",
   "metadata": {},
   "outputs": [],
   "source": [
    "X = df[['CRIM', 'RM', 'AGE', 'TAX', 'LSTAT']]\n",
    "y = boston.target"
   ]
  },
  {
   "cell_type": "code",
   "execution_count": 393,
   "id": "663efb6b",
   "metadata": {},
   "outputs": [
    {
     "name": "stdout",
     "output_type": "stream",
     "text": [
      "        CRIM     RM   AGE    TAX  LSTAT\n",
      "0    0.00632  6.575  65.2  296.0   4.98\n",
      "1    0.02731  6.421  78.9  242.0   9.14\n",
      "2    0.02729  7.185  61.1  242.0   4.03\n",
      "3    0.03237  6.998  45.8  222.0   2.94\n",
      "4    0.06905  7.147  54.2  222.0   5.33\n",
      "..       ...    ...   ...    ...    ...\n",
      "501  0.06263  6.593  69.1  273.0   9.67\n",
      "502  0.04527  6.120  76.7  273.0   9.08\n",
      "503  0.06076  6.976  91.0  273.0   5.64\n",
      "504  0.10959  6.794  89.3  273.0   6.48\n",
      "505  0.04741  6.030  80.8  273.0   7.88\n",
      "\n",
      "[506 rows x 5 columns]\n",
      "[24.  21.6 34.7 33.4 36.2 28.7 22.9 27.1 16.5 18.9 15.  18.9 21.7 20.4\n",
      " 18.2 19.9 23.1 17.5 20.2 18.2 13.6 19.6 15.2 14.5 15.6 13.9 16.6 14.8\n",
      " 18.4 21.  12.7 14.5 13.2 13.1 13.5 18.9 20.  21.  24.7 30.8 34.9 26.6\n",
      " 25.3 24.7 21.2 19.3 20.  16.6 14.4 19.4 19.7 20.5 25.  23.4 18.9 35.4\n",
      " 24.7 31.6 23.3 19.6 18.7 16.  22.2 25.  33.  23.5 19.4 22.  17.4 20.9\n",
      " 24.2 21.7 22.8 23.4 24.1 21.4 20.  20.8 21.2 20.3 28.  23.9 24.8 22.9\n",
      " 23.9 26.6 22.5 22.2 23.6 28.7 22.6 22.  22.9 25.  20.6 28.4 21.4 38.7\n",
      " 43.8 33.2 27.5 26.5 18.6 19.3 20.1 19.5 19.5 20.4 19.8 19.4 21.7 22.8\n",
      " 18.8 18.7 18.5 18.3 21.2 19.2 20.4 19.3 22.  20.3 20.5 17.3 18.8 21.4\n",
      " 15.7 16.2 18.  14.3 19.2 19.6 23.  18.4 15.6 18.1 17.4 17.1 13.3 17.8\n",
      " 14.  14.4 13.4 15.6 11.8 13.8 15.6 14.6 17.8 15.4 21.5 19.6 15.3 19.4\n",
      " 17.  15.6 13.1 41.3 24.3 23.3 27.  50.  50.  50.  22.7 25.  50.  23.8\n",
      " 23.8 22.3 17.4 19.1 23.1 23.6 22.6 29.4 23.2 24.6 29.9 37.2 39.8 36.2\n",
      " 37.9 32.5 26.4 29.6 50.  32.  29.8 34.9 37.  30.5 36.4 31.1 29.1 50.\n",
      " 33.3 30.3 34.6 34.9 32.9 24.1 42.3 48.5 50.  22.6 24.4 22.5 24.4 20.\n",
      " 21.7 19.3 22.4 28.1 23.7 25.  23.3 28.7 21.5 23.  26.7 21.7 27.5 30.1\n",
      " 44.8 50.  37.6 31.6 46.7 31.5 24.3 31.7 41.7 48.3 29.  24.  25.1 31.5\n",
      " 23.7 23.3 22.  20.1 22.2 23.7 17.6 18.5 24.3 20.5 24.5 26.2 24.4 24.8\n",
      " 29.6 42.8 21.9 20.9 44.  50.  36.  30.1 33.8 43.1 48.8 31.  36.5 22.8\n",
      " 30.7 50.  43.5 20.7 21.1 25.2 24.4 35.2 32.4 32.  33.2 33.1 29.1 35.1\n",
      " 45.4 35.4 46.  50.  32.2 22.  20.1 23.2 22.3 24.8 28.5 37.3 27.9 23.9\n",
      " 21.7 28.6 27.1 20.3 22.5 29.  24.8 22.  26.4 33.1 36.1 28.4 33.4 28.2\n",
      " 22.8 20.3 16.1 22.1 19.4 21.6 23.8 16.2 17.8 19.8 23.1 21.  23.8 23.1\n",
      " 20.4 18.5 25.  24.6 23.  22.2 19.3 22.6 19.8 17.1 19.4 22.2 20.7 21.1\n",
      " 19.5 18.5 20.6 19.  18.7 32.7 16.5 23.9 31.2 17.5 17.2 23.1 24.5 26.6\n",
      " 22.9 24.1 18.6 30.1 18.2 20.6 17.8 21.7 22.7 22.6 25.  19.9 20.8 16.8\n",
      " 21.9 27.5 21.9 23.1 50.  50.  50.  50.  50.  13.8 13.8 15.  13.9 13.3\n",
      " 13.1 10.2 10.4 10.9 11.3 12.3  8.8  7.2 10.5  7.4 10.2 11.5 15.1 23.2\n",
      "  9.7 13.8 12.7 13.1 12.5  8.5  5.   6.3  5.6  7.2 12.1  8.3  8.5  5.\n",
      " 11.9 27.9 17.2 27.5 15.  17.2 17.9 16.3  7.   7.2  7.5 10.4  8.8  8.4\n",
      " 16.7 14.2 20.8 13.4 11.7  8.3 10.2 10.9 11.   9.5 14.5 14.1 16.1 14.3\n",
      " 11.7 13.4  9.6  8.7  8.4 12.8 10.5 17.1 18.4 15.4 10.8 11.8 14.9 12.6\n",
      " 14.1 13.  13.4 15.2 16.1 17.8 14.9 14.1 12.7 13.5 14.9 20.  16.4 17.7\n",
      " 19.5 20.2 21.4 19.9 19.  19.1 19.1 20.1 19.9 19.6 23.2 29.8 13.8 13.3\n",
      " 16.7 12.  14.6 21.4 23.  23.7 25.  21.8 20.6 21.2 19.1 20.6 15.2  7.\n",
      "  8.1 13.6 20.1 21.8 24.5 23.1 19.7 18.3 21.2 17.5 16.8 22.4 20.6 23.9\n",
      " 22.  11.9]\n"
     ]
    }
   ],
   "source": [
    "print(X)\n",
    "print(y)\n",
    "\n",
    "scaler = StandardScaler()\n",
    "X = scaler.fit_transform(X)"
   ]
  },
  {
   "cell_type": "code",
   "execution_count": 395,
   "id": "6a85b665",
   "metadata": {},
   "outputs": [
    {
     "name": "stdout",
     "output_type": "stream",
     "text": [
      "[[-0.39917806 -1.24035683  1.05704151  1.79819419  1.58633784]\n",
      " [-0.09703009 -1.96835742  1.03926123 -0.03110494  2.33206237]\n",
      " [-0.4187276   1.66594687 -1.22239114 -0.97545092 -1.33768728]\n",
      " ...\n",
      " [-0.40821211 -0.42972605  1.0748218   1.79819419  0.75931252]\n",
      " [-0.41490939 -0.25164371 -1.3006244  -0.55376183 -0.85268599]\n",
      " [-0.41761041  0.36380884 -0.31559656  0.08174143 -0.56112452]]\n",
      "(152, 5)\n",
      "[ 7.  11.8 44.  20.2 22.8 12.1 29.4 22.2 36.2 17.4 33.2 20.4 48.8 20.3\n",
      " 14.  18.3 22.5 24.5 20.  18.4 17.5 20.6 18.3 22.8 13.2 20.  20.  22.6\n",
      " 16.6 20.6 50.  17.  18.5 12.8 28.4 15.   8.1 19.7 23.9 23.1 21.7 16.1\n",
      " 20.1 14.4 16.7 20.5 16.2 32.7 22.9 22.1 19.1 24.4 13.8 43.5 50.  33.2\n",
      " 50.  31.2 22.4 13.8 19.1 41.3 23.3 27.5 21.1 25.  23.8 18.7 21.8 50.\n",
      " 39.8 31.5 17.1 11.  18.4 15.3 24.4 14.3  5.  19.2  9.5 14.4 10.2 27.5\n",
      " 23.1 19.6 22.  23.8 12.7 23.3 13.4 20.4 25.  31.6 32.  25.3 22.7 22.7\n",
      " 23.8 32.  22.  24.2 31.  15.6 19.  19.9 33.4 23.4 19.3 20.  15.6 21.2\n",
      " 31.1 22.9 33.8  8.8 14.3 17.8 20.6 20.3 21.6 23.1 24.7 12.7 23.  14.2\n",
      " 13.1 16.6 14.9 15.  35.4 17.3 18.6 19.5 42.3 19.3 20.3 17.9  5.6 17.4\n",
      " 50.  24.3 24.6 10.5 15.6 13.4 46.  19.9  7.2 20.6 25.   8.5 26.6 29.9\n",
      " 23.4 23.7 19.3 21.6 16.1 22.2 30.1 37.  23.6 13.1 18.5 18.9 17.8 20.5\n",
      "  9.7 18.8 15.4 23.1 10.9 30.8 32.9 20.1  6.3 18.8 16.4 16.8 11.5 19.4\n",
      " 23.7 19.4 32.4 21.4 20.1 14.1 50.  24.5 25.  22.3 24.8 22.5 12.5 50.\n",
      " 23.  20.8 13.8 37.9 19.4 13.  26.2 29.8 29.1 29.8 45.4 24.7 17.5 27.9\n",
      " 23.  18.  13.5 24.  24.1 17.2 17.1 19.4  8.3 30.1 28.2 30.5 18.5  8.3\n",
      " 15.7 23.9 12.6 17.8 20.  28.4 21.4 50.  24.1 15.2 17.8 17.5 19.3 28.7\n",
      " 21.1 18.9 36.1 14.6 18.9 35.2 10.5 19.9 19.6  8.7 11.7 23.2 19.6 17.7\n",
      " 10.8 28.6 21.4 24.8 13.9 15.2 20.1 23.3 13.8 30.7 23.1 21.4  5.  21.7\n",
      " 22.6 25.1 21.  23.6 22.2 28.7 20.2  8.4  7.  21.7  8.8 17.4 21.7 33.3\n",
      " 20.9 23.7 15.4 14.5 29.1 14.9 22.  31.6 16.3 26.4 22.9 50.  18.6 26.5\n",
      " 50.  34.9 35.4 13.4 14.8 48.3 13.8 20.4 24.7 22.9 10.2 13.5 22.  21.2\n",
      " 28.  24.1  7.5 21.9 22.3 27.9 20.6 29.  23.2 26.7 21.7 31.7 22.4 27.1\n",
      " 18.7 18.2 19.4 11.9 24.4 14.9 20.8 22.5 13.1 26.6 43.8 25.  23.9 10.2\n",
      " 18.2 21.  19.8 31.5 23.3 17.2 18.7 17.6 15.  32.5 11.7 17.2 24.5 19.5\n",
      " 19.1 13.6 21.9 16.5]\n",
      "(152,)\n"
     ]
    }
   ],
   "source": [
    "import random\n",
    "m, n = X.shape\n",
    "idx = np.arange(0, m)\n",
    "random.shuffle(idx)\n",
    "percent_train = 0.7\n",
    "m_train = int(m * percent_train)\n",
    "train_idx = idx[:m_train]\n",
    "# print(train_idx.shape)\n",
    "test_idx = idx[m_train:]\n",
    "# print(test_idx.shape)\n",
    "X_train = X[train_idx,:]\n",
    "X_test = X[test_idx,:]\n",
    "\n",
    "y_train = y[train_idx]\n",
    "y_test = y[test_idx]\n",
    "\n",
    "print(X_train)\n",
    "print(X_test.shape)\n",
    "print(y_train)\n",
    "print(y_test.shape)"
   ]
  },
  {
   "cell_type": "code",
   "execution_count": 396,
   "id": "fda5b0c9",
   "metadata": {},
   "outputs": [],
   "source": [
    "# #SCALE BOX COX\n",
    "# X_train_norm = (X_train-1)/-1\n",
    "# print(X_train_norm.shape)\n",
    "\n",
    "# X_test_norm = (X_test-1)/-1\n",
    "# print(X_test_norm.shape)"
   ]
  },
  {
   "cell_type": "code",
   "execution_count": 397,
   "id": "66480934",
   "metadata": {},
   "outputs": [],
   "source": [
    "intercept = np.ones((X_train.shape[0],1))\n",
    "X_train = np.concatenate((intercept, X_train), axis=1) # axis 1 is COLUMN\n",
    "\n",
    "intercept = np.ones((X_test.shape[0],1))\n",
    "X_test = np.concatenate((intercept, X_test), axis=1)"
   ]
  },
  {
   "cell_type": "code",
   "execution_count": 399,
   "id": "6adc2d9d",
   "metadata": {},
   "outputs": [
    {
     "data": {
      "text/plain": [
       "(354, 6)"
      ]
     },
     "execution_count": 399,
     "metadata": {},
     "output_type": "execute_result"
    }
   ],
   "source": [
    "X_train.shape"
   ]
  },
  {
   "cell_type": "code",
   "execution_count": 490,
   "id": "1e044c0a",
   "metadata": {},
   "outputs": [],
   "source": [
    "\n",
    "class LinearRegression:\n",
    "    def __init__(self, weight_init, method, loss_function='normal', alpha=0.001, max_iter=1000, mini_batch_size=20, lambdaa=0.05):\n",
    "        self.weight_init = weight_init\n",
    "        self.method = method\n",
    "        self.loss_function = loss_function\n",
    "        self.alpha = alpha\n",
    "        self.max_iter = max_iter\n",
    "        self.mini_batch = mini_batch_size\n",
    "        self.lambdaa = lambdaa\n",
    "    \n",
    "    def gradient_descent(self, X_train, y_train):\n",
    "        if self.weight_init == 'normal':\n",
    "            self.theta = np.random.normal(0, 1, X_train.shape[1])\n",
    "        elif self.weight_init == 'random':\n",
    "            self.theta = np.random.uniform(0, 1, X_train.shape[1])\n",
    "        elif self.weight_init == 'zero':\n",
    "            self.theta = np.zeros(X_train.shape[1])\n",
    "        else:\n",
    "            raise ValueError('WEIGHT INITIALIZATION MUST BE NORMAL/RANDOM/ZERO')\n",
    "#         print(self.theta)\n",
    "        \n",
    "        if self.method == \"batch\":\n",
    "            for i in range(self.max_iter):\n",
    "                yhat = self.h_theta(X_train)\n",
    "                if self.loss_function == 'normal':\n",
    "                    loss = self.mse(yhat, y_train)\n",
    "                    self.error = yhat - y_train\n",
    "                    grad = self.gradient(X_train, self.error)\n",
    "                    self.theta = self.theta - self.alpha*grad\n",
    "                elif self.loss_function == 'ridge':\n",
    "                    loss = self.ridge(yhat, y_train, self.lambdaa)\n",
    "                    self.error = yhat - y_train\n",
    "                    grad = self.gradient(X_train, self.error)\n",
    "                else:\n",
    "                    raise ValueError('LOSS FUNCTION MUST BE NORMAL/RIDGE')\n",
    "            print(\"MSE = \",loss)\n",
    "            \n",
    "        elif self.method == \"sto\": #WITHOUT replacement\n",
    "            sampled = []\n",
    "            for i in range(self.max_iter):\n",
    "                random_sample = random.randint(0, (len(X_train)-1))\n",
    "                if len(sampled) >= X_train.shape[1]:\n",
    "                    sampled = []\n",
    "                while random_sample in sampled:\n",
    "                    random_sample = random.randint(0, (len(X_train)-1))\n",
    "                else:\n",
    "                    sampled.append(random_sample)\n",
    "                X_train_sample = X_train[random_sample].reshape(1,-1)\n",
    "                self.yhat = h_theta(X_train_sample, self.theta)\n",
    "                self.error = self.yhat - y_train[random_sample]\n",
    "                self.grad = gradient(X_train_sample, self.error)\n",
    "                self.theta = self.theta - self.alpha*self.grad\n",
    "            loss = mse(self.yhat, y_train[random_sample])\n",
    "            print(\"MSE = \",loss)\n",
    "            \n",
    "        elif self.method == \"mini\":\n",
    "            count = 0 \n",
    "            for i in range(self.max_iter):\n",
    "                X_train_sample = X_train[count:count+self.mini_batch]\n",
    "                y_train_sample = y_train[count:count+self.mini_batch]\n",
    "                count += self.mini_batch\n",
    "                if count >= len(X_train):\n",
    "                    count = 0\n",
    "                self.yhat = h_theta(X_train_sample, self.theta)\n",
    "                self.error = self.yhat - y_train_sample\n",
    "                #print(X_train_sample.shape, \"AND\", self.error.shape)\n",
    "                self.grad = gradient(X_train_sample, self.error)\n",
    "                self.theta = self.theta - self.alpha*self.grad\n",
    "            loss = mse(self.yhat, y_train_sample)\n",
    "            print(\"MSE = \",loss)\n",
    "            \n",
    "        else:\n",
    "            raise ValueError('SAMPLING METHOD MUST BE BATCH/STO/MINI')\n",
    "            \n",
    "            \n",
    "        #self.yhat = h_theta(X_test, self.theta)\n",
    "        #self.mse = mse(self.yhat, y_test)\n",
    "\n",
    "    def h_theta(self, X):\n",
    "        return X @ self.theta\n",
    "\n",
    "    def mse(self, yhat, y):\n",
    "        return ((yhat - y)**2 / yhat.shape[0]).sum()\n",
    "\n",
    "    def ridge(self, yhat, y, lambdaa):\n",
    "        return ((yhat - y)**2 / yhat.shape[0]).sum() + lambdaa*((self.theta**2).sum())\n",
    "\n",
    "\n",
    "    def gradient(self, X, error):\n",
    "        return X.T @ error"
   ]
  },
  {
   "cell_type": "code",
   "execution_count": 491,
   "id": "66fa852f",
   "metadata": {
    "scrolled": false
   },
   "outputs": [
    {
     "name": "stdout",
     "output_type": "stream",
     "text": [
      "MSE =  26.74530084526102\n"
     ]
    }
   ],
   "source": [
    "boston = LinearRegression(method=\"batch\", weight_init='normal', max_iter = 1000)\n",
    "boston.gradient_descent(X_train, y_train)"
   ]
  },
  {
   "cell_type": "code",
   "execution_count": 492,
   "id": "c77424e9",
   "metadata": {},
   "outputs": [
    {
     "name": "stdout",
     "output_type": "stream",
     "text": [
      "MSE =  572.9315836976533\n"
     ]
    }
   ],
   "source": [
    "boston = LinearRegression(method=\"batch\", weight_init='normal', loss_function='ridge', max_iter = 1000)\n",
    "boston.gradient_descent(X_train, y_train)"
   ]
  },
  {
   "cell_type": "code",
   "execution_count": 449,
   "id": "0bc0f04b",
   "metadata": {},
   "outputs": [],
   "source": [
    "features = ['CRIM', 'RM', 'AGE', 'TAX', 'LSTAT','intercept']\n",
    "\n",
    "def feature_importance(theta, features):\n",
    "    thetas = sorted(theta)\n",
    "    print(thetas)\n",
    "    fig = plt.figure()\n",
    "    ax = fig.add_axes([0,0,1,1])\n",
    "    ax.bar(features, thetas)\n",
    "    plt.show()"
   ]
  },
  {
   "cell_type": "code",
   "execution_count": 450,
   "id": "6b01b57f",
   "metadata": {},
   "outputs": [
    {
     "name": "stdout",
     "output_type": "stream",
     "text": [
      "[-3.4397904834630384, -1.2849618155542486, -0.3123094296259856, 0.3219774837386034, 3.8336933662831196, 22.413498488600574]\n"
     ]
    },
    {
     "data": {
      "image/png": "[encoded data removed]",
      "text/plain": [
       "<Figure size 432x288 with 1 Axes>"
      ]
     },
     "metadata": {
      "needs_background": "light"
     },
     "output_type": "display_data"
    }
   ],
   "source": [
    "feature_importance(boston.theta, features)"
   ]
  },
  {
   "cell_type": "code",
   "execution_count": 453,
   "id": "bca4be39",
   "metadata": {},
   "outputs": [
    {
     "name": "stdout",
     "output_type": "stream",
     "text": [
      "MSE =  43.45938491838369\n",
      "[-3.3736588480197844, -1.3363574223162484, -0.33688522342595134, 0.2501921578468117, 3.897778597393789, 22.41237340829585]\n"
     ]
    },
    {
     "data": {
      "image/png": "[encoded data removed]",
      "text/plain": [
       "<Figure size 432x288 with 1 Axes>"
      ]
     },
     "metadata": {
      "needs_background": "light"
     },
     "output_type": "display_data"
    }
   ],
   "source": [
    "#CV\n",
    "boston1 = LinearRegression(method=\"mini\", weight_init='normal', max_iter = 1000)\n",
    "boston1.gradient_descent(X_train, y_train)\n",
    "feature_importance(boston1.theta, features)"
   ]
  },
  {
   "cell_type": "code",
   "execution_count": 495,
   "id": "c092d12a",
   "metadata": {},
   "outputs": [
    {
     "name": "stdout",
     "output_type": "stream",
     "text": [
      "MSE =  43.50500656998633\n",
      "[-3.3819833552333187, -1.3362867249446844, -0.335834149838091, 0.25457893545372445, 3.891939647281184, 22.41249539299483]\n"
     ]
    },
    {
     "data": {
      "image/png": "[encoded data removed]",
      "text/plain": [
       "<Figure size 432x288 with 1 Axes>"
      ]
     },
     "metadata": {
      "needs_background": "light"
     },
     "output_type": "display_data"
    }
   ],
   "source": [
    "boston2 = LinearRegression(method=\"mini\", weight_init='normal', loss_function='ridge', max_iter = 1000)\n",
    "boston2.gradient_descent(X_train, y_train)\n",
    "feature_importance(boston2.theta, features)"
   ]
  },
  {
   "cell_type": "code",
   "execution_count": 454,
   "id": "d9012984",
   "metadata": {},
   "outputs": [
    {
     "name": "stdout",
     "output_type": "stream",
     "text": [
      "MSE =  92.96148343738162\n",
      "[-2.3246845894262735, -1.7026367293660398, -0.35117766046800775, -0.21792931822528697, 2.857294030277019, 14.716516041833184]\n"
     ]
    },
    {
     "data": {
      "image/png": "[encoded data removed]",
      "text/plain": [
       "<Figure size 432x288 with 1 Axes>"
      ]
     },
     "metadata": {
      "needs_background": "light"
     },
     "output_type": "display_data"
    }
   ],
   "source": [
    "#CV\n",
    "boston3 = LinearRegression(method=\"sto\", weight_init='normal', max_iter = 1000)\n",
    "boston3.gradient_descent(X_train, y_train)\n",
    "feature_importance(boston3.theta, features)"
   ]
  },
  {
   "cell_type": "code",
   "execution_count": 494,
   "id": "31c0bd25",
   "metadata": {},
   "outputs": [
    {
     "name": "stdout",
     "output_type": "stream",
     "text": [
      "MSE =  20.537857032010205\n",
      "[-1.8888983292587966, -1.2524503162042886, -1.1667225753239021, 0.1835183308520224, 2.9053142991737486, 14.328578958869434]\n"
     ]
    },
    {
     "data": {
      "image/png": "[encoded data removed]",
      "text/plain": [
       "<Figure size 432x288 with 1 Axes>"
      ]
     },
     "metadata": {
      "needs_background": "light"
     },
     "output_type": "display_data"
    }
   ],
   "source": [
    "boston4 = LinearRegression(method=\"sto\", weight_init='normal', loss_function='ridge', max_iter = 1000)\n",
    "boston4.gradient_descent(X_train, y_train)\n",
    "feature_importance(boston4.theta, features)"
   ]
  },
  {
   "cell_type": "markdown",
   "id": "7362f2fb",
   "metadata": {},
   "source": [
    "#6 Communication\n"
   ]
  },
  {
   "cell_type": "markdown",
   "id": "b94c7081",
   "metadata": {},
   "source": []
  }
 ],
 "metadata": {
  "kernelspec": {
   "display_name": "Python 3 (ipykernel)",
   "language": "python",
   "name": "python3"
  },
  "language_info": {
   "codemirror_mode": {
    "name": "ipython",
    "version": 3
   },
   "file_extension": ".py",
   "mimetype": "text/x-python",
   "name": "python",
   "nbconvert_exporter": "python",
   "pygments_lexer": "ipython3",
   "version": "3.8.3"
  }
 },
 "nbformat": 4,
 "nbformat_minor": 5
}
