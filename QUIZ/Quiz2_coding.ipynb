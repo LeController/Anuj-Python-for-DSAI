{
 "cells": [
  {
   "cell_type": "markdown",
   "id": "marked-orchestra",
   "metadata": {},
   "source": [
    "## Quiz 2"
   ]
  },
  {
   "cell_type": "markdown",
   "id": "liked-silence",
   "metadata": {},
   "source": [
    "1. Generate a sample of 200 points from a 2D Gaussian with mean $\\mu_1 = \\begin{bmatrix} 3 \\\\ 3 \\end{bmatrix}$ and covariance $\\Sigma_1 = \\begin{bmatrix} 4 & 0 \\\\ 0 & 4 \\end{bmatrix}$ (1 point)\n",
    "\n",
    "Hint: np.random.multivariate_normal()"
   ]
  },
  {
   "cell_type": "code",
   "execution_count": 76,
   "id": "vanilla-tuning",
   "metadata": {},
   "outputs": [
    {
     "name": "stdout",
     "output_type": "stream",
     "text": [
      "(200, 2)\n",
      "[[ 3.57749891  2.33889594]\n",
      " [ 4.0928085   1.40444848]\n",
      " [ 4.20916766  4.62336669]\n",
      " [ 5.94198969  5.56678692]\n",
      " [ 7.03730798  2.26599181]\n",
      " [ 4.7363203   3.59807898]\n",
      " [ 4.19734829  2.47200384]\n",
      " [ 0.69547389  1.3142354 ]\n",
      " [ 0.20681627  2.97898571]\n",
      " [ 3.13154942  3.95431964]\n",
      " [ 2.83158004  3.38660291]\n",
      " [ 1.11432764  3.91863332]\n",
      " [ 4.83671313  5.89175993]\n",
      " [-0.99121489  2.9203537 ]\n",
      " [ 3.28905724  2.79910085]\n",
      " [ 3.72132065  2.26585271]\n",
      " [ 4.0017646  -1.7352066 ]\n",
      " [ 7.14797675  4.13354358]\n",
      " [ 3.86554798  4.61628002]\n",
      " [ 7.61388853  5.03041171]\n",
      " [ 1.89097077  3.54676445]\n",
      " [ 4.27758866  4.05644993]\n",
      " [ 5.11990148  1.83067797]\n",
      " [ 3.34993553  5.56217528]\n",
      " [ 1.06582922 -0.51030109]\n",
      " [ 2.58828929  0.66449339]\n",
      " [ 2.66884541  5.05073097]\n",
      " [ 3.8076252   2.23665714]\n",
      " [ 0.43597075  3.43591246]\n",
      " [ 1.21469666  1.35305023]\n",
      " [ 1.94623787  2.43478597]\n",
      " [ 1.43459118  2.78294819]\n",
      " [ 2.13107853  4.69995427]\n",
      " [ 2.40603852  0.41964617]\n",
      " [ 2.8773839   5.13257128]\n",
      " [ 5.61579763  1.94428897]\n",
      " [ 5.77935323  5.32095959]\n",
      " [-1.70497189  5.13792903]\n",
      " [-0.06049634  3.00333707]\n",
      " [ 1.38419485  4.55987822]\n",
      " [ 2.93892248 -2.20695347]\n",
      " [ 3.62545082  2.94021979]\n",
      " [ 3.28866334  4.65245483]\n",
      " [ 4.61549065  0.03369135]\n",
      " [ 6.5279107   4.81301998]\n",
      " [ 4.00148395  0.86622436]\n",
      " [ 5.07135751  4.5415204 ]\n",
      " [ 1.51236629  3.14736765]\n",
      " [ 1.62138164  1.97351041]\n",
      " [ 3.14626212  1.5746328 ]\n",
      " [-1.75566798  3.80133577]\n",
      " [ 3.52935497  5.07543846]\n",
      " [ 2.13280896  2.60011079]\n",
      " [ 5.50352864  2.26877941]\n",
      " [ 6.20318018  6.26344824]\n",
      " [ 0.69488012  4.47311259]\n",
      " [ 1.0686822   0.32611152]\n",
      " [ 2.68801641  5.4429907 ]\n",
      " [ 3.01719039  3.3106663 ]\n",
      " [ 4.03876323  6.42550287]\n",
      " [ 4.91638446  5.23392367]\n",
      " [-0.47019711  0.3348805 ]\n",
      " [-0.52800568  4.79488062]\n",
      " [ 1.13023253  4.80508118]\n",
      " [-0.5768957   5.74269437]\n",
      " [ 4.67149247  4.48785946]\n",
      " [ 0.92924262  3.02943195]\n",
      " [ 2.73239026  4.48032028]\n",
      " [ 2.02364861  1.19535174]\n",
      " [ 3.54532067  1.70268763]\n",
      " [ 1.6047226   2.11963687]\n",
      " [ 0.78810656  2.60012688]\n",
      " [ 5.16170271  4.99931679]\n",
      " [ 0.74481658  5.74576325]\n",
      " [ 3.72083381  3.12605975]\n",
      " [ 3.23684754  1.46655494]\n",
      " [ 3.27112316  2.27126732]\n",
      " [-0.23034248  5.72245637]\n",
      " [ 5.54475814  0.77511258]\n",
      " [ 1.6243666   1.72591263]\n",
      " [ 0.77214556  3.4161629 ]\n",
      " [ 1.31742384  1.69450747]\n",
      " [ 4.40623738  5.84408432]\n",
      " [ 3.82858774  4.8603406 ]\n",
      " [ 3.06876304  3.18524334]\n",
      " [ 5.01999553  2.75276008]\n",
      " [ 4.76425592  2.25898315]\n",
      " [ 5.12248221  1.91695539]\n",
      " [ 3.03167008  6.27516319]\n",
      " [ 4.10257673  5.25603689]\n",
      " [ 4.73763019  4.43582838]\n",
      " [-1.87339903  2.20139051]\n",
      " [ 4.28962704 -0.12771815]\n",
      " [ 3.42959158  5.34850457]\n",
      " [ 3.84200695  1.97212283]\n",
      " [ 0.55834315  0.91291489]\n",
      " [ 1.65874819  1.92600887]\n",
      " [ 2.43530001 -0.1957453 ]\n",
      " [ 1.89240164  2.90638651]\n",
      " [ 2.42099235  5.83469288]\n",
      " [ 7.86091362  5.03285883]\n",
      " [ 2.39369959  3.36832064]\n",
      " [ 2.79667887  2.53021376]\n",
      " [ 1.46240327  3.83599552]\n",
      " [-0.27927242  6.06765006]\n",
      " [ 5.00324426  3.1789363 ]\n",
      " [ 3.73629531 -0.20289695]\n",
      " [ 3.67429132  1.68258245]\n",
      " [ 1.32383839  0.74241301]\n",
      " [ 4.7626852   0.61642835]\n",
      " [ 2.93720206 -0.58544154]\n",
      " [ 3.4293688   5.32264539]\n",
      " [ 2.07559565  7.03810778]\n",
      " [ 5.55348258  3.62636307]\n",
      " [ 2.68312354  1.34093412]\n",
      " [ 0.33209958  5.42594013]\n",
      " [ 0.02297573 -2.37179558]\n",
      " [ 3.78962511  4.01362649]\n",
      " [ 3.82275779  2.54623381]\n",
      " [ 2.51166328  5.23314249]\n",
      " [ 0.28745361  4.38330978]\n",
      " [ 2.2928779   0.37743598]\n",
      " [ 0.96969474  5.88926517]\n",
      " [ 1.90985064  1.22182242]\n",
      " [ 4.76136987  6.2121446 ]\n",
      " [ 4.87804582  5.78644353]\n",
      " [ 1.00436498 -0.88120632]\n",
      " [ 1.09399578  2.58979036]\n",
      " [-0.40235437  7.08162382]\n",
      " [ 1.08742203  2.12582355]\n",
      " [ 4.19495497  4.20582197]\n",
      " [ 5.21089566  3.44306637]\n",
      " [ 3.36644356  1.60718756]\n",
      " [ 3.71357122  2.1421326 ]\n",
      " [ 2.16358218  2.59535591]\n",
      " [ 0.69883548  5.81601942]\n",
      " [ 7.04592264  4.98248751]\n",
      " [ 3.06131505  3.86236591]\n",
      " [ 2.22062076  2.8153254 ]\n",
      " [ 2.9111468   3.08197649]\n",
      " [ 2.10669488  3.90148366]\n",
      " [ 1.84507044 -0.3404872 ]\n",
      " [ 4.23365555 -1.07842786]\n",
      " [ 2.1241499   3.3698933 ]\n",
      " [ 1.89509019  5.58752758]\n",
      " [ 5.94129691  2.02597334]\n",
      " [ 2.8481753   0.98842008]\n",
      " [ 4.43790354  1.45178097]\n",
      " [ 3.99576809  1.72837868]\n",
      " [ 7.28391843  3.5696514 ]\n",
      " [ 6.41249214  5.11093578]\n",
      " [ 2.99719942  4.28649318]\n",
      " [ 3.5195823   4.39351523]\n",
      " [ 2.17032715  0.19889307]\n",
      " [-1.07224639  5.59802319]\n",
      " [ 6.89092479  2.52204643]\n",
      " [ 1.57987922  6.7520943 ]\n",
      " [ 1.26298897  0.72013515]\n",
      " [ 2.63780415  5.17678026]\n",
      " [ 0.23444778  3.03140434]\n",
      " [ 0.96905046  3.37659378]\n",
      " [ 2.01031319  0.68842549]\n",
      " [ 4.78852995  6.04190136]\n",
      " [ 6.21050918 -0.24911016]\n",
      " [ 1.9722297   5.43261882]\n",
      " [ 5.45704727  0.49219464]\n",
      " [ 3.3202937   3.13547821]\n",
      " [ 2.31951676  1.56020992]\n",
      " [ 0.66760479  5.96253349]\n",
      " [ 4.8413674   1.8366957 ]\n",
      " [ 2.79827106  6.96188195]\n",
      " [ 1.0890458   0.29617816]\n",
      " [ 5.90908975  0.16716483]\n",
      " [ 5.7502279   2.97664691]\n",
      " [ 5.83696699  0.99692516]\n",
      " [ 3.34220659  2.76321829]\n",
      " [ 4.90946244  2.50318876]\n",
      " [ 2.46160101  1.41938472]\n",
      " [ 5.45413313  0.22483128]\n",
      " [ 2.09635672  3.94595072]\n",
      " [ 0.9181144   2.02524839]\n",
      " [ 0.1727808   3.24015959]\n",
      " [ 4.66782949  3.50733969]\n",
      " [ 0.87986722 -1.182587  ]\n",
      " [ 1.32834477  3.45611987]\n",
      " [ 3.9430891   3.93726168]\n",
      " [ 3.2380048   4.84342812]\n",
      " [ 0.87592939  3.30495566]\n",
      " [ 0.91230076  3.62458306]\n",
      " [ 1.90448553  0.5366143 ]\n",
      " [ 1.32298446  0.96351925]\n",
      " [ 4.5863639   2.95346532]\n",
      " [ 4.7064283   4.95421996]\n",
      " [ 0.63201823 -1.76934588]\n",
      " [ 3.1748587   6.7871121 ]\n",
      " [ 3.85427102  7.44230907]\n",
      " [ 2.92306826 -2.58737655]\n",
      " [-0.0083656   3.33112227]\n",
      " [ 0.69518183  2.2636828 ]\n",
      " [ 3.50824163  5.72864125]]\n"
     ]
    }
   ],
   "source": [
    "import numpy as np\n",
    "u1 = np.array([3,3])\n",
    "E1 = np.array([[4,0],[0,4]])\n",
    "sample1 = np.random.multivariate_normal(u1, E1, 200)\n",
    "print(sample1.shape)\n",
    "print(sample1)"
   ]
  },
  {
   "cell_type": "markdown",
   "id": "planned-metro",
   "metadata": {},
   "source": [
    "2. Generate a second sample of 200 points from a 2D Gaussian with mean $\\mu_2 = \\begin{bmatrix} 5 \\\\ 5 \\end{bmatrix}$ and covariance $\\Sigma_2 = \\begin{bmatrix} 4  &  0 \\\\ 0 & 4 \\end{bmatrix}$. (1 point)\n"
   ]
  },
  {
   "cell_type": "code",
   "execution_count": 77,
   "id": "aggregate-damages",
   "metadata": {},
   "outputs": [],
   "source": [
    "# Your code here\n",
    "u2 = np.array([5,5])\n",
    "E2 = np.array([[4,0],[0,4]])\n",
    "sample2 = np.random.multivariate_normal(u2, E2, 200)"
   ]
  },
  {
   "cell_type": "markdown",
   "id": "entire-rapid",
   "metadata": {},
   "source": [
    "3. Assuming the first set of points is class 0 and the second set of points is class 1, plot the data in separate plots with different colors for each class below. (1 point)"
   ]
  },
  {
   "cell_type": "code",
   "execution_count": 78,
   "id": "loaded-friday",
   "metadata": {},
   "outputs": [
    {
     "data": {
      "text/plain": [
       "<matplotlib.collections.PathCollection at 0x22adc05c610>"
      ]
     },
     "execution_count": 78,
     "metadata": {},
     "output_type": "execute_result"
    },
    {
     "data": {
      "image/png": "[encoded data removed]",
      "text/plain": [
       "<Figure size 432x288 with 1 Axes>"
      ]
     },
     "metadata": {
      "needs_background": "light"
     },
     "output_type": "display_data"
    }
   ],
   "source": [
    "# Your code here\n",
    "import matplotlib as mpl\n",
    "import matplotlib.pyplot as plt\n",
    "plt.scatter(sample1[:,0], sample1[:,1], c='red')"
   ]
  },
  {
   "cell_type": "code",
   "execution_count": 79,
   "id": "635ff6d0",
   "metadata": {},
   "outputs": [
    {
     "data": {
      "text/plain": [
       "<matplotlib.collections.PathCollection at 0x22adc0c54c0>"
      ]
     },
     "execution_count": 79,
     "metadata": {},
     "output_type": "execute_result"
    },
    {
     "data": {
      "image/png": "[encoded data removed]",
      "text/plain": [
       "<Figure size 432x288 with 1 Axes>"
      ]
     },
     "metadata": {
      "needs_background": "light"
     },
     "output_type": "display_data"
    }
   ],
   "source": [
    "plt.scatter(sample2[:,0], sample2[:,1], c='green')"
   ]
  },
  {
   "cell_type": "markdown",
   "id": "surprising-trust",
   "metadata": {},
   "source": [
    "4. StandardScale your data and Split to training, validation and testing sets with the ratio of 70:10:20. You may use train_test_split from sklearn or from-scratch. Any of your choosing will do. (2 points)"
   ]
  },
  {
   "cell_type": "code",
   "execution_count": 80,
   "id": "perfect-ebony",
   "metadata": {},
   "outputs": [],
   "source": [
    "# Your code here\n",
    "from sklearn.preprocessing import StandardScaler\n",
    "from sklearn.model_selection import train_test_split\n",
    "\n",
    "\n",
    "scaler = StandardScaler()\n",
    "sample1 = scaler.fit_transform(sample1)\n",
    "\n",
    "intercept = np.ones((sample1.shape[0],1))\n",
    "X = np.concatenate((intercept, sample1), axis=1)\n",
    "\n",
    "X_train1, X_test1, y_train1, y_test1 = train_test_split(X[:,0],X[:,1],train_size=0.7, test_size=0.2)"
   ]
  },
  {
   "cell_type": "markdown",
   "id": "chemical-syndication",
   "metadata": {},
   "source": [
    "5. Perform a classification using logistic regression using LogisticRegression class you have written (hopefully you submitted the assignments). This should be **stochastically** trained. Make sure to plot your training loss during the training. (2 points)"
   ]
  },
  {
   "cell_type": "code",
   "execution_count": 84,
   "id": "suspected-chicago",
   "metadata": {},
   "outputs": [],
   "source": [
    "class LogisticRegression:\n",
    "    def __init__(self, alpha=0.001, max_iter=1000, method=\"sto\"):\n",
    "        self.alpha = alpha\n",
    "        self.max_iter = max_iter\n",
    "        self.method = method\n",
    "        \n",
    "    def logistic_regression_GD(self, X, Y):\n",
    "        self.W = np.random.rand(X.shape[1], Y.shape[1])\n",
    "        self.losses = []\n",
    "        # Calculate time taken\n",
    "        start_time = time.time()\n",
    "        \n",
    "        if self.method == \"sto\":\n",
    "            print(\"STO METHOD\")\n",
    "            sampled = []\n",
    "            for i in range(self.max_iter):\n",
    "                random_sample = random.randint(0, len(X))\n",
    "                while random_sample in sampled:\n",
    "                    random_sample = random.randint(0, len(X))\n",
    "                if len(sampled) >= len(X):\n",
    "                    sampled = []\n",
    "                else:\n",
    "                    sampled.append(random_sample)\n",
    "                X_train_sample = X[random_sample-1, :].reshape(1,-1)\n",
    "                Y_train_sample = Y[random_sample-1]\n",
    "                cost, grad = self.gradient(X_train_sample, Y_train_sample)\n",
    "                self.losses.append(cost)\n",
    "                self.W = self.W - self.alpha*grad\n",
    "                if i % 1000 == 0:\n",
    "                    print(f\"Cost at iteration {i}\", cost)\n",
    "            print(\"Final thetas:\\n\", self.W, \" at iteration:\", i)\n",
    "            print(\"Time taken:\", time.time()-start_time,\"s\")\n",
    "        \n",
    "        else:\n",
    "            raise ValueError\n",
    "\n",
    "    def gradient(self, X, Y):\n",
    "        m = X.shape[0]\n",
    "        h = self.h_theta(X, self.W)\n",
    "        cost = - np.sum(Y * np.log(h)) / m\n",
    "        error = h - Y\n",
    "        grad = self.softmax_grad(X, error)\n",
    "        return cost, grad\n",
    "\n",
    "    def h_theta(self, X, W):\n",
    "        return self.softmax(X @ W)\n",
    "\n",
    "    def softmax(self, theta_t_x):\n",
    "        return np.exp(theta_t_x) / np.sum(np.exp(theta_t_x), axis=1, keepdims=True)\n",
    "\n",
    "    def softmax_grad(self, X, error):\n",
    "        return  X.T @ error\n",
    "    \n",
    "    def plot(self):\n",
    "        plt.plot(np.arange(len(self.losses)) , self.losses, label = \"Train Losses\")\n",
    "        plt.title(\"Training Losses as Number of iters increases\")\n",
    "        plt.xlabel(\"Epoch\")\n",
    "        plt.ylabel(\"costs\")\n",
    "        plt.legend()\n",
    "        \n",
    "    def yhat(self, X_test):\n",
    "        return np.argmax((self.h_theta(X_test, self.W)), axis=1)"
   ]
  },
  {
   "cell_type": "code",
   "execution_count": 85,
   "id": "8c8982fa",
   "metadata": {},
   "outputs": [
    {
     "ename": "IndexError",
     "evalue": "tuple index out of range",
     "output_type": "error",
     "traceback": [
      "\u001b[1;31m---------------------------------------------------------------------------\u001b[0m",
      "\u001b[1;31mIndexError\u001b[0m                                Traceback (most recent call last)",
      "\u001b[1;32m~\\AppData\\Local\\Temp/ipykernel_36620/148854564.py\u001b[0m in \u001b[0;36m<module>\u001b[1;34m\u001b[0m\n\u001b[0;32m      1\u001b[0m \u001b[0mmodel1\u001b[0m \u001b[1;33m=\u001b[0m \u001b[0mLogisticRegression\u001b[0m\u001b[1;33m(\u001b[0m\u001b[1;33m)\u001b[0m\u001b[1;33m\u001b[0m\u001b[1;33m\u001b[0m\u001b[0m\n\u001b[1;32m----> 2\u001b[1;33m \u001b[0mmodel1\u001b[0m\u001b[1;33m.\u001b[0m\u001b[0mlogistic_regression_GD\u001b[0m\u001b[1;33m(\u001b[0m\u001b[0mX_train\u001b[0m\u001b[1;33m,\u001b[0m \u001b[0my_train\u001b[0m\u001b[1;33m)\u001b[0m\u001b[1;33m\u001b[0m\u001b[1;33m\u001b[0m\u001b[0m\n\u001b[0m",
      "\u001b[1;32m~\\AppData\\Local\\Temp/ipykernel_36620/2598861007.py\u001b[0m in \u001b[0;36mlogistic_regression_GD\u001b[1;34m(self, X, Y)\u001b[0m\n\u001b[0;32m      6\u001b[0m \u001b[1;33m\u001b[0m\u001b[0m\n\u001b[0;32m      7\u001b[0m     \u001b[1;32mdef\u001b[0m \u001b[0mlogistic_regression_GD\u001b[0m\u001b[1;33m(\u001b[0m\u001b[0mself\u001b[0m\u001b[1;33m,\u001b[0m \u001b[0mX\u001b[0m\u001b[1;33m,\u001b[0m \u001b[0mY\u001b[0m\u001b[1;33m)\u001b[0m\u001b[1;33m:\u001b[0m\u001b[1;33m\u001b[0m\u001b[1;33m\u001b[0m\u001b[0m\n\u001b[1;32m----> 8\u001b[1;33m         \u001b[0mself\u001b[0m\u001b[1;33m.\u001b[0m\u001b[0mW\u001b[0m \u001b[1;33m=\u001b[0m \u001b[0mnp\u001b[0m\u001b[1;33m.\u001b[0m\u001b[0mrandom\u001b[0m\u001b[1;33m.\u001b[0m\u001b[0mrand\u001b[0m\u001b[1;33m(\u001b[0m\u001b[0mX\u001b[0m\u001b[1;33m.\u001b[0m\u001b[0mshape\u001b[0m\u001b[1;33m[\u001b[0m\u001b[1;36m1\u001b[0m\u001b[1;33m]\u001b[0m\u001b[1;33m,\u001b[0m \u001b[0mY\u001b[0m\u001b[1;33m.\u001b[0m\u001b[0mshape\u001b[0m\u001b[1;33m[\u001b[0m\u001b[1;36m1\u001b[0m\u001b[1;33m]\u001b[0m\u001b[1;33m)\u001b[0m\u001b[1;33m\u001b[0m\u001b[1;33m\u001b[0m\u001b[0m\n\u001b[0m\u001b[0;32m      9\u001b[0m         \u001b[0mself\u001b[0m\u001b[1;33m.\u001b[0m\u001b[0mlosses\u001b[0m \u001b[1;33m=\u001b[0m \u001b[1;33m[\u001b[0m\u001b[1;33m]\u001b[0m\u001b[1;33m\u001b[0m\u001b[1;33m\u001b[0m\u001b[0m\n\u001b[0;32m     10\u001b[0m         \u001b[1;31m# Calculate time taken\u001b[0m\u001b[1;33m\u001b[0m\u001b[1;33m\u001b[0m\u001b[1;33m\u001b[0m\u001b[0m\n",
      "\u001b[1;31mIndexError\u001b[0m: tuple index out of range"
     ]
    }
   ],
   "source": [
    "model1 = LogisticRegression()\n",
    "model1.logistic_regression_GD(X_train, y_train)"
   ]
  },
  {
   "cell_type": "markdown",
   "id": "linear-princeton",
   "metadata": {},
   "source": [
    "6. Evalutate your model using your **from-scratch classification reports**. (1 point)"
   ]
  },
  {
   "cell_type": "code",
   "execution_count": 6,
   "id": "honest-plant",
   "metadata": {},
   "outputs": [],
   "source": [
    "# Your code here\n"
   ]
  },
  {
   "cell_type": "markdown",
   "id": "separate-mistake",
   "metadata": {},
   "source": [
    "7. Now, perform GNB using sklearn and use **classification_reports from sklearn** to evaluate your model. (1 point)"
   ]
  },
  {
   "cell_type": "code",
   "execution_count": 7,
   "id": "close-airline",
   "metadata": {},
   "outputs": [],
   "source": [
    "# Your code here\n"
   ]
  },
  {
   "cell_type": "markdown",
   "id": "periodic-memorabilia",
   "metadata": {},
   "source": [
    "8. In Q4, you were asked to set aside some data as your validation set. Notice that we have not used it at all. If we were to use it, how would you go about this? (1 point)"
   ]
  },
  {
   "cell_type": "code",
   "execution_count": null,
   "id": "wrong-sharing",
   "metadata": {},
   "outputs": [],
   "source": [
    "# Your answer here"
   ]
  },
  {
   "cell_type": "markdown",
   "id": "streaming-customs",
   "metadata": {},
   "source": [
    "9. **Discuss** your results (DISCUSS NOT REPORT). (2 points)\n",
    "\n",
    "Examples: which one is better, why? and why not?. The nature of data? which model is more suitable? How to improve your results? "
   ]
  },
  {
   "cell_type": "code",
   "execution_count": 8,
   "id": "unlike-tsunami",
   "metadata": {},
   "outputs": [],
   "source": [
    "# Your DISCUSSION here"
   ]
  }
 ],
 "metadata": {
  "kernelspec": {
   "display_name": "Python 3 (ipykernel)",
   "language": "python",
   "name": "python3"
  },
  "language_info": {
   "codemirror_mode": {
    "name": "ipython",
    "version": 3
   },
   "file_extension": ".py",
   "mimetype": "text/x-python",
   "name": "python",
   "nbconvert_exporter": "python",
   "pygments_lexer": "ipython3",
   "version": "3.8.3"
  }
 },
 "nbformat": 4,
 "nbformat_minor": 5
}
