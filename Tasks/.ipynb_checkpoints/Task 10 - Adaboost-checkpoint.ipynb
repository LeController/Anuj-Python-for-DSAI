{
 "cells": [
  {
   "cell_type": "code",
   "execution_count": 48,
   "id": "a74e43f2",
   "metadata": {},
   "outputs": [],
   "source": [
    "from sklearn.datasets import make_classification\n",
    "from sklearn.model_selection import train_test_split\n",
    "import numpy as np\n",
    "from sklearn.metrics import classification_report\n",
    "\n",
    "X, y = make_classification(n_samples=500, random_state=1)\n",
    "# because hypothesis function takes the sign, must change to -1, 1\n",
    "y = np.where(y==0, -1, 1)  #change our y to be -1 if it is 0, otherwise 1\n",
    "# print(y)\n",
    "\n",
    "X_train, X_test, y_train, y_test = train_test_split(\n",
    "    X, y, test_size=0.3, random_state=42)"
   ]
  },
  {
   "cell_type": "code",
   "execution_count": 52,
   "id": "01872015",
   "metadata": {},
   "outputs": [],
   "source": [
    "class DecisionStump():\n",
    "    def __init__(self):\n",
    "        # Determines whether threshold should be evaluated as < or >\n",
    "        self.polarity = 1 # will check both signs\n",
    "        self.feature_index = None\n",
    "        self.threshold = None\n",
    "        # Voting power of the stump\n",
    "        self.alpha = None"
   ]
  },
  {
   "cell_type": "code",
   "execution_count": 59,
   "id": "d706916b",
   "metadata": {},
   "outputs": [],
   "source": [
    "class AdaBoost():\n",
    "    def __init__(self, S=5, eta=0.75):\n",
    "        self.S = S # classifiers\n",
    "        #Task 2\n",
    "        self.eta = eta # the constant in front of a\n",
    "        \n",
    "    def fit(self, X, y):\n",
    "        m, n = X.shape\n",
    "        \n",
    "        #initially, we set our weight to 1/m\n",
    "        W = np.full(m, 1/m)\n",
    "                \n",
    "        #list of classifiers\n",
    "        self.clfs = []\n",
    "        \n",
    "        for s in range(self.S):\n",
    "            clf = DecisionStump()\n",
    "            \n",
    "            #set initial minimum error to infinity so at least the first stump is identified\n",
    "            min_err = np.inf\n",
    "            \n",
    "            #previously we don't need to do this\n",
    "            #NO LONGER GINI INDEX, use weighted\n",
    "            #since sklearn learn does it\n",
    "            #but now we have to loop all features, all threshold\n",
    "            #and all polarity to find the minimum weighted errors\n",
    "            for feature in range(n):\n",
    "                feature_vals = np.unique(X[:, feature])\n",
    "                thresholds = (feature_vals[:-1] + feature_vals[1:])/2 #(everything but the last + everything but the first)/2\n",
    "#                 print(thresholds)\n",
    "                for threshold in thresholds:\n",
    "                    #Task 3\n",
    "                    for polarity in [1, -1]:\n",
    "                        yhat = np.ones(len(y)) # initialize to 1\n",
    "                        yhat[polarity * X[:, feature] < polarity * threshold] = -1  #polarity=1 rule\n",
    "                        err = W[(yhat != y)].sum()\n",
    "                        \n",
    "                        #save the best stump\n",
    "                        if err < min_err:\n",
    "                            clf.polarity = polarity\n",
    "                            clf.threshold = threshold\n",
    "                            clf.feature_index = feature\n",
    "                            min_err = err\n",
    "                            \n",
    "            #once we know which is the best stump\n",
    "            #we calculate its alpha, and reweight samples\n",
    "            eps = 1e-10 #Task 1\n",
    "            clf.alpha = self.eta * (np.log ((1 - min_err) / (min_err + eps)))            \n",
    "            W = W * np.exp(-clf.alpha * y * yhat)\n",
    "            W = W / sum (W)\n",
    "            \n",
    "            #save clf\n",
    "            self.clfs.append(clf)\n",
    "                        \n",
    "    def predict(self, X):\n",
    "        m, n = X.shape\n",
    "        yhat = np.zeros(m)\n",
    "        for clf in self.clfs:\n",
    "            pred = np.ones(m) #set all to 1\n",
    "            pred[clf.polarity * X[:, clf.feature_index] < clf.polarity * clf.threshold] = -1  #polarity=1 rule\n",
    "            yhat += clf.alpha * pred\n",
    "\n",
    "        return np.sign(yhat)"
   ]
  },
  {
   "cell_type": "code",
   "execution_count": 60,
   "id": "f75ef00a",
   "metadata": {},
   "outputs": [
    {
     "name": "stdout",
     "output_type": "stream",
     "text": [
      "              precision    recall  f1-score   support\n",
      "\n",
      "          -1       0.72      0.99      0.83        79\n",
      "           1       0.98      0.56      0.71        71\n",
      "\n",
      "    accuracy                           0.79       150\n",
      "   macro avg       0.85      0.78      0.77       150\n",
      "weighted avg       0.84      0.79      0.78       150\n",
      "\n"
     ]
    }
   ],
   "source": [
    "model = AdaBoost(S=20)\n",
    "model.fit(X_train, y_train)\n",
    "yhat = model.predict(X_test)\n",
    "print(classification_report(y_test, yhat))"
   ]
  },
  {
   "cell_type": "code",
   "execution_count": 61,
   "id": "2d72ba0f",
   "metadata": {},
   "outputs": [
    {
     "name": "stdout",
     "output_type": "stream",
     "text": [
      "              precision    recall  f1-score   support\n",
      "\n",
      "          -1       0.72      0.99      0.83        79\n",
      "           1       0.98      0.56      0.71        71\n",
      "\n",
      "    accuracy                           0.79       150\n",
      "   macro avg       0.85      0.78      0.77       150\n",
      "weighted avg       0.84      0.79      0.78       150\n",
      "\n"
     ]
    }
   ],
   "source": [
    "#Changing eta between 0-1 doesn't make much differnce\n",
    "model = AdaBoost(S=20, eta=0.2)\n",
    "model.fit(X_train, y_train)\n",
    "yhat = model.predict(X_test)\n",
    "print(classification_report(y_test, yhat))"
   ]
  },
  {
   "cell_type": "code",
   "execution_count": 62,
   "id": "e419ff0a",
   "metadata": {},
   "outputs": [
    {
     "name": "stdout",
     "output_type": "stream",
     "text": [
      "              precision    recall  f1-score   support\n",
      "\n",
      "          -1       0.72      0.99      0.83        79\n",
      "           1       0.98      0.56      0.71        71\n",
      "\n",
      "    accuracy                           0.79       150\n",
      "   macro avg       0.85      0.78      0.77       150\n",
      "weighted avg       0.84      0.79      0.78       150\n",
      "\n"
     ]
    }
   ],
   "source": [
    "#Changing eta between 0-1 doesn't make much differnce\n",
    "model = AdaBoost(S=20, eta=1)\n",
    "model.fit(X_train, y_train)\n",
    "yhat = model.predict(X_test)\n",
    "print(classification_report(y_test, yhat))"
   ]
  },
  {
   "cell_type": "code",
   "execution_count": 65,
   "id": "d5639b5c",
   "metadata": {},
   "outputs": [
    {
     "name": "stdout",
     "output_type": "stream",
     "text": [
      "              precision    recall  f1-score   support\n",
      "\n",
      "          -1       0.53      1.00      0.69        79\n",
      "           1       0.00      0.00      0.00        71\n",
      "\n",
      "    accuracy                           0.53       150\n",
      "   macro avg       0.26      0.50      0.34       150\n",
      "weighted avg       0.28      0.53      0.36       150\n",
      "\n"
     ]
    },
    {
     "name": "stderr",
     "output_type": "stream",
     "text": [
      "c:\\users\\anujg\\appdata\\local\\programs\\python\\python38\\lib\\site-packages\\sklearn\\metrics\\_classification.py:1248: UndefinedMetricWarning: Precision and F-score are ill-defined and being set to 0.0 in labels with no predicted samples. Use `zero_division` parameter to control this behavior.\n",
      "  _warn_prf(average, modifier, msg_start, len(result))\n",
      "c:\\users\\anujg\\appdata\\local\\programs\\python\\python38\\lib\\site-packages\\sklearn\\metrics\\_classification.py:1248: UndefinedMetricWarning: Precision and F-score are ill-defined and being set to 0.0 in labels with no predicted samples. Use `zero_division` parameter to control this behavior.\n",
      "  _warn_prf(average, modifier, msg_start, len(result))\n",
      "c:\\users\\anujg\\appdata\\local\\programs\\python\\python38\\lib\\site-packages\\sklearn\\metrics\\_classification.py:1248: UndefinedMetricWarning: Precision and F-score are ill-defined and being set to 0.0 in labels with no predicted samples. Use `zero_division` parameter to control this behavior.\n",
      "  _warn_prf(average, modifier, msg_start, len(result))\n"
     ]
    }
   ],
   "source": [
    "# eta=2 breaks it\n",
    "model = AdaBoost(S=20, eta=2)\n",
    "model.fit(X_train, y_train)\n",
    "yhat = model.predict(X_test)\n",
    "print(classification_report(y_test, yhat))"
   ]
  },
  {
   "cell_type": "code",
   "execution_count": null,
   "id": "e7640ab9",
   "metadata": {},
   "outputs": [],
   "source": []
  }
 ],
 "metadata": {
  "kernelspec": {
   "display_name": "Python 3 (ipykernel)",
   "language": "python",
   "name": "python3"
  },
  "language_info": {
   "codemirror_mode": {
    "name": "ipython",
    "version": 3
   },
   "file_extension": ".py",
   "mimetype": "text/x-python",
   "name": "python",
   "nbconvert_exporter": "python",
   "pygments_lexer": "ipython3",
   "version": "3.8.3"
  }
 },
 "nbformat": 4,
 "nbformat_minor": 5
}
