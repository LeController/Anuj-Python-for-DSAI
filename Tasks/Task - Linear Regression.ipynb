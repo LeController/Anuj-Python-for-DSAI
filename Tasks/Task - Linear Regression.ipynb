{
 "cells": [
  {
   "cell_type": "code",
   "execution_count": 1,
   "id": "f815427c-e205-4a09-99eb-86204f403529",
   "metadata": {},
   "outputs": [],
   "source": [
    "# if error < tol: # MSE in yhat and y is less than some threshold\n",
    "#     break\n",
    "\n",
    "import numpy as np\n",
    "from sklearn.datasets import load_boston\n",
    "from sklearn.preprocessing import StandardScaler\n",
    "from sklearn.model_selection import train_test_split\n",
    "\n",
    "boston = load_boston()\n",
    "X = boston.data\n",
    "y = boston.target\n",
    "scaler = StandardScaler()\n",
    "X = scaler.fit_transform(X)\n",
    "\n",
    "X_train, X_test, y_train, y_test = train_test_split(X,y,test_size=0.3)\n",
    "\n",
    "intercept = np.ones((X_train.shape[0],1))\n",
    "X_train = np.concatenate((intercept, X_train), axis=1) # axis 1 is COLUMN"
   ]
  },
  {
   "cell_type": "code",
   "execution_count": 2,
   "id": "707296f2-69b9-491c-804a-5fc1f976a976",
   "metadata": {},
   "outputs": [],
   "source": [
    "intercept = np.ones((X_test.shape[0],1))\n",
    "X_test = np.concatenate((intercept, X_test), axis=1)"
   ]
  },
  {
   "cell_type": "code",
   "execution_count": 3,
   "id": "59e285c5-10e9-468a-aa49-f93ec31f313a",
   "metadata": {},
   "outputs": [
    {
     "name": "stdout",
     "output_type": "stream",
     "text": [
      "(152,)\n",
      "(152,)\n",
      "[25.25986846 39.76111867 28.44843866 32.33508408]\n",
      "[25.3 21.9 28.  31.1]\n"
     ]
    }
   ],
   "source": [
    "from numpy.linalg import inv # inverse matrix\n",
    "\n",
    "def closed_form(X, y):\n",
    "    return inv(X.T @ X) @ X.T @ y\n",
    "\n",
    "theta = closed_form(X_train, y_train)\n",
    "#print(theta)\n",
    "yhat = X_test @ theta # multiply testing dataset with weights (yhat = predicted y)\n",
    "\n",
    "print(yhat.shape)\n",
    "print(y_test.shape)\n",
    "print(yhat[56:60])\n",
    "print(y_test[56:60])"
   ]
  },
  {
   "cell_type": "code",
   "execution_count": 4,
   "id": "d93e4d75-2d2a-4278-a857-297eb6d4f759",
   "metadata": {},
   "outputs": [
    {
     "data": {
      "text/plain": [
       "22.633570222300364"
      ]
     },
     "execution_count": 4,
     "metadata": {},
     "output_type": "execute_result"
    }
   ],
   "source": [
    "mse = ((y_test - yhat)**2).sum()/X_test.shape[0]\n",
    "mse"
   ]
  },
  {
   "cell_type": "code",
   "execution_count": null,
   "id": "e008350e-55ee-44f1-abde-016089d1e4cb",
   "metadata": {},
   "outputs": [],
   "source": []
  },
  {
   "cell_type": "code",
   "execution_count": null,
   "id": "2afdfd82-93a5-4b3d-b9cd-b153999ccc5b",
   "metadata": {},
   "outputs": [],
   "source": []
  }
 ],
 "metadata": {
  "kernelspec": {
   "display_name": "pythonDSAI",
   "language": "python",
   "name": "pythondsai"
  },
  "language_info": {
   "codemirror_mode": {
    "name": "ipython",
    "version": 3
   },
   "file_extension": ".py",
   "mimetype": "text/x-python",
   "name": "python",
   "nbconvert_exporter": "python",
   "pygments_lexer": "ipython3",
   "version": "3.8.3"
  }
 },
 "nbformat": 4,
 "nbformat_minor": 5
}
