{
 "cells": [
  {
   "cell_type": "code",
   "execution_count": 158,
   "id": "cf051ec7",
   "metadata": {},
   "outputs": [],
   "source": [
    "from sklearn.tree import DecisionTreeRegressor\n",
    "from sklearn.dummy import DummyRegressor\n",
    "import numpy as np\n",
    "\n",
    "class GradientBoosting:\n",
    "    def __init__(self, S, learning_rate=1, max_depth=1, min_samples_split=2, regression=True):\n",
    "        self.S = S\n",
    "        self.learning_rate = learning_rate\n",
    "        self.max_depth = max_depth\n",
    "        self.min_samples_split = min_samples_split\n",
    "        self.regression=regression\n",
    "            \n",
    "        #initialize regression trees\n",
    "        tree_params = {'max_depth': self.max_depth,'min_samples_split': self.min_samples_split}\n",
    "        \n",
    "        self.models = [DecisionTreeRegressor(**tree_params) for _ in range(S)]        \n",
    "        first_model = DummyRegressor(strategy='mean')\n",
    "        self.models.insert(0, first_model)\n",
    "        \n",
    "    def grad(self, y, h):\n",
    "        return y - h\n",
    "    \n",
    "    def fit(self, X, y):  #<----X_train\n",
    "        \n",
    "        #fit the first model (DUMMY regressor)\n",
    "#         print('self.model[0]:', self.models[0])\n",
    "#         print('self.model[1]:', self.models[1])\n",
    "        self.models[0].fit(X, y)\n",
    "        #fit the remaining models (decision tree regressors)\n",
    "        for i in range(self.S):\n",
    "            #predict\n",
    "            yhat = self.predict(X, self.models[:i+1], with_argmax=False)\n",
    "#             print('\\n',i)\n",
    "#             print('yhat:',yhat[:5])\n",
    "#             print('y_train:', y_train[:5])\n",
    "            #get the gradient\n",
    "            gradient = self.grad(y, yhat)\n",
    "#             print('gradient:',gradient[:5])\n",
    "            \n",
    "            #fit the next model with gradient\n",
    "            self.models[i+1].fit(X, gradient)\n",
    "    \n",
    "    def predict(self, X, models=None, with_argmax=True):\n",
    "        if models is None:\n",
    "            models = self.models\n",
    "        h0 = models[0].predict(X)  #first use the dummy model\n",
    "        boosting = sum(self.learning_rate * model.predict(X) for model in models[1:])\n",
    "        yhat = h0 + boosting\n",
    "        if not self.regression:\n",
    "            #turn into probability using softmax\n",
    "            yhat = np.exp(yhat) / np.sum(np.exp(yhat), axis=1, keepdims=True)\n",
    "            if with_argmax:\n",
    "                yhat = np.argmax(yhat, axis=1)\n",
    "        return yhat"
   ]
  },
  {
   "cell_type": "code",
   "execution_count": 159,
   "id": "ec5e7895",
   "metadata": {},
   "outputs": [],
   "source": [
    "from sklearn.model_selection import train_test_split\n",
    "from sklearn.datasets import load_boston\n",
    "from sklearn.metrics import mean_squared_error\n",
    "\n",
    "X, y = load_boston(return_X_y=True)\n",
    "X_train, X_test, y_train, y_test = train_test_split(X, y, test_size=0.3, random_state=42)"
   ]
  },
  {
   "cell_type": "code",
   "execution_count": 160,
   "id": "810b6888",
   "metadata": {
    "scrolled": false
   },
   "outputs": [
    {
     "name": "stdout",
     "output_type": "stream",
     "text": [
      "MSE:  7.756576788918892\n"
     ]
    }
   ],
   "source": [
    "# Regression Model\n",
    "modelRegression = GradientBoosting(S=100, learning_rate=0.1, max_depth = 3, min_samples_split = 2,\n",
    "                 regression=True)\n",
    "modelRegression.fit(X_train, y_train)\n",
    "yhat = modelRegression.predict(X_test)\n",
    "\n",
    "print(\"MSE: \", mean_squared_error(y_test, yhat))"
   ]
  },
  {
   "cell_type": "code",
   "execution_count": 161,
   "id": "751fa3d5",
   "metadata": {},
   "outputs": [
    {
     "name": "stdout",
     "output_type": "stream",
     "text": [
      "Accuracy:  95.90643274853801\n"
     ]
    }
   ],
   "source": [
    "# Binary Classification model\n",
    "from sklearn.datasets import load_breast_cancer\n",
    "from sklearn.metrics import accuracy_score\n",
    "\n",
    "X, y = load_breast_cancer(return_X_y=True)\n",
    "m, n = X_train.shape\n",
    "k = len(np.unique(y))\n",
    "\n",
    "X_train, X_test, y_train, y_test = train_test_split(X, y, test_size=0.3, random_state=42)\n",
    "# binary encoding eg {1,0} for 0, {0,1} for 1\n",
    "y_train_encoded = np.zeros((y_train.shape[0], k))\n",
    "# print(y_train_encoded.shape)\n",
    "for _class in range(0, k):\n",
    "    cond = y_train==_class\n",
    "    y_train_encoded[np.where(cond), _class] = 1\n",
    "    \n",
    "modelBinary = GradientBoosting(S=10, learning_rate=0.1, max_depth = 3, min_samples_split = 2, regression=False)\n",
    "modelBinary.fit(X_train, y_train_encoded)\n",
    "yhat = modelBinary.predict(X_test)\n",
    "\n",
    "print(\"Accuracy: \", accuracy_score(y_test, yhat)*100)"
   ]
  },
  {
   "cell_type": "code",
   "execution_count": 162,
   "id": "8409a09e",
   "metadata": {
    "scrolled": true
   },
   "outputs": [
    {
     "name": "stdout",
     "output_type": "stream",
     "text": [
      "Accuracy:  93.14814814814815\n"
     ]
    }
   ],
   "source": [
    "# Multinomial Classification Model\n",
    "from sklearn.datasets import load_iris\n",
    "\n",
    "X, y = load_digits(return_X_y=True)\n",
    "\n",
    "X_train, X_test, y_train, y_test = train_test_split(X, y, test_size=0.3, random_state=42)\n",
    "y_train_encoded = np.zeros((y_train.shape[0], len(set(y))))\n",
    "for each_class in range(len(set(y))):\n",
    "    cond = y_train==each_class\n",
    "    y_train_encoded[np.where(cond), each_class] = 1\n",
    "\n",
    "modelMultinomial = GradientBoosting(S=200,learning_rate=0.1,max_depth=3,min_samples_split=2,regression=False)\n",
    "modelMultinomial.fit(X_train, y_train_encoded)\n",
    "yhat = modelMultinomial.predict(X_test)\n",
    "\n",
    "# #print metrics\n",
    "print(\"Accuracy: \", accuracy_score(y_test, yhat)*100)"
   ]
  }
 ],
 "metadata": {
  "kernelspec": {
   "display_name": "Python 3 (ipykernel)",
   "language": "python",
   "name": "python3"
  },
  "language_info": {
   "codemirror_mode": {
    "name": "ipython",
    "version": 3
   },
   "file_extension": ".py",
   "mimetype": "text/x-python",
   "name": "python",
   "nbconvert_exporter": "python",
   "pygments_lexer": "ipython3",
   "version": "3.8.3"
  }
 },
 "nbformat": 4,
 "nbformat_minor": 5
}
