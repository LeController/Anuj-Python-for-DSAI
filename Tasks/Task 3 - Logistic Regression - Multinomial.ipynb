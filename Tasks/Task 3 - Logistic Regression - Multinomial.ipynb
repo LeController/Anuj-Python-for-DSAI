{
 "cells": [
  {
   "cell_type": "code",
   "execution_count": 23,
   "id": "e0694cbf",
   "metadata": {
    "scrolled": true
   },
   "outputs": [
    {
     "name": "stdout",
     "output_type": "stream",
     "text": [
      "(105, 2)\n",
      "(45, 2)\n",
      "(105,)\n",
      "(45,)\n"
     ]
    }
   ],
   "source": [
    "import warnings\n",
    "warnings.filterwarnings('ignore')\n",
    "from sklearn import datasets\n",
    "from sklearn.preprocessing import StandardScaler\n",
    "from sklearn.metrics import classification_report\n",
    "import numpy as np\n",
    "import matplotlib.pyplot as plt\n",
    "import random, time\n",
    "\n",
    "# import some data to play with\n",
    "iris = datasets.load_iris()\n",
    "X = iris.data[:, 2:]  # we only take the first two features.\n",
    "y = iris.target  #now our y is three classes thus require multinomial\n",
    "\n",
    "# print(X.shape)\n",
    "# print(y.shape)\n",
    "\n",
    "scaler = StandardScaler()\n",
    "X = scaler.fit_transform(X)\n",
    "\n",
    "# Intiially tried to split X and y but not randomly (didnt work)\n",
    "'''\n",
    "test_size=0.3 \n",
    "\n",
    "X_train = X[:int((1-test_size)*X.shape[0])]\n",
    "X_test = X[int((1-test_size)*X.shape[0]):]\n",
    "y_train = y[:int((1-test_size)*y.shape[0])]\n",
    "y_test = y[int((1-test_size)*y.shape[0]):]\n",
    "'''\n",
    "\n",
    "# random train/test splitting\n",
    "test_size=0.3 \n",
    "list_of_m = np.arange(0,X.shape[0],1)\n",
    "np.random.shuffle(list_of_m)\n",
    "random_train = list_of_m[0:int((1-test_size)*X.shape[0])]\n",
    "random_test = list_of_m[len(random_train):len(list_of_m)]\n",
    "\n",
    "X_train = X[random_train]\n",
    "X_test = X[random_test]\n",
    "y_train = y[random_train]\n",
    "y_test = y[random_test]\n",
    "\n",
    "print(X_train.shape)\n",
    "print(X_test.shape)\n",
    "print(y_train.shape)\n",
    "print(y_test.shape)\n",
    "\n",
    "# add intercept to our X\n",
    "intercept = np.ones((X_train.shape[0], 1))\n",
    "X_train   = np.concatenate((intercept, X_train), axis=1)  #add intercept\n",
    "intercept = np.ones((X_test.shape[0], 1))\n",
    "X_test    = np.concatenate((intercept, X_test), axis=1)  #add intercept\n",
    "\n",
    "k = len(np.unique(y))\n",
    "m = X_train.shape[0]\n",
    "n = X_train.shape[1]\n",
    "Y_train_encoded = np.zeros((m, k))\n",
    "# print(\"Y_train encoded shape:\",Y_train_encoded.shape)\n",
    "for each_class in range(k):\n",
    "    cond = y_train==each_class\n",
    "    Y_train_encoded[np.where(cond), each_class] = 1\n",
    "\n",
    "# print(Y_train_encoded)"
   ]
  },
  {
   "cell_type": "code",
   "execution_count": 24,
   "id": "7ab5a473",
   "metadata": {},
   "outputs": [
    {
     "data": {
      "image/png": "[encoded data removed]",
      "text/plain": [
       "<Figure size 432x432 with 1 Axes>"
      ]
     },
     "metadata": {
      "needs_background": "light"
     },
     "output_type": "display_data"
    }
   ],
   "source": [
    "plt.figure(figsize=(6,6))\n",
    "plt.scatter(X[:, 0], X[:, 1], label='class 0', c=y)\n",
    "plt.show()"
   ]
  },
  {
   "cell_type": "code",
   "execution_count": 25,
   "id": "7fd00626",
   "metadata": {},
   "outputs": [],
   "source": [
    "class LogisticRegression:\n",
    "    def __init__(self, alpha=0.001, max_iter=1000, method=\"batch\"):\n",
    "        self.alpha = alpha\n",
    "        self.max_iter = max_iter\n",
    "        self.method = method\n",
    "        \n",
    "    def logistic_regression_GD(self, X, Y):\n",
    "        self.W = np.random.rand(X.shape[1], Y.shape[1])\n",
    "        self.losses = []\n",
    "        # Calculate time taken\n",
    "        start_time = time.time()\n",
    "        \n",
    "        if self.method == \"batch\":\n",
    "            print(\"BATCH METHOD\")\n",
    "            for i in range(self.max_iter):\n",
    "                cost, grad = self.gradient(X, Y)\n",
    "                self.losses.append(cost)\n",
    "                self.W = self.W - self.alpha*grad  \n",
    "                if i % 1000 == 0:\n",
    "                    print(f\"Cost at iteration {i}\", cost)\n",
    "            print(\"Final thetas:\\n\", self.W, \" at iteration:\", i)\n",
    "            print(\"Time taken:\", time.time()-start_time,\"s\")\n",
    "            \n",
    "        elif self.method == \"sto\":\n",
    "            print(\"STO METHOD\")\n",
    "            sampled = []\n",
    "            for i in range(self.max_iter):\n",
    "                random_sample = random.randint(0, len(X))\n",
    "                while random_sample in sampled:\n",
    "                    random_sample = random.randint(0, len(X))\n",
    "                if len(sampled) >= len(X):\n",
    "                    sampled = []\n",
    "                else:\n",
    "                    sampled.append(random_sample)\n",
    "                X_train_sample = X[random_sample-1, :].reshape(1,-1)\n",
    "                Y_train_sample = Y[random_sample-1]\n",
    "                cost, grad = self.gradient(X_train_sample, Y_train_sample)\n",
    "                self.losses.append(cost)\n",
    "                self.W = self.W - self.alpha*grad\n",
    "                if i % 1000 == 0:\n",
    "                    print(f\"Cost at iteration {i}\", cost)\n",
    "            print(\"Final thetas:\\n\", self.W, \" at iteration:\", i)\n",
    "            print(\"Time taken:\", time.time()-start_time,\"s\")\n",
    "            \n",
    "        elif self.method == \"mini\":\n",
    "            print(\"MINIBATCH METHOD\")\n",
    "            self.mini_batch = 10\n",
    "            count = 0 \n",
    "            for i in range(self.max_iter):\n",
    "                X_train_batch = X[count:count+self.mini_batch]\n",
    "                Y_train_batch = Y[count:count+self.mini_batch]\n",
    "                count += self.mini_batch\n",
    "                if count >= len(X):\n",
    "                    count = 0\n",
    "                cost, grad = self.gradient(X_train_batch, Y_train_batch)\n",
    "                self.losses.append(cost)\n",
    "                self.W = self.W - self.alpha*grad\n",
    "                if i % 1000 == 0:\n",
    "                    print(f\"Cost at iteration {i}\", cost)\n",
    "            print(\"Final thetas:\\n\", self.W, \" at iteration:\", i)\n",
    "            print(\"Time taken:\", time.time()-start_time,\"s\")\n",
    "\n",
    "        else:\n",
    "            raise ValueError\n",
    "\n",
    "    def gradient(self, X, Y):\n",
    "        m = X.shape[0]\n",
    "        h = self.h_theta(X, self.W)\n",
    "        cost = - np.sum(Y * np.log(h)) / m\n",
    "        error = h - Y\n",
    "        grad = self.softmax_grad(X, error)\n",
    "        return cost, grad\n",
    "\n",
    "    def h_theta(self, X, W):\n",
    "        return self.softmax(X @ W)\n",
    "\n",
    "    def softmax(self, theta_t_x):\n",
    "        return np.exp(theta_t_x) / np.sum(np.exp(theta_t_x), axis=1, keepdims=True)\n",
    "\n",
    "    def softmax_grad(self, X, error):\n",
    "        return  X.T @ error\n",
    "    \n",
    "    def plot(self):\n",
    "        plt.plot(np.arange(len(self.losses)) , self.losses, label = \"Train Losses\")\n",
    "        plt.title(\"Training Losses as Number of iters increases\")\n",
    "        plt.xlabel(\"Epoch\")\n",
    "        plt.ylabel(\"costs\")\n",
    "        plt.legend()\n",
    "        \n",
    "    def yhat(self, X_test):\n",
    "        return np.argmax((self.h_theta(X_test, self.W)), axis=1)"
   ]
  },
  {
   "cell_type": "code",
   "execution_count": 26,
   "id": "ab97fbd1",
   "metadata": {},
   "outputs": [
    {
     "name": "stdout",
     "output_type": "stream",
     "text": [
      "BATCH METHOD\n",
      "Cost at iteration 0 1.2178393384042303\n",
      "Cost at iteration 1000 0.14019602031375356\n",
      "Cost at iteration 2000 0.11247046060346269\n",
      "Cost at iteration 3000 0.10192679866439598\n",
      "Cost at iteration 4000 0.09628607955086792\n",
      "Cost at iteration 5000 0.09277045562044796\n",
      "Cost at iteration 6000 0.09038082333549237\n",
      "Cost at iteration 7000 0.08866321232342009\n",
      "Cost at iteration 8000 0.08737940480042786\n",
      "Cost at iteration 9000 0.0863915674399366\n",
      "Final thetas:\n",
      " [[-0.40511199  5.08173682 -2.78808389]\n",
      " [-5.09566977  0.18150582  6.68088194]\n",
      " [-3.968249   -0.09206667  6.11466653]]  at iteration: 9999\n",
      "Time taken: 0.3272976875305176 s\n",
      "REPORT:               precision    recall  f1-score   support\n",
      "\n",
      "           0       1.00      1.00      1.00        15\n",
      "           1       0.92      1.00      0.96        12\n",
      "           2       1.00      0.94      0.97        18\n",
      "\n",
      "    accuracy                           0.98        45\n",
      "   macro avg       0.97      0.98      0.98        45\n",
      "weighted avg       0.98      0.98      0.98        45\n",
      "\n"
     ]
    },
    {
     "data": {
      "image/png": "[encoded data removed]",
      "text/plain": [
       "<Figure size 432x288 with 1 Axes>"
      ]
     },
     "metadata": {
      "needs_background": "light"
     },
     "output_type": "display_data"
    }
   ],
   "source": [
    "iris1 = LogisticRegression(alpha=0.001, max_iter=10000,method=\"batch\")\n",
    "iris1.logistic_regression_GD(X_train, Y_train_encoded)\n",
    "iris1.plot()\n",
    "yhat1 = iris1.yhat(X_test)\n",
    "print(\"REPORT:\", classification_report(y_test, yhat1))"
   ]
  },
  {
   "cell_type": "code",
   "execution_count": 27,
   "id": "052bc83e",
   "metadata": {},
   "outputs": [
    {
     "name": "stdout",
     "output_type": "stream",
     "text": [
      "STO METHOD\n",
      "Cost at iteration 0 1.7868939708673683\n",
      "Cost at iteration 1000 0.6343941650112978\n",
      "Cost at iteration 2000 0.738733423853829\n",
      "Cost at iteration 3000 0.8473607628276857\n",
      "Cost at iteration 4000 0.7938608069412005\n",
      "Cost at iteration 5000 0.8225613181178296\n",
      "Cost at iteration 6000 0.32579557182133223\n",
      "Cost at iteration 7000 0.682732131127544\n",
      "Cost at iteration 8000 0.7194306429718724\n",
      "Cost at iteration 9000 0.3402545691421102\n",
      "Final thetas:\n",
      " [[ 0.25767164  1.3099625   0.47052457]\n",
      " [-0.63402503  0.88041842  1.44993803]\n",
      " [-0.72074327  0.3810104   1.43053688]]  at iteration: 9999\n",
      "Time taken: 0.32681918144226074 s\n",
      "REPORT:               precision    recall  f1-score   support\n",
      "\n",
      "           0       1.00      1.00      1.00        15\n",
      "           1       1.00      1.00      1.00        12\n",
      "           2       1.00      1.00      1.00        18\n",
      "\n",
      "    accuracy                           1.00        45\n",
      "   macro avg       1.00      1.00      1.00        45\n",
      "weighted avg       1.00      1.00      1.00        45\n",
      "\n"
     ]
    },
    {
     "data": {
      "image/png": "[encoded data removed]",
      "text/plain": [
       "<Figure size 432x288 with 1 Axes>"
      ]
     },
     "metadata": {
      "needs_background": "light"
     },
     "output_type": "display_data"
    }
   ],
   "source": [
    "iris2 = LogisticRegression(alpha=0.001, max_iter=10000,method=\"sto\")\n",
    "iris2.logistic_regression_GD(X_train, Y_train_encoded)\n",
    "iris2.plot()\n",
    "yhat2 = iris2.yhat(X_test)\n",
    "print(\"REPORT:\", classification_report(y_test, yhat2))"
   ]
  },
  {
   "cell_type": "code",
   "execution_count": 28,
   "id": "9d5c24b0",
   "metadata": {},
   "outputs": [
    {
     "name": "stdout",
     "output_type": "stream",
     "text": [
      "MINIBATCH METHOD\n",
      "Cost at iteration 0 0.9023442895369378\n",
      "Cost at iteration 1000 0.38157782574942106\n",
      "Cost at iteration 2000 0.2964576151730155\n",
      "Cost at iteration 3000 0.24472961269163487\n",
      "Cost at iteration 4000 0.1475474443938008\n",
      "Cost at iteration 5000 0.2977309388075008\n",
      "Cost at iteration 6000 0.11415526679807989\n",
      "Cost at iteration 7000 0.12872714715842676\n",
      "Cost at iteration 8000 0.18561798460151296\n",
      "Cost at iteration 9000 0.22047976207213166\n",
      "Final thetas:\n",
      " [[-0.59544521  2.33882974 -1.21723663]\n",
      " [-2.12709568  1.17563556  3.24884537]\n",
      " [-2.05574448 -0.08027562  3.68767864]]  at iteration: 9999\n",
      "Time taken: 0.24489212036132812 s\n",
      "REPORT:               precision    recall  f1-score   support\n",
      "\n",
      "           0       1.00      1.00      1.00        15\n",
      "           1       0.92      1.00      0.96        12\n",
      "           2       1.00      0.94      0.97        18\n",
      "\n",
      "    accuracy                           0.98        45\n",
      "   macro avg       0.97      0.98      0.98        45\n",
      "weighted avg       0.98      0.98      0.98        45\n",
      "\n"
     ]
    },
    {
     "data": {
      "image/png": "[encoded data removed]",
      "text/plain": [
       "<Figure size 432x288 with 1 Axes>"
      ]
     },
     "metadata": {
      "needs_background": "light"
     },
     "output_type": "display_data"
    }
   ],
   "source": [
    "iris3 = LogisticRegression(alpha=0.001, max_iter=10000, method=\"mini\")\n",
    "iris3.logistic_regression_GD(X_train, Y_train_encoded)\n",
    "iris3.plot()\n",
    "yhat3 = iris3.yhat(X_test)\n",
    "print(\"REPORT:\", classification_report(y_test, yhat3))"
   ]
  },
  {
   "cell_type": "code",
   "execution_count": 29,
   "id": "0541a6b6",
   "metadata": {},
   "outputs": [
    {
     "ename": "ValueError",
     "evalue": "",
     "output_type": "error",
     "traceback": [
      "\u001b[1;31m---------------------------------------------------------------------------\u001b[0m",
      "\u001b[1;31mValueError\u001b[0m                                Traceback (most recent call last)",
      "\u001b[1;32m~\\AppData\\Local\\Temp/ipykernel_25320/37039113.py\u001b[0m in \u001b[0;36m<module>\u001b[1;34m\u001b[0m\n\u001b[0;32m      1\u001b[0m \u001b[0miris4\u001b[0m \u001b[1;33m=\u001b[0m \u001b[0mLogisticRegression\u001b[0m\u001b[1;33m(\u001b[0m\u001b[0malpha\u001b[0m\u001b[1;33m=\u001b[0m\u001b[1;36m0.001\u001b[0m\u001b[1;33m,\u001b[0m \u001b[0mmax_iter\u001b[0m\u001b[1;33m=\u001b[0m\u001b[1;36m10000\u001b[0m\u001b[1;33m,\u001b[0m \u001b[0mmethod\u001b[0m\u001b[1;33m=\u001b[0m\u001b[1;34m\"blah blah\"\u001b[0m\u001b[1;33m)\u001b[0m\u001b[1;33m\u001b[0m\u001b[1;33m\u001b[0m\u001b[0m\n\u001b[1;32m----> 2\u001b[1;33m \u001b[0miris4\u001b[0m\u001b[1;33m.\u001b[0m\u001b[0mlogistic_regression_GD\u001b[0m\u001b[1;33m(\u001b[0m\u001b[0mX_train\u001b[0m\u001b[1;33m,\u001b[0m \u001b[0mY_train_encoded\u001b[0m\u001b[1;33m)\u001b[0m\u001b[1;33m\u001b[0m\u001b[1;33m\u001b[0m\u001b[0m\n\u001b[0m",
      "\u001b[1;32m~\\AppData\\Local\\Temp/ipykernel_25320/687023049.py\u001b[0m in \u001b[0;36mlogistic_regression_GD\u001b[1;34m(self, X, Y)\u001b[0m\n\u001b[0;32m     62\u001b[0m \u001b[1;33m\u001b[0m\u001b[0m\n\u001b[0;32m     63\u001b[0m         \u001b[1;32melse\u001b[0m\u001b[1;33m:\u001b[0m\u001b[1;33m\u001b[0m\u001b[1;33m\u001b[0m\u001b[0m\n\u001b[1;32m---> 64\u001b[1;33m             \u001b[1;32mraise\u001b[0m \u001b[0mValueError\u001b[0m\u001b[1;33m\u001b[0m\u001b[1;33m\u001b[0m\u001b[0m\n\u001b[0m\u001b[0;32m     65\u001b[0m \u001b[1;33m\u001b[0m\u001b[0m\n\u001b[0;32m     66\u001b[0m     \u001b[1;32mdef\u001b[0m \u001b[0mgradient\u001b[0m\u001b[1;33m(\u001b[0m\u001b[0mself\u001b[0m\u001b[1;33m,\u001b[0m \u001b[0mX\u001b[0m\u001b[1;33m,\u001b[0m \u001b[0mY\u001b[0m\u001b[1;33m)\u001b[0m\u001b[1;33m:\u001b[0m\u001b[1;33m\u001b[0m\u001b[1;33m\u001b[0m\u001b[0m\n",
      "\u001b[1;31mValueError\u001b[0m: "
     ]
    }
   ],
   "source": [
    "iris4 = LogisticRegression(alpha=0.001, max_iter=10000, method=\"blah blah\")\n",
    "iris4.logistic_regression_GD(X_train, Y_train_encoded)"
   ]
  },
  {
   "cell_type": "markdown",
   "id": "ad5b35ed",
   "metadata": {},
   "source": [
    "------------ Discussion -------------\n",
    "\n",
    "In terms of time taken, the batch method always takes the longest time to compute. This is because batch simply utilizes the entire training set and thus, has to run through a lot of data for just one iteration. Normally, the stochastic method would take the shortest time to run but in the case of my code, minibatch was executed the fastest. This is likely because of the extra time required to generate a random variable in the range of len(X) for the stochastic method for each iteration. \n",
    "\n",
    "The batch method leads to the lowest value for training losses, at just 0.086 by the 9000th iteration, again, this is because it uses the most data in the training process. Conversely, the stochastic method has the worst convergence and only reaches 0.34 by the 9000th iteration with major fluctuations throughout. The minibatch method has a good convergence but tends to fluctuate after reaching a certain point."
   ]
  }
 ],
 "metadata": {
  "kernelspec": {
   "display_name": "Python 3 (ipykernel)",
   "language": "python",
   "name": "python3"
  },
  "language_info": {
   "codemirror_mode": {
    "name": "ipython",
    "version": 3
   },
   "file_extension": ".py",
   "mimetype": "text/x-python",
   "name": "python",
   "nbconvert_exporter": "python",
   "pygments_lexer": "ipython3",
   "version": "3.8.3"
  }
 },
 "nbformat": 4,
 "nbformat_minor": 5
}
